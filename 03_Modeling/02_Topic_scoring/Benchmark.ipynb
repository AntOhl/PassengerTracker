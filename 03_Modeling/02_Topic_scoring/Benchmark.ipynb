{
 "cells": [
  {
   "cell_type": "code",
   "execution_count": 1,
   "metadata": {},
   "outputs": [],
   "source": [
    "import pandas as pd\n",
    "import numpy as np"
   ]
  },
  {
   "cell_type": "code",
   "execution_count": 2,
   "metadata": {},
   "outputs": [],
   "source": [
    "bench = pd.read_csv('df_grouped_company_class_haul.csv')"
   ]
  },
  {
   "cell_type": "code",
   "execution_count": 3,
   "metadata": {},
   "outputs": [],
   "source": [
    "bench = bench[bench.Company.isin(['Air France','Singapore Airlines','Lufthansa','British Airways','Cathay Pacific'])]"
   ]
  },
  {
   "cell_type": "code",
   "execution_count": 4,
   "metadata": {},
   "outputs": [],
   "source": [
    "bench_lh = bench[bench['Flight Length'] == 'Long-Haul']\n",
    "bench_mh = bench[bench['Flight Length'] == 'Mid-Haul']\n",
    "bench_sh = bench[bench['Flight Length'] == 'Short-Haul']"
   ]
  },
  {
   "cell_type": "code",
   "execution_count": 5,
   "metadata": {},
   "outputs": [],
   "source": [
    "bench_lh_e = bench_lh[bench_lh['Class'] == 'Economy Class']\n",
    "bench_lh_pe = bench_lh[bench_lh['Class'] == 'Premium Economy']\n",
    "bench_lh_b = bench_lh[bench_lh['Class'] == 'Business Class']\n",
    "bench_lh_f = bench_lh[bench_lh['Class'] == 'First Class']"
   ]
  },
  {
   "cell_type": "code",
   "execution_count": 6,
   "metadata": {},
   "outputs": [],
   "source": [
    "bench_mh_e = bench_mh[bench_mh['Class'] == 'Economy Class']\n",
    "bench_mh_pe = bench_mh[bench_mh['Class'] == 'Premium Economy']\n",
    "bench_mh_b = bench_mh[bench_mh['Class'] == 'Business Class']\n",
    "bench_mh_f = bench_mh[bench_mh['Class'] == 'First Class']"
   ]
  },
  {
   "cell_type": "code",
   "execution_count": 7,
   "metadata": {},
   "outputs": [],
   "source": [
    "bench_sh_e = bench_sh[bench_sh['Class'] == 'Economy Class']\n",
    "bench_sh_pe = bench_sh[bench_sh['Class'] == 'Premium Economy']\n",
    "bench_sh_b = bench_sh[bench_sh['Class'] == 'Business Class']\n",
    "bench_sh_f = bench_sh[bench_sh['Class'] == 'First Class']"
   ]
  },
  {
   "cell_type": "code",
   "execution_count": 8,
   "metadata": {},
   "outputs": [],
   "source": [
    "cols = ['Cabin Staff Service', 'Food & Beverages', 'Ground Service', 'Inflight Entertainment', 'Seat Comfort']"
   ]
  },
  {
   "cell_type": "code",
   "execution_count": 9,
   "metadata": {},
   "outputs": [],
   "source": [
    "def getAvg(df):\n",
    "    df.reset_index(drop=True, inplace=True)\n",
    "    df.loc['Industrial Average'] = df[cols].mean()\n",
    "    return df"
   ]
  },
  {
   "cell_type": "code",
   "execution_count": 10,
   "metadata": {},
   "outputs": [],
   "source": [
    "def AvgDif(df):\n",
    "    cols = ['Cabin Staff Service', 'Food & Beverages', 'Ground Service', 'Inflight Entertainment', 'Seat Comfort']\n",
    "    size = df.shape[0]\n",
    "    for i in range(size-1):\n",
    "        for col in cols:\n",
    "            df.loc[i, col] = df.loc[i, col] - df.loc['Industrial Average', col]\n",
    "    return df"
   ]
  },
  {
   "cell_type": "code",
   "execution_count": 11,
   "metadata": {},
   "outputs": [
    {
     "data": {
      "text/html": [
       "<div>\n",
       "<style scoped>\n",
       "    .dataframe tbody tr th:only-of-type {\n",
       "        vertical-align: middle;\n",
       "    }\n",
       "\n",
       "    .dataframe tbody tr th {\n",
       "        vertical-align: top;\n",
       "    }\n",
       "\n",
       "    .dataframe thead th {\n",
       "        text-align: right;\n",
       "    }\n",
       "</style>\n",
       "<table border=\"1\" class=\"dataframe\">\n",
       "  <thead>\n",
       "    <tr style=\"text-align: right;\">\n",
       "      <th></th>\n",
       "      <th>Unnamed: 0</th>\n",
       "      <th>Class</th>\n",
       "      <th>Flight Length</th>\n",
       "      <th>Company</th>\n",
       "      <th>Cabin Staff Service</th>\n",
       "      <th>Food &amp; Beverages</th>\n",
       "      <th>Ground Service</th>\n",
       "      <th>Inflight Entertainment</th>\n",
       "      <th>Seat Comfort</th>\n",
       "    </tr>\n",
       "  </thead>\n",
       "  <tbody>\n",
       "    <tr>\n",
       "      <th>9</th>\n",
       "      <td>9</td>\n",
       "      <td>Business Class</td>\n",
       "      <td>Long-Haul</td>\n",
       "      <td>Air France</td>\n",
       "      <td>4.187500</td>\n",
       "      <td>3.785714</td>\n",
       "      <td>1.809821</td>\n",
       "      <td>3.750000</td>\n",
       "      <td>3.901786</td>\n",
       "    </tr>\n",
       "    <tr>\n",
       "      <th>19</th>\n",
       "      <td>19</td>\n",
       "      <td>Business Class</td>\n",
       "      <td>Long-Haul</td>\n",
       "      <td>British Airways</td>\n",
       "      <td>4.258333</td>\n",
       "      <td>3.833333</td>\n",
       "      <td>1.905000</td>\n",
       "      <td>3.825000</td>\n",
       "      <td>4.116667</td>\n",
       "    </tr>\n",
       "    <tr>\n",
       "      <th>21</th>\n",
       "      <td>21</td>\n",
       "      <td>Business Class</td>\n",
       "      <td>Long-Haul</td>\n",
       "      <td>Cathay Pacific</td>\n",
       "      <td>4.277778</td>\n",
       "      <td>3.916667</td>\n",
       "      <td>2.197222</td>\n",
       "      <td>4.400000</td>\n",
       "      <td>4.738889</td>\n",
       "    </tr>\n",
       "    <tr>\n",
       "      <th>52</th>\n",
       "      <td>52</td>\n",
       "      <td>Business Class</td>\n",
       "      <td>Long-Haul</td>\n",
       "      <td>Lufthansa</td>\n",
       "      <td>4.111111</td>\n",
       "      <td>3.583333</td>\n",
       "      <td>1.952778</td>\n",
       "      <td>3.777778</td>\n",
       "      <td>3.652778</td>\n",
       "    </tr>\n",
       "    <tr>\n",
       "      <th>66</th>\n",
       "      <td>66</td>\n",
       "      <td>Business Class</td>\n",
       "      <td>Long-Haul</td>\n",
       "      <td>Singapore Airlines</td>\n",
       "      <td>4.453488</td>\n",
       "      <td>4.156977</td>\n",
       "      <td>2.169767</td>\n",
       "      <td>4.348837</td>\n",
       "      <td>4.465116</td>\n",
       "    </tr>\n",
       "  </tbody>\n",
       "</table>\n",
       "</div>"
      ],
      "text/plain": [
       "    Unnamed: 0           Class Flight Length             Company  \\\n",
       "9            9  Business Class     Long-Haul          Air France   \n",
       "19          19  Business Class     Long-Haul     British Airways   \n",
       "21          21  Business Class     Long-Haul      Cathay Pacific   \n",
       "52          52  Business Class     Long-Haul           Lufthansa   \n",
       "66          66  Business Class     Long-Haul  Singapore Airlines   \n",
       "\n",
       "    Cabin Staff Service  Food & Beverages  Ground Service  \\\n",
       "9              4.187500          3.785714        1.809821   \n",
       "19             4.258333          3.833333        1.905000   \n",
       "21             4.277778          3.916667        2.197222   \n",
       "52             4.111111          3.583333        1.952778   \n",
       "66             4.453488          4.156977        2.169767   \n",
       "\n",
       "    Inflight Entertainment  Seat Comfort  \n",
       "9                 3.750000      3.901786  \n",
       "19                3.825000      4.116667  \n",
       "21                4.400000      4.738889  \n",
       "52                3.777778      3.652778  \n",
       "66                4.348837      4.465116  "
      ]
     },
     "execution_count": 11,
     "metadata": {},
     "output_type": "execute_result"
    }
   ],
   "source": [
    "bench.head()"
   ]
  },
  {
   "cell_type": "code",
   "execution_count": 239,
   "metadata": {},
   "outputs": [],
   "source": [
    "df_1 = getAvg(bench)"
   ]
  },
  {
   "cell_type": "code",
   "execution_count": 240,
   "metadata": {},
   "outputs": [],
   "source": [
    "df_2 = AvgDif(df_1)"
   ]
  },
  {
   "cell_type": "code",
   "execution_count": 12,
   "metadata": {},
   "outputs": [
    {
     "name": "stderr",
     "output_type": "stream",
     "text": [
      "/usr/local/lib/python3.5/dist-packages/pandas/core/indexing.py:205: SettingWithCopyWarning: \n",
      "A value is trying to be set on a copy of a slice from a DataFrame\n",
      "\n",
      "See the caveats in the documentation: http://pandas.pydata.org/pandas-docs/stable/user_guide/indexing.html#returning-a-view-versus-a-copy\n",
      "  self._setitem_with_indexer(indexer, value)\n"
     ]
    }
   ],
   "source": [
    "bench_lh_e = getAvg(bench_lh_e)\n",
    "bench_lh_pe = getAvg(bench_lh_pe)\n",
    "bench_lh_b = getAvg(bench_lh_b)\n",
    "bench_lh_f = getAvg(bench_lh_f)"
   ]
  },
  {
   "cell_type": "code",
   "execution_count": 16,
   "metadata": {},
   "outputs": [
    {
     "name": "stderr",
     "output_type": "stream",
     "text": [
      "/usr/local/lib/python3.5/dist-packages/pandas/core/indexing.py:494: SettingWithCopyWarning: \n",
      "A value is trying to be set on a copy of a slice from a DataFrame.\n",
      "Try using .loc[row_indexer,col_indexer] = value instead\n",
      "\n",
      "See the caveats in the documentation: http://pandas.pydata.org/pandas-docs/stable/user_guide/indexing.html#returning-a-view-versus-a-copy\n",
      "  self.obj[item] = s\n"
     ]
    }
   ],
   "source": [
    "bench_lh_e = AvgDif(bench_lh_e)\n",
    "bench_lh_pe = AvgDif(bench_lh_pe)\n",
    "bench_lh_b = AvgDif(bench_lh_b)\n",
    "bench_lh_f = AvgDif(bench_lh_f)"
   ]
  },
  {
   "cell_type": "code",
   "execution_count": 17,
   "metadata": {},
   "outputs": [],
   "source": [
    "bench_mh_e = AvgDif(bench_mh_e)\n",
    "bench_mh_pe = AvgDif(bench_mh_pe)\n",
    "bench_mh_b = AvgDif(bench_mh_b)\n",
    "bench_mh_f = AvgDif(bench_mh_f)"
   ]
  },
  {
   "cell_type": "code",
   "execution_count": 18,
   "metadata": {},
   "outputs": [],
   "source": [
    "bench_sh_e = AvgDif(bench_sh_e)\n",
    "bench_sh_pe = AvgDif(bench_sh_pe)\n",
    "bench_sh_b = AvgDif(bench_sh_b)\n",
    "bench_sh_f = AvgDif(bench_sh_f)"
   ]
  },
  {
   "cell_type": "code",
   "execution_count": 20,
   "metadata": {},
   "outputs": [
    {
     "data": {
      "text/html": [
       "<div>\n",
       "<style scoped>\n",
       "    .dataframe tbody tr th:only-of-type {\n",
       "        vertical-align: middle;\n",
       "    }\n",
       "\n",
       "    .dataframe tbody tr th {\n",
       "        vertical-align: top;\n",
       "    }\n",
       "\n",
       "    .dataframe thead th {\n",
       "        text-align: right;\n",
       "    }\n",
       "</style>\n",
       "<table border=\"1\" class=\"dataframe\">\n",
       "  <thead>\n",
       "    <tr style=\"text-align: right;\">\n",
       "      <th></th>\n",
       "      <th>Unnamed: 0</th>\n",
       "      <th>Class</th>\n",
       "      <th>Flight Length</th>\n",
       "      <th>Company</th>\n",
       "      <th>Cabin Staff Service</th>\n",
       "      <th>Food &amp; Beverages</th>\n",
       "      <th>Ground Service</th>\n",
       "      <th>Inflight Entertainment</th>\n",
       "      <th>Seat Comfort</th>\n",
       "    </tr>\n",
       "  </thead>\n",
       "  <tbody>\n",
       "    <tr>\n",
       "      <th>0</th>\n",
       "      <td>187.0</td>\n",
       "      <td>Business Class</td>\n",
       "      <td>Short-Haul</td>\n",
       "      <td>Air France</td>\n",
       "      <td>-0.439775</td>\n",
       "      <td>-0.409899</td>\n",
       "      <td>-0.196667</td>\n",
       "      <td>-0.397071</td>\n",
       "      <td>-0.517382</td>\n",
       "    </tr>\n",
       "    <tr>\n",
       "      <th>1</th>\n",
       "      <td>198.0</td>\n",
       "      <td>Business Class</td>\n",
       "      <td>Short-Haul</td>\n",
       "      <td>British Airways</td>\n",
       "      <td>0.300124</td>\n",
       "      <td>0.539596</td>\n",
       "      <td>-0.096667</td>\n",
       "      <td>-0.611717</td>\n",
       "      <td>0.083629</td>\n",
       "    </tr>\n",
       "    <tr>\n",
       "      <th>2</th>\n",
       "      <td>201.0</td>\n",
       "      <td>Business Class</td>\n",
       "      <td>Short-Haul</td>\n",
       "      <td>Cathay Pacific</td>\n",
       "      <td>0.088003</td>\n",
       "      <td>0.095657</td>\n",
       "      <td>0.016667</td>\n",
       "      <td>0.664040</td>\n",
       "      <td>0.288174</td>\n",
       "    </tr>\n",
       "    <tr>\n",
       "      <th>3</th>\n",
       "      <td>222.0</td>\n",
       "      <td>Business Class</td>\n",
       "      <td>Short-Haul</td>\n",
       "      <td>Lufthansa</td>\n",
       "      <td>-0.303023</td>\n",
       "      <td>-0.087677</td>\n",
       "      <td>-0.046667</td>\n",
       "      <td>-0.452626</td>\n",
       "      <td>-0.192595</td>\n",
       "    </tr>\n",
       "    <tr>\n",
       "      <th>4</th>\n",
       "      <td>241.0</td>\n",
       "      <td>Business Class</td>\n",
       "      <td>Short-Haul</td>\n",
       "      <td>Singapore Airlines</td>\n",
       "      <td>0.354670</td>\n",
       "      <td>-0.137677</td>\n",
       "      <td>0.323333</td>\n",
       "      <td>0.797374</td>\n",
       "      <td>0.338174</td>\n",
       "    </tr>\n",
       "    <tr>\n",
       "      <th>Industrial Average</th>\n",
       "      <td>NaN</td>\n",
       "      <td>NaN</td>\n",
       "      <td>NaN</td>\n",
       "      <td>NaN</td>\n",
       "      <td>4.245330</td>\n",
       "      <td>3.937677</td>\n",
       "      <td>2.046667</td>\n",
       "      <td>3.452626</td>\n",
       "      <td>3.961826</td>\n",
       "    </tr>\n",
       "  </tbody>\n",
       "</table>\n",
       "</div>"
      ],
      "text/plain": [
       "                    Unnamed: 0           Class Flight Length  \\\n",
       "0                        187.0  Business Class    Short-Haul   \n",
       "1                        198.0  Business Class    Short-Haul   \n",
       "2                        201.0  Business Class    Short-Haul   \n",
       "3                        222.0  Business Class    Short-Haul   \n",
       "4                        241.0  Business Class    Short-Haul   \n",
       "Industrial Average         NaN             NaN           NaN   \n",
       "\n",
       "                               Company  Cabin Staff Service  Food & Beverages  \\\n",
       "0                           Air France            -0.439775         -0.409899   \n",
       "1                      British Airways             0.300124          0.539596   \n",
       "2                       Cathay Pacific             0.088003          0.095657   \n",
       "3                            Lufthansa            -0.303023         -0.087677   \n",
       "4                   Singapore Airlines             0.354670         -0.137677   \n",
       "Industrial Average                 NaN             4.245330          3.937677   \n",
       "\n",
       "                    Ground Service  Inflight Entertainment  Seat Comfort  \n",
       "0                        -0.196667               -0.397071     -0.517382  \n",
       "1                        -0.096667               -0.611717      0.083629  \n",
       "2                         0.016667                0.664040      0.288174  \n",
       "3                        -0.046667               -0.452626     -0.192595  \n",
       "4                         0.323333                0.797374      0.338174  \n",
       "Industrial Average        2.046667                3.452626      3.961826  "
      ]
     },
     "execution_count": 20,
     "metadata": {},
     "output_type": "execute_result"
    }
   ],
   "source": [
    "bench_sh_b"
   ]
  },
  {
   "cell_type": "code",
   "execution_count": 23,
   "metadata": {},
   "outputs": [],
   "source": [
    "df = pd.concat([bench_lh_e,\n",
    "                bench_lh_pe,\n",
    "                bench_lh_b,\n",
    "                bench_lh_f,\n",
    "                bench_mh_e,\n",
    "                bench_mh_pe,\n",
    "                bench_mh_b,\n",
    "                bench_mh_f,\n",
    "                bench_sh_e,\n",
    "                bench_sh_pe,\n",
    "                bench_sh_b,\n",
    "                bench_sh_f,\n",
    "                ],\n",
    "                axis=0)"
   ]
  },
  {
   "cell_type": "code",
   "execution_count": 26,
   "metadata": {},
   "outputs": [],
   "source": [
    "df = df.dropna()"
   ]
  },
  {
   "cell_type": "code",
   "execution_count": 27,
   "metadata": {},
   "outputs": [],
   "source": [
    "df.to_csv('Benchmark.csv')"
   ]
  },
  {
   "cell_type": "code",
   "execution_count": null,
   "metadata": {},
   "outputs": [],
   "source": []
  }
 ],
 "metadata": {
  "kernelspec": {
   "display_name": "Python 3",
   "language": "python",
   "name": "python3"
  },
  "language_info": {
   "codemirror_mode": {
    "name": "ipython",
    "version": 3
   },
   "file_extension": ".py",
   "mimetype": "text/x-python",
   "name": "python",
   "nbconvert_exporter": "python",
   "pygments_lexer": "ipython3",
   "version": "3.7.2"
  }
 },
 "nbformat": 4,
 "nbformat_minor": 4
}
