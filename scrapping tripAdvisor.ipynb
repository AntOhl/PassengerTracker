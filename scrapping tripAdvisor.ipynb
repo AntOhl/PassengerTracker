{
 "cells": [
  {
   "cell_type": "code",
   "execution_count": 1,
   "metadata": {},
   "outputs": [],
   "source": [
    "from selenium import webdriver\n",
    "from selenium.webdriver.common.keys import Keys\n",
    "from selenium.common.exceptions import NoSuchElementException, ElementNotInteractableException, NoSuchWindowException, StaleElementReferenceException\n",
    "from bs4 import BeautifulSoup\n",
    "import re\n",
    "import pandas as pd\n",
    "import os\n",
    "os.getcwd()\n",
    "from urllib.request import urlopen as uReq\n",
    "from time import sleep"
   ]
  },
  {
   "cell_type": "code",
   "execution_count": 2,
   "metadata": {},
   "outputs": [],
   "source": [
    "#launch url\n",
    "try:\n",
    "    driver.close()\n",
    "except (NameError, NoSuchWindowException):\n",
    "    pass\n",
    "options = webdriver.ChromeOptions()\n",
    "options.add_argument('headless')\n",
    "options.add_argument(\"--no-startup-window\")\n",
    "driver = webdriver.Chrome(os.getcwd()+'/chromedriver', options = options)\n",
    "driver.implicitly_wait(8)"
   ]
  },
  {
   "cell_type": "code",
   "execution_count": 3,
   "metadata": {},
   "outputs": [],
   "source": [
    "def click_on_plus_button(driver):\n",
    "    buttons = driver.find_elements_by_class_name(\"location-review-review-list-parts-ExpandableReview__cta--2mR2g\")\n",
    "    for k in range(len(buttons)):\n",
    "        try:\n",
    "            buttons_2 = driver.find_elements_by_class_name(\"location-review-review-list-parts-ExpandableReview__cta--2mR2g\")\n",
    "            buttons_2[k].click()\n",
    "        except (ElementNotInteractableException, StaleElementReferenceException):\n",
    "            pass\n",
    "        \n",
    "            \n",
    "        "
   ]
  },
  {
   "cell_type": "code",
   "execution_count": 4,
   "metadata": {},
   "outputs": [],
   "source": [
    "def click_on_next_button(driver):\n",
    "    sleep(0.5)\n",
    "    button = driver.find_element_by_link_text(\"Next\")\n",
    "    button.click()"
   ]
  },
  {
   "cell_type": "code",
   "execution_count": 5,
   "metadata": {},
   "outputs": [],
   "source": [
    "def get_grades(review_blocs, reviewer_nb):\n",
    "    grade_dict = {}\n",
    "    grades_list = review_blocs[reviewer_nb]\\\n",
    "    .find_element_by_class_name(\"location-review-review-list-parts-AdditionalRatings__ratings--hIt-r\") \\\n",
    "    .find_elements_by_class_name('location-review-review-list-parts-AdditionalRatings__rating--1_G5W')\n",
    "    for grade in grades_list:\n",
    "        grade_dict[grade.text] = grade.find_element_by_tag_name('span').find_element_by_tag_name('span').get_attribute(\"class\").split('_')[-1][0]\n",
    "    return grade_dict"
   ]
  },
  {
   "cell_type": "code",
   "execution_count": 6,
   "metadata": {},
   "outputs": [],
   "source": [
    "def get_reviews(driver):\n",
    "    reviews_dict = {\n",
    "            \"member_infos\": {},\n",
    "            \"tags\": {},\n",
    "            \"general_grade\": {},\n",
    "            \"title\": {},\n",
    "            \"review_text\": {},\n",
    "            \"travel_date\": {},\n",
    "            \"grades\": {}\n",
    "        }\n",
    "    review_blocs = driver.find_elements_by_class_name(\"location-review-review-list-parts-SingleReview__mainCol--1hApa\")\n",
    "    members_infos = driver.find_elements_by_class_name(\"social-member-event-MemberEventOnObjectBlock__event_wrap--1YkeG\")[:len(review_blocs)]\n",
    "    for reviewer in range(len(review_blocs)):\n",
    "        reviews_dict['member_infos'][reviewer] = members_infos[reviewer].text.split('\\n')\n",
    "        reviews_dict['tags'][reviewer] = review_blocs[reviewer].find_element_by_class_name(\"location-review-review-list-parts-RatingLine__labelsContainer--rSajH\").text.split('\\n')\n",
    "        reviews_dict['general_grade'][reviewer] = review_blocs[reviewer].find_element_by_class_name(\"location-review-review-list-parts-RatingLine__bubbles--GcJvM\").find_element_by_tag_name('span').get_attribute(\"class\").split('_')[-1][0]\n",
    "        reviews_dict['title'][reviewer] = review_blocs[reviewer].find_element_by_class_name(\"location-review-review-list-parts-ReviewTitle__reviewTitleText--2tFRT\").text\n",
    "        reviews_dict['review_text'][reviewer] = review_blocs[reviewer].find_element_by_class_name(\"location-review-review-list-parts-ExpandableReview__reviewText--gOmRC\").text.replace('\\n',' ')\n",
    "\n",
    "        try:\n",
    "            reviews_dict['travel_date'][reviewer] = review_blocs[reviewer].find_element_by_class_name(\"location-review-review-list-parts-EventDate__event_date--1epHa\").text\n",
    "        except NoSuchElementException:\n",
    "            travel_date = None\n",
    "        try:\n",
    "            reviews_dict['grades'][reviewer] = get_grades(review_blocs, reviewer)\n",
    "        except NoSuchElementException:\n",
    "            grades = None\n",
    "    return reviews_dict"
   ]
  },
  {
   "cell_type": "code",
   "execution_count": 7,
   "metadata": {},
   "outputs": [],
   "source": [
    "def get_reviews_companies(company_dict):\n",
    "    company_list = list(company_dict.items())\n",
    "    for company in company_list:\n",
    "        try:\n",
    "            os.mkdir('{}/'.format(company[0]))\n",
    "        except FileExistsError:\n",
    "            pass\n",
    "        \n",
    "        driver.get(company[1])\n",
    "        reviews_list = []\n",
    "        next_page_exist = True\n",
    "        page = 1\n",
    "        while next_page_exist:\n",
    "            click_on_plus_button(driver)\n",
    "            reviews = pd.DataFrame(get_reviews(driver))\n",
    "            reviews.to_csv('{}/page_{}.csv'.format(company[0], page), sep = '|')\n",
    "            reviews_list.append(reviews)\n",
    "            print('page {} of {} done'.format(page, company[0]))\n",
    "            try:\n",
    "                click_on_next_button(driver)\n",
    "            except:\n",
    "                next_page_exist = False\n",
    "                print('{} done'.format(company[0]))\n",
    "            page += 1\n",
    "        reviews_df = pd.concat(reviews_list, ignore_index = True)\n",
    "        reviews_df.to_csv('{}/concat_data_{}.csv'.format(company[0], company[0]), sep = '|', index = False)"
   ]
  },
  {
   "cell_type": "code",
   "execution_count": 8,
   "metadata": {},
   "outputs": [],
   "source": [
    "company_dict = {\n",
    "\"American Airlines\": \"https://www.tripadvisor.com/Airline_Review-d8729020-Reviews-American-Airlines\",\n",
    "\"Air China\": \"https://www.tripadvisor.com/Airline_Review-d8729000-Reviews-Air-China\",\n",
    "\"Lufthansa\": \"https://www.tripadvisor.com/Airline_Review-d8729113-Reviews-Lufthansa\",\n",
    "\"Emirates\": \"https://www.tripadvisor.com/Airline_Review-d8729069-Reviews-Emirates\",\n",
    "\"All Nippon Airways (ANA)\": \"https://www.tripadvisor.com/Airline_Review-d8729021-Reviews-ANA-All-Nippon-Airways\",\n",
    "\"LATAM Airlines Group\": \"https://www.tripadvisor.com/Airline_Review-d10290698-Reviews-LATAM-Airlines\",\n",
    "\"Air Canada\": \"https://www.tripadvisor.com/Airline_Review-d8728998-Reviews-Air-Canada\",\n",
    "\"Air France\": \"https://www.tripadvisor.com/Airline_Review-d8729003-Reviews-Air-France\",\n",
    "\"Aeroflot Russian Airlines\": \"https://www.tripadvisor.com/Airline_Review-d8728941-Reviews-Rossiya-Russian-Airlines\",\n",
    "\"Singapore Airlines\": \"https://www.tripadvisor.com/Airline_Review-d8729151-Reviews-Singapore-Airlines\",\n",
    "}"
   ]
  },
  {
   "cell_type": "code",
   "execution_count": null,
   "metadata": {},
   "outputs": [
    {
     "name": "stdout",
     "output_type": "stream",
     "text": [
      "page 1 of American Airlines done\n",
      "page 2 of American Airlines done\n",
      "page 3 of American Airlines done\n",
      "page 4 of American Airlines done\n",
      "page 5 of American Airlines done\n",
      "page 6 of American Airlines done\n",
      "page 7 of American Airlines done\n",
      "page 8 of American Airlines done\n",
      "page 9 of American Airlines done\n",
      "page 10 of American Airlines done\n",
      "page 11 of American Airlines done\n",
      "page 12 of American Airlines done\n",
      "page 13 of American Airlines done\n",
      "page 14 of American Airlines done\n",
      "page 15 of American Airlines done\n",
      "page 16 of American Airlines done\n"
     ]
    }
   ],
   "source": [
    "get_reviews_companies(company_dict)"
   ]
  }
 ],
 "metadata": {
  "kernelspec": {
   "display_name": "Python 3",
   "language": "python",
   "name": "python3"
  },
  "language_info": {
   "codemirror_mode": {
    "name": "ipython",
    "version": 3
   },
   "file_extension": ".py",
   "mimetype": "text/x-python",
   "name": "python",
   "nbconvert_exporter": "python",
   "pygments_lexer": "ipython3",
   "version": "3.7.2"
  }
 },
 "nbformat": 4,
 "nbformat_minor": 2
}
