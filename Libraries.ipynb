{
 "cells": [
  {
   "cell_type": "markdown",
   "metadata": {},
   "source": [
    "# Libraries"
   ]
  },
  {
   "cell_type": "markdown",
   "metadata": {},
   "source": [
    "## Data collection"
   ]
  },
  {
   "cell_type": "code",
   "execution_count": null,
   "metadata": {},
   "outputs": [],
   "source": [
    "!pip install geopy"
   ]
  },
  {
   "cell_type": "code",
   "execution_count": null,
   "metadata": {},
   "outputs": [],
   "source": [
    "!pip install tweepy"
   ]
  },
  {
   "cell_type": "code",
   "execution_count": null,
   "metadata": {},
   "outputs": [],
   "source": [
    "!pip install bs4 "
   ]
  },
  {
   "cell_type": "code",
   "execution_count": null,
   "metadata": {},
   "outputs": [],
   "source": [
    "!pip install selenium"
   ]
  },
  {
   "cell_type": "code",
   "execution_count": null,
   "metadata": {},
   "outputs": [],
   "source": [
    "!pip install urllib3"
   ]
  },
  {
   "cell_type": "markdown",
   "metadata": {},
   "source": [
    "## Computing"
   ]
  },
  {
   "cell_type": "code",
   "execution_count": null,
   "metadata": {},
   "outputs": [],
   "source": [
    "!pip install numpy"
   ]
  },
  {
   "cell_type": "code",
   "execution_count": null,
   "metadata": {},
   "outputs": [],
   "source": [
    "!pip install pandas"
   ]
  },
  {
   "cell_type": "code",
   "execution_count": null,
   "metadata": {},
   "outputs": [],
   "source": [
    "!pip install preprocessor"
   ]
  },
  {
   "cell_type": "markdown",
   "metadata": {},
   "source": [
    "## Visualization"
   ]
  },
  {
   "cell_type": "markdown",
   "metadata": {},
   "source": [
    "### Natural Language Processing"
   ]
  },
  {
   "cell_type": "code",
   "execution_count": null,
   "metadata": {},
   "outputs": [],
   "source": [
    "!pip install squarify"
   ]
  },
  {
   "cell_type": "code",
   "execution_count": null,
   "metadata": {},
   "outputs": [],
   "source": [
    "!pip install Pillow"
   ]
  },
  {
   "cell_type": "code",
   "execution_count": null,
   "metadata": {},
   "outputs": [],
   "source": [
    "!pip install textblob"
   ]
  },
  {
   "cell_type": "code",
   "execution_count": null,
   "metadata": {},
   "outputs": [],
   "source": [
    "!pip install wordcloud"
   ]
  },
  {
   "cell_type": "markdown",
   "metadata": {},
   "source": [
    "### Dashboard"
   ]
  },
  {
   "cell_type": "code",
   "execution_count": null,
   "metadata": {},
   "outputs": [],
   "source": [
    "!pip install matplotlib"
   ]
  },
  {
   "cell_type": "code",
   "execution_count": null,
   "metadata": {},
   "outputs": [],
   "source": [
    "!pip install plotly"
   ]
  },
  {
   "cell_type": "code",
   "execution_count": 1,
   "metadata": {},
   "outputs": [
    {
     "name": "stdout",
     "output_type": "stream",
     "text": [
      "Requirement already satisfied: dash in /Library/Frameworks/Python.framework/Versions/3.7/lib/python3.7/site-packages (1.8.0)\n",
      "Requirement already satisfied: Flask>=1.0.2 in /Library/Frameworks/Python.framework/Versions/3.7/lib/python3.7/site-packages (from dash) (1.1.1)\n",
      "Requirement already satisfied: dash-core-components==1.7.0 in /Library/Frameworks/Python.framework/Versions/3.7/lib/python3.7/site-packages (from dash) (1.7.0)\n",
      "Requirement already satisfied: dash-renderer==1.2.3 in /Library/Frameworks/Python.framework/Versions/3.7/lib/python3.7/site-packages (from dash) (1.2.3)\n",
      "Requirement already satisfied: future in /Library/Frameworks/Python.framework/Versions/3.7/lib/python3.7/site-packages (from dash) (0.18.2)\n",
      "Requirement already satisfied: flask-compress in /Library/Frameworks/Python.framework/Versions/3.7/lib/python3.7/site-packages (from dash) (1.4.0)\n",
      "Requirement already satisfied: plotly in /Library/Frameworks/Python.framework/Versions/3.7/lib/python3.7/site-packages (from dash) (4.5.0)\n",
      "Requirement already satisfied: dash-html-components==1.0.2 in /Library/Frameworks/Python.framework/Versions/3.7/lib/python3.7/site-packages (from dash) (1.0.2)\n",
      "Requirement already satisfied: dash-table==4.6.0 in /Library/Frameworks/Python.framework/Versions/3.7/lib/python3.7/site-packages (from dash) (4.6.0)\n",
      "Requirement already satisfied: Jinja2>=2.10.1 in /Library/Frameworks/Python.framework/Versions/3.7/lib/python3.7/site-packages (from Flask>=1.0.2->dash) (2.10.3)\n",
      "Requirement already satisfied: itsdangerous>=0.24 in /Library/Frameworks/Python.framework/Versions/3.7/lib/python3.7/site-packages (from Flask>=1.0.2->dash) (1.1.0)\n",
      "Requirement already satisfied: click>=5.1 in /Library/Frameworks/Python.framework/Versions/3.7/lib/python3.7/site-packages (from Flask>=1.0.2->dash) (7.0)\n",
      "Requirement already satisfied: Werkzeug>=0.15 in /Library/Frameworks/Python.framework/Versions/3.7/lib/python3.7/site-packages (from Flask>=1.0.2->dash) (0.16.0)\n",
      "Requirement already satisfied: retrying>=1.3.3 in /Library/Frameworks/Python.framework/Versions/3.7/lib/python3.7/site-packages (from plotly->dash) (1.3.3)\n",
      "Requirement already satisfied: six in /Library/Frameworks/Python.framework/Versions/3.7/lib/python3.7/site-packages (from plotly->dash) (1.13.0)\n",
      "Requirement already satisfied: MarkupSafe>=0.23 in /Library/Frameworks/Python.framework/Versions/3.7/lib/python3.7/site-packages (from Jinja2>=2.10.1->Flask>=1.0.2->dash) (1.1.1)\n",
      "Requirement already satisfied: dash_core_components in /Library/Frameworks/Python.framework/Versions/3.7/lib/python3.7/site-packages (1.7.0)\n",
      "Requirement already satisfied: dash_html_components in /Library/Frameworks/Python.framework/Versions/3.7/lib/python3.7/site-packages (1.0.2)\n",
      "Requirement already satisfied: dash_bootstrap_components in /Library/Frameworks/Python.framework/Versions/3.7/lib/python3.7/site-packages (0.8.2)\n",
      "Requirement already satisfied: dash>=1.3.0 in /Library/Frameworks/Python.framework/Versions/3.7/lib/python3.7/site-packages (from dash_bootstrap_components) (1.8.0)\n",
      "Requirement already satisfied: dash-renderer==1.2.3 in /Library/Frameworks/Python.framework/Versions/3.7/lib/python3.7/site-packages (from dash>=1.3.0->dash_bootstrap_components) (1.2.3)\n",
      "Requirement already satisfied: dash-table==4.6.0 in /Library/Frameworks/Python.framework/Versions/3.7/lib/python3.7/site-packages (from dash>=1.3.0->dash_bootstrap_components) (4.6.0)\n",
      "Requirement already satisfied: dash-html-components==1.0.2 in /Library/Frameworks/Python.framework/Versions/3.7/lib/python3.7/site-packages (from dash>=1.3.0->dash_bootstrap_components) (1.0.2)\n",
      "Requirement already satisfied: plotly in /Library/Frameworks/Python.framework/Versions/3.7/lib/python3.7/site-packages (from dash>=1.3.0->dash_bootstrap_components) (4.5.0)\n",
      "Requirement already satisfied: dash-core-components==1.7.0 in /Library/Frameworks/Python.framework/Versions/3.7/lib/python3.7/site-packages (from dash>=1.3.0->dash_bootstrap_components) (1.7.0)\n",
      "Requirement already satisfied: flask-compress in /Library/Frameworks/Python.framework/Versions/3.7/lib/python3.7/site-packages (from dash>=1.3.0->dash_bootstrap_components) (1.4.0)\n",
      "Requirement already satisfied: future in /Library/Frameworks/Python.framework/Versions/3.7/lib/python3.7/site-packages (from dash>=1.3.0->dash_bootstrap_components) (0.18.2)\n",
      "Requirement already satisfied: Flask>=1.0.2 in /Library/Frameworks/Python.framework/Versions/3.7/lib/python3.7/site-packages (from dash>=1.3.0->dash_bootstrap_components) (1.1.1)\n",
      "Requirement already satisfied: retrying>=1.3.3 in /Library/Frameworks/Python.framework/Versions/3.7/lib/python3.7/site-packages (from plotly->dash>=1.3.0->dash_bootstrap_components) (1.3.3)\n",
      "Requirement already satisfied: six in /Library/Frameworks/Python.framework/Versions/3.7/lib/python3.7/site-packages (from plotly->dash>=1.3.0->dash_bootstrap_components) (1.13.0)\n",
      "Requirement already satisfied: Jinja2>=2.10.1 in /Library/Frameworks/Python.framework/Versions/3.7/lib/python3.7/site-packages (from Flask>=1.0.2->dash>=1.3.0->dash_bootstrap_components) (2.10.3)\n",
      "Requirement already satisfied: click>=5.1 in /Library/Frameworks/Python.framework/Versions/3.7/lib/python3.7/site-packages (from Flask>=1.0.2->dash>=1.3.0->dash_bootstrap_components) (7.0)\n",
      "Requirement already satisfied: Werkzeug>=0.15 in /Library/Frameworks/Python.framework/Versions/3.7/lib/python3.7/site-packages (from Flask>=1.0.2->dash>=1.3.0->dash_bootstrap_components) (0.16.0)\n",
      "Requirement already satisfied: itsdangerous>=0.24 in /Library/Frameworks/Python.framework/Versions/3.7/lib/python3.7/site-packages (from Flask>=1.0.2->dash>=1.3.0->dash_bootstrap_components) (1.1.0)\n",
      "Requirement already satisfied: MarkupSafe>=0.23 in /Library/Frameworks/Python.framework/Versions/3.7/lib/python3.7/site-packages (from Jinja2>=2.10.1->Flask>=1.0.2->dash>=1.3.0->dash_bootstrap_components) (1.1.1)\n",
      "Requirement already satisfied: dash_table in /Library/Frameworks/Python.framework/Versions/3.7/lib/python3.7/site-packages (4.6.0)\n",
      "Requirement already satisfied: dash_daq in /Library/Frameworks/Python.framework/Versions/3.7/lib/python3.7/site-packages (0.3.3)\n",
      "Requirement already satisfied: dash>=1.6.1 in /Library/Frameworks/Python.framework/Versions/3.7/lib/python3.7/site-packages (from dash_daq) (1.8.0)\n",
      "Requirement already satisfied: dash-core-components==1.7.0 in /Library/Frameworks/Python.framework/Versions/3.7/lib/python3.7/site-packages (from dash>=1.6.1->dash_daq) (1.7.0)\n",
      "Requirement already satisfied: Flask>=1.0.2 in /Library/Frameworks/Python.framework/Versions/3.7/lib/python3.7/site-packages (from dash>=1.6.1->dash_daq) (1.1.1)\n",
      "Requirement already satisfied: dash-table==4.6.0 in /Library/Frameworks/Python.framework/Versions/3.7/lib/python3.7/site-packages (from dash>=1.6.1->dash_daq) (4.6.0)\n",
      "Requirement already satisfied: flask-compress in /Library/Frameworks/Python.framework/Versions/3.7/lib/python3.7/site-packages (from dash>=1.6.1->dash_daq) (1.4.0)\n",
      "Requirement already satisfied: plotly in /Library/Frameworks/Python.framework/Versions/3.7/lib/python3.7/site-packages (from dash>=1.6.1->dash_daq) (4.5.0)\n",
      "Requirement already satisfied: dash-renderer==1.2.3 in /Library/Frameworks/Python.framework/Versions/3.7/lib/python3.7/site-packages (from dash>=1.6.1->dash_daq) (1.2.3)\n",
      "Requirement already satisfied: future in /Library/Frameworks/Python.framework/Versions/3.7/lib/python3.7/site-packages (from dash>=1.6.1->dash_daq) (0.18.2)\n",
      "Requirement already satisfied: dash-html-components==1.0.2 in /Library/Frameworks/Python.framework/Versions/3.7/lib/python3.7/site-packages (from dash>=1.6.1->dash_daq) (1.0.2)\n",
      "Requirement already satisfied: Jinja2>=2.10.1 in /Library/Frameworks/Python.framework/Versions/3.7/lib/python3.7/site-packages (from Flask>=1.0.2->dash>=1.6.1->dash_daq) (2.10.3)\n",
      "Requirement already satisfied: itsdangerous>=0.24 in /Library/Frameworks/Python.framework/Versions/3.7/lib/python3.7/site-packages (from Flask>=1.0.2->dash>=1.6.1->dash_daq) (1.1.0)\n",
      "Requirement already satisfied: Werkzeug>=0.15 in /Library/Frameworks/Python.framework/Versions/3.7/lib/python3.7/site-packages (from Flask>=1.0.2->dash>=1.6.1->dash_daq) (0.16.0)\n",
      "Requirement already satisfied: click>=5.1 in /Library/Frameworks/Python.framework/Versions/3.7/lib/python3.7/site-packages (from Flask>=1.0.2->dash>=1.6.1->dash_daq) (7.0)\n",
      "Requirement already satisfied: six in /Library/Frameworks/Python.framework/Versions/3.7/lib/python3.7/site-packages (from plotly->dash>=1.6.1->dash_daq) (1.13.0)\n",
      "Requirement already satisfied: retrying>=1.3.3 in /Library/Frameworks/Python.framework/Versions/3.7/lib/python3.7/site-packages (from plotly->dash>=1.6.1->dash_daq) (1.3.3)\n",
      "Requirement already satisfied: MarkupSafe>=0.23 in /Library/Frameworks/Python.framework/Versions/3.7/lib/python3.7/site-packages (from Jinja2>=2.10.1->Flask>=1.0.2->dash>=1.6.1->dash_daq) (1.1.1)\n"
     ]
    }
   ],
   "source": [
    "!pip install dash\n",
    "!pip install dash_core_components\n",
    "!pip install dash_html_components\n",
    "!pip install dash_bootstrap_components\n",
    "!pip install dash_table\n",
    "!pip install dash_daq"
   ]
  },
  {
   "cell_type": "markdown",
   "metadata": {},
   "source": [
    "## Data Science"
   ]
  },
  {
   "cell_type": "markdown",
   "metadata": {},
   "source": [
    "### Machine Learning"
   ]
  },
  {
   "cell_type": "code",
   "execution_count": null,
   "metadata": {},
   "outputs": [],
   "source": [
    "!pip install sklearn"
   ]
  },
  {
   "cell_type": "markdown",
   "metadata": {},
   "source": [
    "### Natural Language Processing"
   ]
  },
  {
   "cell_type": "code",
   "execution_count": null,
   "metadata": {},
   "outputs": [],
   "source": [
    "!pip install nltk\n",
    "# Set sentiment extensions\n",
    "'''from nltk.sentiment.vader import SentimentIntensityAnalyzer\n",
    "sent_analyzer = SentimentIntensityAnalyzer()\n",
    "def sentiment_scores(docx):\n",
    "    return sent_analyzer.polarity_scores(docx.text)\n",
    "Doc.set_extension(\"sentimenter\",getter=sentiment_scores,force=True)'''"
   ]
  },
  {
   "cell_type": "code",
   "execution_count": null,
   "metadata": {},
   "outputs": [],
   "source": [
    "!pip install gensim\n",
    "'''from gensim.models import Word2Vec'''"
   ]
  },
  {
   "cell_type": "code",
   "execution_count": null,
   "metadata": {},
   "outputs": [],
   "source": [
    "!pip install spacy\n",
    "!python -m spacy download en_core_web_sm\n",
    "# nlp = spacy.load('en_core_web_md')"
   ]
  }
 ],
 "metadata": {
  "kernelspec": {
   "display_name": "Python 3",
   "language": "python",
   "name": "python3"
  },
  "language_info": {
   "codemirror_mode": {
    "name": "ipython",
    "version": 3
   },
   "file_extension": ".py",
   "mimetype": "text/x-python",
   "name": "python",
   "nbconvert_exporter": "python",
   "pygments_lexer": "ipython3",
   "version": "3.7.2"
  }
 },
 "nbformat": 4,
 "nbformat_minor": 4
}
