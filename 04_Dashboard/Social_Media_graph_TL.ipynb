{
 "cells": [
  {
   "cell_type": "code",
   "execution_count": 163,
   "metadata": {},
   "outputs": [],
   "source": [
    "import plotly.offline as pyo\n",
    "import plotly.graph_objects as go\n",
    "import ipywidgets as widgets\n",
    "import numpy as np\n",
    "import pandas as pd\n",
    "from datetime import datetime"
   ]
  },
  {
   "cell_type": "code",
   "execution_count": 164,
   "metadata": {},
   "outputs": [],
   "source": [
    "#pyo.init_notebook_mode(connected=True)"
   ]
  },
  {
   "cell_type": "code",
   "execution_count": 165,
   "metadata": {},
   "outputs": [],
   "source": [
    "from os import getcwd, path\n",
    "data_path = path.join(path.split(getcwd())[0], '00_data')"
   ]
  },
  {
   "cell_type": "code",
   "execution_count": 166,
   "metadata": {},
   "outputs": [],
   "source": [
    "df = pd.read_csv(path.join(data_path, 'nlp_social.csv'), sep = \",\")"
   ]
  },
  {
   "cell_type": "code",
   "execution_count": 167,
   "metadata": {},
   "outputs": [],
   "source": [
    "is_ta = df['Source'] == 'TripAdvisor'\n",
    "is_tw = df['Source'] == 'Twitter'\n",
    "df_ta = df[is_ta]\n",
    "df_tw = df[is_tw]"
   ]
  },
  {
   "cell_type": "code",
   "execution_count": 168,
   "metadata": {},
   "outputs": [
    {
     "name": "stderr",
     "output_type": "stream",
     "text": [
      "/Library/Frameworks/Python.framework/Versions/3.7/lib/python3.7/site-packages/ipykernel_launcher.py:1: SettingWithCopyWarning:\n",
      "\n",
      "\n",
      "A value is trying to be set on a copy of a slice from a DataFrame.\n",
      "Try using .loc[row_indexer,col_indexer] = value instead\n",
      "\n",
      "See the caveats in the documentation: http://pandas.pydata.org/pandas-docs/stable/user_guide/indexing.html#returning-a-view-versus-a-copy\n",
      "\n",
      "/Library/Frameworks/Python.framework/Versions/3.7/lib/python3.7/site-packages/ipykernel_launcher.py:2: SettingWithCopyWarning:\n",
      "\n",
      "\n",
      "A value is trying to be set on a copy of a slice from a DataFrame.\n",
      "Try using .loc[row_indexer,col_indexer] = value instead\n",
      "\n",
      "See the caveats in the documentation: http://pandas.pydata.org/pandas-docs/stable/user_guide/indexing.html#returning-a-view-versus-a-copy\n",
      "\n"
     ]
    }
   ],
   "source": [
    "df_tw['Date'] = pd.to_datetime(df_tw['Date'], format='%Y-%m-%d %H:%M:%S')\n",
    "df_tw['day'] = df_tw['Date'].map(lambda x: x.strftime('%Y-%m-%d'))"
   ]
  },
  {
   "cell_type": "code",
   "execution_count": 170,
   "metadata": {},
   "outputs": [],
   "source": [
    "# Select only tweets which relates to each topic\n",
    "df_seat = df_tw[df_tw['Seat']!='[]']\n",
    "df_staff = df_tw[df_tw['Staff Service']!='[]']\n",
    "df_fb = df_tw[df_tw['Food & Beverages']!='[]']\n",
    "df_ent = df_tw[df_tw['Inflight Entertainment']!='[]']\n",
    "df_gserv = df_tw[df_tw['Ground Service']!='[]']\n",
    "\n",
    "# Group them by date and average them\n",
    "df_seat = df_seat.groupby('day').Seat_Polarity.mean().reset_index(name='seat')\n",
    "df_staff = df_staff.groupby('day').Staff_Service_Polarity.mean().reset_index(name='staff_service')\n",
    "df_fb = df_fb.groupby('day').FoodBeverages_Polarity.mean().reset_index(name='foodbeverage')\n",
    "df_ent = df_ent.groupby('day').InflightEntertainment_Polarity.mean().reset_index(name='inflightent')\n",
    "df_gserv = df_gserv.groupby('day').GroundService_Polarity.mean().reset_index(name='gserv')"
   ]
  },
  {
   "cell_type": "code",
   "execution_count": 174,
   "metadata": {},
   "outputs": [],
   "source": [
    "df_tw.rename(columns={\n",
    "    \"Seat\": \"Seat\", \n",
    "    \"Staff Service\": \"Staff_Service\", \n",
    "    \"Food & Beverages\": \"FoodBeverages\",\n",
    "    \"Inflight Entertainment\": \"InflightEntertainment\", \n",
    "    \"Ground Service\": \"GroundService\"}, inplace = True)"
   ]
  },
  {
   "cell_type": "code",
   "execution_count": 186,
   "metadata": {},
   "outputs": [],
   "source": [
    "def select_best_tweet_avg(subject, day, selected_nb = 3, df = df_tw):\n",
    "    subject_polarity = '{}_Polarity'.format(subject).replace('&', '').replace(' ','_')\n",
    "    \n",
    "    df_subject_day =  df_tw[[subject, subject_polarity, 'day']] \\\n",
    "        [df_tw[subject]!='[]'] \\\n",
    "        [df_tw['day'] == day]\n",
    "    \n",
    "    mean_subject_day = df_subject_day[subject_polarity].mean()\n",
    "    df_subject_day['mean_subject_day'] = abs(df_subject_day[subject_polarity] - mean_subject_day)\n",
    "    df_subject_day.set_index('mean_subject_day', inplace = True)\n",
    "    df_subject_day.sort_index(ascending = True, inplace = True)\n",
    "    \n",
    "    return pd.DataFrame(data = [[day, subject, df_subject_day.iloc[0:3][subject].values]],\n",
    "                            columns = ['day', 'subject', 'avg_tweet'])\n",
    "    "
   ]
  },
  {
   "cell_type": "code",
   "execution_count": 187,
   "metadata": {},
   "outputs": [
    {
     "name": "stderr",
     "output_type": "stream",
     "text": [
      "/Library/Frameworks/Python.framework/Versions/3.7/lib/python3.7/site-packages/ipykernel_launcher.py:6: UserWarning:\n",
      "\n",
      "Boolean Series key will be reindexed to match DataFrame index.\n",
      "\n"
     ]
    }
   ],
   "source": [
    "subjects_list = [\n",
    "    'Seat',\n",
    "    'Staff_Service',\n",
    "    'FoodBeverages',\n",
    "    'InflightEntertainment',\n",
    "    'GroundService'\n",
    "]\n",
    "days_list = ['2020-01-{}'.format(day) for day in range(17, 27)]\n",
    "\n",
    "avg_tweet_day_subject = []\n",
    "for subject in subjects_list:\n",
    "    for day in days_list:\n",
    "        avg_tweet_day_subject.append(select_best_tweet_avg(subject, day))\n",
    "avg_tweet_day_subject = pd.concat(avg_tweet_day_subject, ignore_index = True)\n"
   ]
  },
  {
   "cell_type": "code",
   "execution_count": 200,
   "metadata": {},
   "outputs": [
    {
     "data": {
      "text/html": [
       "<div>\n",
       "<style scoped>\n",
       "    .dataframe tbody tr th:only-of-type {\n",
       "        vertical-align: middle;\n",
       "    }\n",
       "\n",
       "    .dataframe tbody tr th {\n",
       "        vertical-align: top;\n",
       "    }\n",
       "\n",
       "    .dataframe thead th {\n",
       "        text-align: right;\n",
       "    }\n",
       "</style>\n",
       "<table border=\"1\" class=\"dataframe\">\n",
       "  <thead>\n",
       "    <tr style=\"text-align: right;\">\n",
       "      <th></th>\n",
       "      <th>day</th>\n",
       "      <th>subject</th>\n",
       "      <th>avg_tweet</th>\n",
       "    </tr>\n",
       "  </thead>\n",
       "  <tbody>\n",
       "    <tr>\n",
       "      <th>0</th>\n",
       "      <td>2020-01-17</td>\n",
       "      <td>Seat</td>\n",
       "      <td>[['See that my seats have been changed even th...</td>\n",
       "    </tr>\n",
       "    <tr>\n",
       "      <th>1</th>\n",
       "      <td>2020-01-18</td>\n",
       "      <td>Seat</td>\n",
       "      <td>[[' need to work harder - paid for first class...</td>\n",
       "    </tr>\n",
       "    <tr>\n",
       "      <th>2</th>\n",
       "      <td>2020-01-19</td>\n",
       "      <td>Seat</td>\n",
       "      <td>[[' can you explain why my elderly mother in l...</td>\n",
       "    </tr>\n",
       "    <tr>\n",
       "      <th>3</th>\n",
       "      <td>2020-01-20</td>\n",
       "      <td>Seat</td>\n",
       "      <td>[[': Malaysia has sent back 150 containers of ...</td>\n",
       "    </tr>\n",
       "    <tr>\n",
       "      <th>4</th>\n",
       "      <td>2020-01-21</td>\n",
       "      <td>Seat</td>\n",
       "      <td>[['i literally almost cried cause i got rebook...</td>\n",
       "    </tr>\n",
       "    <tr>\n",
       "      <th>5</th>\n",
       "      <td>2020-01-22</td>\n",
       "      <td>Seat</td>\n",
       "      <td>[['And this....how far do USA and Canada back ...</td>\n",
       "    </tr>\n",
       "    <tr>\n",
       "      <th>6</th>\n",
       "      <td>2020-01-23</td>\n",
       "      <td>Seat</td>\n",
       "      <td>[['Lufthansa flight  from  to  is heading back...</td>\n",
       "    </tr>\n",
       "    <tr>\n",
       "      <th>7</th>\n",
       "      <td>2020-01-24</td>\n",
       "      <td>Seat</td>\n",
       "      <td>[[\"Legally you've only got 4 days to get me co...</td>\n",
       "    </tr>\n",
       "    <tr>\n",
       "      <th>8</th>\n",
       "      <td>2020-01-25</td>\n",
       "      <td>Seat</td>\n",
       "      <td>[['Need one of those vintage logos taken back ...</td>\n",
       "    </tr>\n",
       "    <tr>\n",
       "      <th>9</th>\n",
       "      <td>2020-01-26</td>\n",
       "      <td>Seat</td>\n",
       "      <td>[[': We are signing a centre back', 'A full on...</td>\n",
       "    </tr>\n",
       "    <tr>\n",
       "      <th>10</th>\n",
       "      <td>2020-01-17</td>\n",
       "      <td>Staff_Service</td>\n",
       "      <td>[['Air France is continuing the move upmarket ...</td>\n",
       "    </tr>\n",
       "    <tr>\n",
       "      <th>11</th>\n",
       "      <td>2020-01-18</td>\n",
       "      <td>Staff_Service</td>\n",
       "      <td>[['\"Southwest\\'s new service from Houston to C...</td>\n",
       "    </tr>\n",
       "    <tr>\n",
       "      <th>12</th>\n",
       "      <td>2020-01-19</td>\n",
       "      <td>Staff_Service</td>\n",
       "      <td>[[' We need to purchase an unaccompanied minor...</td>\n",
       "    </tr>\n",
       "    <tr>\n",
       "      <th>13</th>\n",
       "      <td>2020-01-20</td>\n",
       "      <td>Staff_Service</td>\n",
       "      <td>[[' and  screwed over my poor old 69 years old...</td>\n",
       "    </tr>\n",
       "    <tr>\n",
       "      <th>14</th>\n",
       "      <td>2020-01-21</td>\n",
       "      <td>Staff_Service</td>\n",
       "      <td>[['1976 Concorde performed its first commercia...</td>\n",
       "    </tr>\n",
       "    <tr>\n",
       "      <th>15</th>\n",
       "      <td>2020-01-22</td>\n",
       "      <td>Staff_Service</td>\n",
       "      <td>[[': Air Canada flight attendant xa9tan Dugas ...</td>\n",
       "    </tr>\n",
       "    <tr>\n",
       "      <th>16</th>\n",
       "      <td>2020-01-23</td>\n",
       "      <td>Staff_Service</td>\n",
       "      <td>[['1976 Concorde performed its first commercia...</td>\n",
       "    </tr>\n",
       "    <tr>\n",
       "      <th>17</th>\n",
       "      <td>2020-01-24</td>\n",
       "      <td>Staff_Service</td>\n",
       "      <td>[[': JF-17 Thunder Block-III is expected to ro...</td>\n",
       "    </tr>\n",
       "    <tr>\n",
       "      <th>18</th>\n",
       "      <td>2020-01-25</td>\n",
       "      <td>Staff_Service</td>\n",
       "      <td>[['   I really had a bad experience as Emirate...</td>\n",
       "    </tr>\n",
       "    <tr>\n",
       "      <th>19</th>\n",
       "      <td>2020-01-26</td>\n",
       "      <td>Staff_Service</td>\n",
       "      <td>[['\" Disappointed me x94 although your continu...</td>\n",
       "    </tr>\n",
       "    <tr>\n",
       "      <th>20</th>\n",
       "      <td>2020-01-17</td>\n",
       "      <td>FoodBeverages</td>\n",
       "      <td>[['the warmer waters of Lake Ontario starts to...</td>\n",
       "    </tr>\n",
       "    <tr>\n",
       "      <th>21</th>\n",
       "      <td>2020-01-18</td>\n",
       "      <td>FoodBeverages</td>\n",
       "      <td>[[': Lufthansa offers selected meals and drink...</td>\n",
       "    </tr>\n",
       "    <tr>\n",
       "      <th>22</th>\n",
       "      <td>2020-01-19</td>\n",
       "      <td>FoodBeverages</td>\n",
       "      <td>[['your food broke my tooth and no apology eve...</td>\n",
       "    </tr>\n",
       "    <tr>\n",
       "      <th>23</th>\n",
       "      <td>2020-01-20</td>\n",
       "      <td>FoodBeverages</td>\n",
       "      <td>[[': Just some subjects of Trump dishonesty la...</td>\n",
       "    </tr>\n",
       "    <tr>\n",
       "      <th>24</th>\n",
       "      <td>2020-01-21</td>\n",
       "      <td>FoodBeverages</td>\n",
       "      <td>[[' Emirates says Enjoy Meal although meal of ...</td>\n",
       "    </tr>\n",
       "    <tr>\n",
       "      <th>25</th>\n",
       "      <td>2020-01-22</td>\n",
       "      <td>FoodBeverages</td>\n",
       "      <td>[[' The food quality and service of Air Canada...</td>\n",
       "    </tr>\n",
       "    <tr>\n",
       "      <th>26</th>\n",
       "      <td>2020-01-23</td>\n",
       "      <td>FoodBeverages</td>\n",
       "      <td>[['united nations china chargeing maxine water...</td>\n",
       "    </tr>\n",
       "    <tr>\n",
       "      <th>27</th>\n",
       "      <td>2020-01-24</td>\n",
       "      <td>FoodBeverages</td>\n",
       "      <td>[['but I have never wanted an eggplant sandwic...</td>\n",
       "    </tr>\n",
       "    <tr>\n",
       "      <th>28</th>\n",
       "      <td>2020-01-25</td>\n",
       "      <td>FoodBeverages</td>\n",
       "      <td>[['aisle occupied by myself x81'], ['Here is w...</td>\n",
       "    </tr>\n",
       "    <tr>\n",
       "      <th>29</th>\n",
       "      <td>2020-01-26</td>\n",
       "      <td>FoodBeverages</td>\n",
       "      <td>[['\"RT : They\\'re pulling out Emirates cup hig...</td>\n",
       "    </tr>\n",
       "    <tr>\n",
       "      <th>30</th>\n",
       "      <td>2020-01-17</td>\n",
       "      <td>InflightEntertainment</td>\n",
       "      <td>[['a guest conductor at the New York Philharmo...</td>\n",
       "    </tr>\n",
       "    <tr>\n",
       "      <th>31</th>\n",
       "      <td>2020-01-18</td>\n",
       "      <td>InflightEntertainment</td>\n",
       "      <td>[['he passenger paired the video with a sarcas...</td>\n",
       "    </tr>\n",
       "    <tr>\n",
       "      <th>32</th>\n",
       "      <td>2020-01-19</td>\n",
       "      <td>InflightEntertainment</td>\n",
       "      <td>[['Nice to see Kyiv (not Kiev) on personal scr...</td>\n",
       "    </tr>\n",
       "    <tr>\n",
       "      <th>33</th>\n",
       "      <td>2020-01-20</td>\n",
       "      <td>InflightEntertainment</td>\n",
       "      <td>[[': Aviation video:  2019 formation flight wi...</td>\n",
       "    </tr>\n",
       "    <tr>\n",
       "      <th>34</th>\n",
       "      <td>2020-01-21</td>\n",
       "      <td>InflightEntertainment</td>\n",
       "      <td>[['(the real life guy the movie Goodfellas was...</td>\n",
       "    </tr>\n",
       "    <tr>\n",
       "      <th>35</th>\n",
       "      <td>2020-01-22</td>\n",
       "      <td>InflightEntertainment</td>\n",
       "      <td>[[': Aviation video:  -  This unusual figure r...</td>\n",
       "    </tr>\n",
       "    <tr>\n",
       "      <th>36</th>\n",
       "      <td>2020-01-23</td>\n",
       "      <td>InflightEntertainment</td>\n",
       "      <td>[[': A new video is out', 'A flight video of A...</td>\n",
       "    </tr>\n",
       "    <tr>\n",
       "      <th>37</th>\n",
       "      <td>2020-01-24</td>\n",
       "      <td>InflightEntertainment</td>\n",
       "      <td>[[' Did you miss that South Lawn video of Dona...</td>\n",
       "    </tr>\n",
       "    <tr>\n",
       "      <th>38</th>\n",
       "      <td>2020-01-25</td>\n",
       "      <td>InflightEntertainment</td>\n",
       "      <td>[[': New 40+ Minute  video from x93El Prat Jos...</td>\n",
       "    </tr>\n",
       "    <tr>\n",
       "      <th>39</th>\n",
       "      <td>2020-01-26</td>\n",
       "      <td>InflightEntertainment</td>\n",
       "      <td>[['A scene in Guy x99s new movie The Gentleman...</td>\n",
       "    </tr>\n",
       "    <tr>\n",
       "      <th>40</th>\n",
       "      <td>2020-01-17</td>\n",
       "      <td>GroundService</td>\n",
       "      <td>[[' why is it getting luggage at YVR is the sl...</td>\n",
       "    </tr>\n",
       "    <tr>\n",
       "      <th>41</th>\n",
       "      <td>2020-01-18</td>\n",
       "      <td>GroundService</td>\n",
       "      <td>[['I have lost my baggage since  in Paris (CDG...</td>\n",
       "    </tr>\n",
       "    <tr>\n",
       "      <th>42</th>\n",
       "      <td>2020-01-19</td>\n",
       "      <td>GroundService</td>\n",
       "      <td>[['  Singapore Airlines lifetime first class t...</td>\n",
       "    </tr>\n",
       "    <tr>\n",
       "      <th>43</th>\n",
       "      <td>2020-01-20</td>\n",
       "      <td>GroundService</td>\n",
       "      <td>[['Does anyone know how strict  are with cabin...</td>\n",
       "    </tr>\n",
       "    <tr>\n",
       "      <th>44</th>\n",
       "      <td>2020-01-21</td>\n",
       "      <td>GroundService</td>\n",
       "      <td>[['Air France-KLM CEO sees room for improvemen...</td>\n",
       "    </tr>\n",
       "    <tr>\n",
       "      <th>45</th>\n",
       "      <td>2020-01-22</td>\n",
       "      <td>GroundService</td>\n",
       "      <td>[[' I think the main point to me was that this...</td>\n",
       "    </tr>\n",
       "    <tr>\n",
       "      <th>46</th>\n",
       "      <td>2020-01-23</td>\n",
       "      <td>GroundService</td>\n",
       "      <td>[['CORONAVIRUS ALERT: This flyer will be poste...</td>\n",
       "    </tr>\n",
       "    <tr>\n",
       "      <th>47</th>\n",
       "      <td>2020-01-24</td>\n",
       "      <td>GroundService</td>\n",
       "      <td>[['   baggage drop and check-in lineup at  for...</td>\n",
       "    </tr>\n",
       "    <tr>\n",
       "      <th>48</th>\n",
       "      <td>2020-01-25</td>\n",
       "      <td>GroundService</td>\n",
       "      <td>[[\"They didn't even check on the old lady\"], [...</td>\n",
       "    </tr>\n",
       "    <tr>\n",
       "      <th>49</th>\n",
       "      <td>2020-01-26</td>\n",
       "      <td>GroundService</td>\n",
       "      <td>[['2nd wave of the big relief operations for T...</td>\n",
       "    </tr>\n",
       "  </tbody>\n",
       "</table>\n",
       "</div>"
      ],
      "text/plain": [
       "           day                subject  \\\n",
       "0   2020-01-17                   Seat   \n",
       "1   2020-01-18                   Seat   \n",
       "2   2020-01-19                   Seat   \n",
       "3   2020-01-20                   Seat   \n",
       "4   2020-01-21                   Seat   \n",
       "5   2020-01-22                   Seat   \n",
       "6   2020-01-23                   Seat   \n",
       "7   2020-01-24                   Seat   \n",
       "8   2020-01-25                   Seat   \n",
       "9   2020-01-26                   Seat   \n",
       "10  2020-01-17          Staff_Service   \n",
       "11  2020-01-18          Staff_Service   \n",
       "12  2020-01-19          Staff_Service   \n",
       "13  2020-01-20          Staff_Service   \n",
       "14  2020-01-21          Staff_Service   \n",
       "15  2020-01-22          Staff_Service   \n",
       "16  2020-01-23          Staff_Service   \n",
       "17  2020-01-24          Staff_Service   \n",
       "18  2020-01-25          Staff_Service   \n",
       "19  2020-01-26          Staff_Service   \n",
       "20  2020-01-17          FoodBeverages   \n",
       "21  2020-01-18          FoodBeverages   \n",
       "22  2020-01-19          FoodBeverages   \n",
       "23  2020-01-20          FoodBeverages   \n",
       "24  2020-01-21          FoodBeverages   \n",
       "25  2020-01-22          FoodBeverages   \n",
       "26  2020-01-23          FoodBeverages   \n",
       "27  2020-01-24          FoodBeverages   \n",
       "28  2020-01-25          FoodBeverages   \n",
       "29  2020-01-26          FoodBeverages   \n",
       "30  2020-01-17  InflightEntertainment   \n",
       "31  2020-01-18  InflightEntertainment   \n",
       "32  2020-01-19  InflightEntertainment   \n",
       "33  2020-01-20  InflightEntertainment   \n",
       "34  2020-01-21  InflightEntertainment   \n",
       "35  2020-01-22  InflightEntertainment   \n",
       "36  2020-01-23  InflightEntertainment   \n",
       "37  2020-01-24  InflightEntertainment   \n",
       "38  2020-01-25  InflightEntertainment   \n",
       "39  2020-01-26  InflightEntertainment   \n",
       "40  2020-01-17          GroundService   \n",
       "41  2020-01-18          GroundService   \n",
       "42  2020-01-19          GroundService   \n",
       "43  2020-01-20          GroundService   \n",
       "44  2020-01-21          GroundService   \n",
       "45  2020-01-22          GroundService   \n",
       "46  2020-01-23          GroundService   \n",
       "47  2020-01-24          GroundService   \n",
       "48  2020-01-25          GroundService   \n",
       "49  2020-01-26          GroundService   \n",
       "\n",
       "                                            avg_tweet  \n",
       "0   [['See that my seats have been changed even th...  \n",
       "1   [[' need to work harder - paid for first class...  \n",
       "2   [[' can you explain why my elderly mother in l...  \n",
       "3   [[': Malaysia has sent back 150 containers of ...  \n",
       "4   [['i literally almost cried cause i got rebook...  \n",
       "5   [['And this....how far do USA and Canada back ...  \n",
       "6   [['Lufthansa flight  from  to  is heading back...  \n",
       "7   [[\"Legally you've only got 4 days to get me co...  \n",
       "8   [['Need one of those vintage logos taken back ...  \n",
       "9   [[': We are signing a centre back', 'A full on...  \n",
       "10  [['Air France is continuing the move upmarket ...  \n",
       "11  [['\"Southwest\\'s new service from Houston to C...  \n",
       "12  [[' We need to purchase an unaccompanied minor...  \n",
       "13  [[' and  screwed over my poor old 69 years old...  \n",
       "14  [['1976 Concorde performed its first commercia...  \n",
       "15  [[': Air Canada flight attendant xa9tan Dugas ...  \n",
       "16  [['1976 Concorde performed its first commercia...  \n",
       "17  [[': JF-17 Thunder Block-III is expected to ro...  \n",
       "18  [['   I really had a bad experience as Emirate...  \n",
       "19  [['\" Disappointed me x94 although your continu...  \n",
       "20  [['the warmer waters of Lake Ontario starts to...  \n",
       "21  [[': Lufthansa offers selected meals and drink...  \n",
       "22  [['your food broke my tooth and no apology eve...  \n",
       "23  [[': Just some subjects of Trump dishonesty la...  \n",
       "24  [[' Emirates says Enjoy Meal although meal of ...  \n",
       "25  [[' The food quality and service of Air Canada...  \n",
       "26  [['united nations china chargeing maxine water...  \n",
       "27  [['but I have never wanted an eggplant sandwic...  \n",
       "28  [['aisle occupied by myself x81'], ['Here is w...  \n",
       "29  [['\"RT : They\\'re pulling out Emirates cup hig...  \n",
       "30  [['a guest conductor at the New York Philharmo...  \n",
       "31  [['he passenger paired the video with a sarcas...  \n",
       "32  [['Nice to see Kyiv (not Kiev) on personal scr...  \n",
       "33  [[': Aviation video:  2019 formation flight wi...  \n",
       "34  [['(the real life guy the movie Goodfellas was...  \n",
       "35  [[': Aviation video:  -  This unusual figure r...  \n",
       "36  [[': A new video is out', 'A flight video of A...  \n",
       "37  [[' Did you miss that South Lawn video of Dona...  \n",
       "38  [[': New 40+ Minute  video from x93El Prat Jos...  \n",
       "39  [['A scene in Guy x99s new movie The Gentleman...  \n",
       "40  [[' why is it getting luggage at YVR is the sl...  \n",
       "41  [['I have lost my baggage since  in Paris (CDG...  \n",
       "42  [['  Singapore Airlines lifetime first class t...  \n",
       "43  [['Does anyone know how strict  are with cabin...  \n",
       "44  [['Air France-KLM CEO sees room for improvemen...  \n",
       "45  [[' I think the main point to me was that this...  \n",
       "46  [['CORONAVIRUS ALERT: This flyer will be poste...  \n",
       "47  [['   baggage drop and check-in lineup at  for...  \n",
       "48  [[\"They didn't even check on the old lady\"], [...  \n",
       "49  [['2nd wave of the big relief operations for T...  "
      ]
     },
     "execution_count": 200,
     "metadata": {},
     "output_type": "execute_result"
    }
   ],
   "source": [
    "avg_tweet_day_subject"
   ]
  },
  {
   "cell_type": "code",
   "execution_count": 10,
   "metadata": {},
   "outputs": [
    {
     "data": {
      "text/html": [
       "<div>\n",
       "<style scoped>\n",
       "    .dataframe tbody tr th:only-of-type {\n",
       "        vertical-align: middle;\n",
       "    }\n",
       "\n",
       "    .dataframe tbody tr th {\n",
       "        vertical-align: top;\n",
       "    }\n",
       "\n",
       "    .dataframe thead th {\n",
       "        text-align: right;\n",
       "    }\n",
       "</style>\n",
       "<table border=\"1\" class=\"dataframe\">\n",
       "  <thead>\n",
       "    <tr style=\"text-align: right;\">\n",
       "      <th></th>\n",
       "      <th>day</th>\n",
       "      <th>seat</th>\n",
       "      <th>staff_service</th>\n",
       "      <th>foodbeverage</th>\n",
       "      <th>inflightent</th>\n",
       "      <th>gserv</th>\n",
       "    </tr>\n",
       "  </thead>\n",
       "  <tbody>\n",
       "    <tr>\n",
       "      <th>0</th>\n",
       "      <td>2020-01-16</td>\n",
       "      <td>-0.007487</td>\n",
       "      <td>0.014834</td>\n",
       "      <td>-0.166667</td>\n",
       "      <td>0.179293</td>\n",
       "      <td>0.019531</td>\n",
       "    </tr>\n",
       "    <tr>\n",
       "      <th>1</th>\n",
       "      <td>2020-01-17</td>\n",
       "      <td>-0.008384</td>\n",
       "      <td>-0.005114</td>\n",
       "      <td>0.030808</td>\n",
       "      <td>0.115341</td>\n",
       "      <td>-0.002608</td>\n",
       "    </tr>\n",
       "    <tr>\n",
       "      <th>2</th>\n",
       "      <td>2020-01-18</td>\n",
       "      <td>0.066038</td>\n",
       "      <td>0.098374</td>\n",
       "      <td>0.265278</td>\n",
       "      <td>0.070288</td>\n",
       "      <td>-0.046610</td>\n",
       "    </tr>\n",
       "    <tr>\n",
       "      <th>3</th>\n",
       "      <td>2020-01-19</td>\n",
       "      <td>0.082481</td>\n",
       "      <td>-0.039177</td>\n",
       "      <td>-0.000084</td>\n",
       "      <td>0.120954</td>\n",
       "      <td>0.017845</td>\n",
       "    </tr>\n",
       "    <tr>\n",
       "      <th>4</th>\n",
       "      <td>2020-01-20</td>\n",
       "      <td>0.062466</td>\n",
       "      <td>-0.066533</td>\n",
       "      <td>0.005889</td>\n",
       "      <td>0.037413</td>\n",
       "      <td>-0.029527</td>\n",
       "    </tr>\n",
       "    <tr>\n",
       "      <th>5</th>\n",
       "      <td>2020-01-21</td>\n",
       "      <td>0.040938</td>\n",
       "      <td>0.050725</td>\n",
       "      <td>0.068089</td>\n",
       "      <td>0.218182</td>\n",
       "      <td>0.020452</td>\n",
       "    </tr>\n",
       "    <tr>\n",
       "      <th>6</th>\n",
       "      <td>2020-01-22</td>\n",
       "      <td>0.031507</td>\n",
       "      <td>0.042885</td>\n",
       "      <td>-0.040122</td>\n",
       "      <td>0.215924</td>\n",
       "      <td>0.079406</td>\n",
       "    </tr>\n",
       "    <tr>\n",
       "      <th>7</th>\n",
       "      <td>2020-01-23</td>\n",
       "      <td>0.027704</td>\n",
       "      <td>0.080108</td>\n",
       "      <td>0.097826</td>\n",
       "      <td>0.143245</td>\n",
       "      <td>0.081652</td>\n",
       "    </tr>\n",
       "    <tr>\n",
       "      <th>8</th>\n",
       "      <td>2020-01-24</td>\n",
       "      <td>0.046974</td>\n",
       "      <td>-0.097874</td>\n",
       "      <td>0.091270</td>\n",
       "      <td>0.050000</td>\n",
       "      <td>0.048882</td>\n",
       "    </tr>\n",
       "    <tr>\n",
       "      <th>9</th>\n",
       "      <td>2020-01-25</td>\n",
       "      <td>0.077273</td>\n",
       "      <td>-0.080931</td>\n",
       "      <td>-0.004066</td>\n",
       "      <td>0.090362</td>\n",
       "      <td>0.053673</td>\n",
       "    </tr>\n",
       "    <tr>\n",
       "      <th>10</th>\n",
       "      <td>2020-01-26</td>\n",
       "      <td>0.085788</td>\n",
       "      <td>0.023233</td>\n",
       "      <td>-0.002371</td>\n",
       "      <td>0.156939</td>\n",
       "      <td>0.059301</td>\n",
       "    </tr>\n",
       "  </tbody>\n",
       "</table>\n",
       "</div>"
      ],
      "text/plain": [
       "           day      seat  staff_service  foodbeverage  inflightent     gserv\n",
       "0   2020-01-16 -0.007487       0.014834     -0.166667     0.179293  0.019531\n",
       "1   2020-01-17 -0.008384      -0.005114      0.030808     0.115341 -0.002608\n",
       "2   2020-01-18  0.066038       0.098374      0.265278     0.070288 -0.046610\n",
       "3   2020-01-19  0.082481      -0.039177     -0.000084     0.120954  0.017845\n",
       "4   2020-01-20  0.062466      -0.066533      0.005889     0.037413 -0.029527\n",
       "5   2020-01-21  0.040938       0.050725      0.068089     0.218182  0.020452\n",
       "6   2020-01-22  0.031507       0.042885     -0.040122     0.215924  0.079406\n",
       "7   2020-01-23  0.027704       0.080108      0.097826     0.143245  0.081652\n",
       "8   2020-01-24  0.046974      -0.097874      0.091270     0.050000  0.048882\n",
       "9   2020-01-25  0.077273      -0.080931     -0.004066     0.090362  0.053673\n",
       "10  2020-01-26  0.085788       0.023233     -0.002371     0.156939  0.059301"
      ]
     },
     "execution_count": 10,
     "metadata": {},
     "output_type": "execute_result"
    }
   ],
   "source": [
    "# Create a new dataframe with the day and the average sentiment for each topic\n",
    "df_new = df_seat.merge(df_staff, left_on = 'day', right_on = 'day')\n",
    "df_new = df_new.merge(df_fb, left_on = 'day', right_on = 'day')\n",
    "df_new = df_new.merge(df_ent, left_on = 'day', right_on = 'day')\n",
    "df_new = df_new.merge(df_gserv, left_on = 'day', right_on = 'day')\n",
    "df_new"
   ]
  },
  {
   "cell_type": "code",
   "execution_count": 16,
   "metadata": {},
   "outputs": [],
   "source": [
    "x_data = np.array([df_new['day']]*5)\n",
    "\n",
    "y_data = np.array([df_new['seat'],\n",
    "                   df_new['staff_service'],\n",
    "                   df_new['foodbeverage'],\n",
    "                   df_new['inflightent'],\n",
    "                   df_new['gserv']])"
   ]
  },
  {
   "cell_type": "code",
   "execution_count": 17,
   "metadata": {},
   "outputs": [
    {
     "data": {
      "text/plain": [
       "array([['2020-01-16', '2020-01-17', '2020-01-18', '2020-01-19',\n",
       "        '2020-01-20', '2020-01-21', '2020-01-22', '2020-01-23',\n",
       "        '2020-01-24', '2020-01-25', '2020-01-26'],\n",
       "       ['2020-01-16', '2020-01-17', '2020-01-18', '2020-01-19',\n",
       "        '2020-01-20', '2020-01-21', '2020-01-22', '2020-01-23',\n",
       "        '2020-01-24', '2020-01-25', '2020-01-26'],\n",
       "       ['2020-01-16', '2020-01-17', '2020-01-18', '2020-01-19',\n",
       "        '2020-01-20', '2020-01-21', '2020-01-22', '2020-01-23',\n",
       "        '2020-01-24', '2020-01-25', '2020-01-26'],\n",
       "       ['2020-01-16', '2020-01-17', '2020-01-18', '2020-01-19',\n",
       "        '2020-01-20', '2020-01-21', '2020-01-22', '2020-01-23',\n",
       "        '2020-01-24', '2020-01-25', '2020-01-26'],\n",
       "       ['2020-01-16', '2020-01-17', '2020-01-18', '2020-01-19',\n",
       "        '2020-01-20', '2020-01-21', '2020-01-22', '2020-01-23',\n",
       "        '2020-01-24', '2020-01-25', '2020-01-26']], dtype=object)"
      ]
     },
     "execution_count": 17,
     "metadata": {},
     "output_type": "execute_result"
    }
   ],
   "source": [
    "x_data"
   ]
  },
  {
   "cell_type": "code",
   "execution_count": 18,
   "metadata": {},
   "outputs": [
    {
     "data": {
      "text/plain": [
       "array([[-7.48737374e-03, -8.38428932e-03,  6.60380592e-02,\n",
       "         8.24810606e-02,  6.24664726e-02,  4.09382284e-02,\n",
       "         3.15071166e-02,  2.77036544e-02,  4.69737253e-02,\n",
       "         7.72727273e-02,  8.57883083e-02],\n",
       "       [ 1.48343904e-02, -5.11363636e-03,  9.83737374e-02,\n",
       "        -3.91768293e-02, -6.65327937e-02,  5.07245532e-02,\n",
       "         4.28851010e-02,  8.01084506e-02, -9.78741361e-02,\n",
       "        -8.09307359e-02,  2.32332643e-02],\n",
       "       [-1.66666667e-01,  3.08080808e-02,  2.65277778e-01,\n",
       "        -8.40336134e-05,  5.88852232e-03,  6.80894309e-02,\n",
       "        -4.01220469e-02,  9.78259676e-02,  9.12698413e-02,\n",
       "        -4.06617192e-03, -2.37068966e-03],\n",
       "       [ 1.79292929e-01,  1.15340909e-01,  7.02876984e-02,\n",
       "         1.20954106e-01,  3.74125874e-02,  2.18181818e-01,\n",
       "         2.15923945e-01,  1.43245243e-01,  5.00000000e-02,\n",
       "         9.03622693e-02,  1.56939394e-01],\n",
       "       [ 1.95308347e-02, -2.60804769e-03, -4.66095238e-02,\n",
       "         1.78447784e-02, -2.95265152e-02,  2.04524174e-02,\n",
       "         7.94056993e-02,  8.16523482e-02,  4.88822751e-02,\n",
       "         5.36728395e-02,  5.93010753e-02]])"
      ]
     },
     "execution_count": 18,
     "metadata": {},
     "output_type": "execute_result"
    }
   ],
   "source": [
    "y_data"
   ]
  },
  {
   "cell_type": "code",
   "execution_count": 31,
   "metadata": {},
   "outputs": [
    {
     "data": {
      "application/vnd.plotly.v1+json": {
       "config": {
        "plotlyServerURL": "https://plot.ly"
       },
       "data": [
        {
         "connectgaps": true,
         "line": {
          "color": "rgb(67,67,67)",
          "width": 4
         },
         "mode": "lines",
         "name": "Seat",
         "type": "scatter",
         "x": [
          "2020-01-16",
          "2020-01-17",
          "2020-01-18",
          "2020-01-19",
          "2020-01-20",
          "2020-01-21",
          "2020-01-22",
          "2020-01-23",
          "2020-01-24",
          "2020-01-25",
          "2020-01-26"
         ],
         "y": [
          -0.00748737373737374,
          -0.008384289321789315,
          0.06603805916305916,
          0.0824810606060606,
          0.06246647263596414,
          0.040938228438228454,
          0.031507116620752985,
          0.027703654370321053,
          0.04697372534872535,
          0.07727272727272728,
          0.08578830825994783
         ]
        },
        {
         "marker": {
          "color": "rgb(67,67,67)",
          "size": 10
         },
         "mode": "markers",
         "type": "scatter",
         "x": [
          "2020-01-16",
          "2020-01-26"
         ],
         "y": [
          -0.00748737373737374,
          0.08578830825994783
         ]
        },
        {
         "connectgaps": true,
         "line": {
          "color": "rgb(115,115,115)",
          "width": 4
         },
         "mode": "lines",
         "name": "Staff Service",
         "type": "scatter",
         "x": [
          "2020-01-16",
          "2020-01-17",
          "2020-01-18",
          "2020-01-19",
          "2020-01-20",
          "2020-01-21",
          "2020-01-22",
          "2020-01-23",
          "2020-01-24",
          "2020-01-25",
          "2020-01-26"
         ],
         "y": [
          0.014834390415785772,
          -0.005113636363636379,
          0.09837373737373738,
          -0.039176829268292676,
          -0.06653279369032791,
          0.050724553224553166,
          0.04288510101010099,
          0.0801084505772006,
          -0.09787413609782028,
          -0.08093073593073592,
          0.023233264320220853
         ]
        },
        {
         "marker": {
          "color": "rgb(115,115,115)",
          "size": 10
         },
         "mode": "markers",
         "type": "scatter",
         "x": [
          "2020-01-16",
          "2020-01-26"
         ],
         "y": [
          0.014834390415785772,
          0.023233264320220853
         ]
        },
        {
         "connectgaps": true,
         "line": {
          "color": "rgb(49,130,189)",
          "width": 4
         },
         "mode": "lines",
         "name": "Food & Beverage",
         "type": "scatter",
         "x": [
          "2020-01-16",
          "2020-01-17",
          "2020-01-18",
          "2020-01-19",
          "2020-01-20",
          "2020-01-21",
          "2020-01-22",
          "2020-01-23",
          "2020-01-24",
          "2020-01-25",
          "2020-01-26"
         ],
         "y": [
          -0.1666666666666666,
          0.030808080808080802,
          0.2652777777777778,
          -8.403361344537813e-05,
          0.005888522319973934,
          0.06808943089430895,
          -0.0401220468807678,
          0.09782596756477356,
          0.09126984126984128,
          -0.004066171923314787,
          -0.0023706896551724146
         ]
        },
        {
         "marker": {
          "color": "rgb(49,130,189)",
          "size": 10
         },
         "mode": "markers",
         "type": "scatter",
         "x": [
          "2020-01-16",
          "2020-01-26"
         ],
         "y": [
          -0.1666666666666666,
          -0.0023706896551724146
         ]
        },
        {
         "connectgaps": true,
         "line": {
          "color": "rgb(189,189,189)",
          "width": 4
         },
         "mode": "lines",
         "name": "Inflight Entertainment",
         "type": "scatter",
         "x": [
          "2020-01-16",
          "2020-01-17",
          "2020-01-18",
          "2020-01-19",
          "2020-01-20",
          "2020-01-21",
          "2020-01-22",
          "2020-01-23",
          "2020-01-24",
          "2020-01-25",
          "2020-01-26"
         ],
         "y": [
          0.17929292929292928,
          0.11534090909090909,
          0.07028769841269841,
          0.12095410628019324,
          0.03741258741258741,
          0.2181818181818182,
          0.21592394533571002,
          0.14324524312896408,
          0.05,
          0.09036226930963771,
          0.15693939393939393
         ]
        },
        {
         "marker": {
          "color": "rgb(189,189,189)",
          "size": 10
         },
         "mode": "markers",
         "type": "scatter",
         "x": [
          "2020-01-16",
          "2020-01-26"
         ],
         "y": [
          0.17929292929292928,
          0.15693939393939393
         ]
        },
        {
         "connectgaps": true,
         "line": {
          "color": "rgb(40,140,140)",
          "width": 4
         },
         "mode": "lines",
         "name": "Ground Service",
         "type": "scatter",
         "x": [
          "2020-01-16",
          "2020-01-17",
          "2020-01-18",
          "2020-01-19",
          "2020-01-20",
          "2020-01-21",
          "2020-01-22",
          "2020-01-23",
          "2020-01-24",
          "2020-01-25",
          "2020-01-26"
         ],
         "y": [
          0.019530834662413607,
          -0.0026080476900149046,
          -0.04660952380952382,
          0.017844778429455845,
          -0.029526515151515165,
          0.020452417432754513,
          0.07940569928758909,
          0.08165234822451317,
          0.04888227513227513,
          0.05367283950617286,
          0.05930107526881723
         ]
        },
        {
         "marker": {
          "color": "rgb(40,140,140)",
          "size": 10
         },
         "mode": "markers",
         "type": "scatter",
         "x": [
          "2020-01-16",
          "2020-01-26"
         ],
         "y": [
          0.019530834662413607,
          0.05930107526881723
         ]
        }
       ],
       "layout": {
        "annotations": [
         {
          "font": {
           "family": "Arial",
           "size": 16
          },
          "showarrow": false,
          "text": "Seat -0.07‰",
          "x": 0.05,
          "xanchor": "right",
          "xref": "paper",
          "y": -0.00748737373737374,
          "yanchor": "middle"
         },
         {
          "font": {
           "family": "Arial",
           "size": 16
          },
          "showarrow": false,
          "text": "0.86‰",
          "x": 0.95,
          "xanchor": "left",
          "xref": "paper",
          "y": 0.08578830825994783,
          "yanchor": "middle"
         },
         {
          "font": {
           "family": "Arial",
           "size": 16
          },
          "showarrow": false,
          "text": "Staff Service 0.15‰",
          "x": 0.05,
          "xanchor": "right",
          "xref": "paper",
          "y": 0.014834390415785772,
          "yanchor": "middle"
         },
         {
          "font": {
           "family": "Arial",
           "size": 16
          },
          "showarrow": false,
          "text": "0.23‰",
          "x": 0.95,
          "xanchor": "left",
          "xref": "paper",
          "y": 0.023233264320220853,
          "yanchor": "middle"
         },
         {
          "font": {
           "family": "Arial",
           "size": 16
          },
          "showarrow": false,
          "text": "Food & Beverage -1.67‰",
          "x": 0.05,
          "xanchor": "right",
          "xref": "paper",
          "y": -0.1666666666666666,
          "yanchor": "middle"
         },
         {
          "font": {
           "family": "Arial",
           "size": 16
          },
          "showarrow": false,
          "text": "-0.02‰",
          "x": 0.95,
          "xanchor": "left",
          "xref": "paper",
          "y": -0.0023706896551724146,
          "yanchor": "middle"
         },
         {
          "font": {
           "family": "Arial",
           "size": 16
          },
          "showarrow": false,
          "text": "Inflight Entertainment 1.79‰",
          "x": 0.05,
          "xanchor": "right",
          "xref": "paper",
          "y": 0.17929292929292928,
          "yanchor": "middle"
         },
         {
          "font": {
           "family": "Arial",
           "size": 16
          },
          "showarrow": false,
          "text": "1.57‰",
          "x": 0.95,
          "xanchor": "left",
          "xref": "paper",
          "y": 0.15693939393939393,
          "yanchor": "middle"
         },
         {
          "font": {
           "family": "Arial",
           "size": 16
          },
          "showarrow": false,
          "text": "Ground Service 0.2‰",
          "x": 0.05,
          "xanchor": "right",
          "xref": "paper",
          "y": 0.019530834662413607,
          "yanchor": "middle"
         },
         {
          "font": {
           "family": "Arial",
           "size": 16
          },
          "showarrow": false,
          "text": "0.59‰",
          "x": 0.95,
          "xanchor": "left",
          "xref": "paper",
          "y": 0.05930107526881723,
          "yanchor": "middle"
         },
         {
          "font": {
           "color": "rgb(37,37,37)",
           "family": "Arial",
           "size": 30
          },
          "showarrow": false,
          "text": "Social Media Sentiment over the last 7 days",
          "x": 0,
          "xanchor": "left",
          "xref": "paper",
          "y": 1.05,
          "yanchor": "bottom",
          "yref": "paper"
         },
         {
          "font": {
           "color": "rgb(150,150,150)",
           "family": "Arial",
           "size": 12
          },
          "showarrow": false,
          "text": "Source: Twitter",
          "x": 0.5,
          "xanchor": "center",
          "xref": "paper",
          "y": -0.1,
          "yanchor": "top",
          "yref": "paper"
         }
        ],
        "autosize": false,
        "margin": {
         "autoexpand": false,
         "l": 100,
         "r": 20,
         "t": 110
        },
        "plot_bgcolor": "white",
        "showlegend": false,
        "template": {
         "data": {
          "bar": [
           {
            "error_x": {
             "color": "#2a3f5f"
            },
            "error_y": {
             "color": "#2a3f5f"
            },
            "marker": {
             "line": {
              "color": "#E5ECF6",
              "width": 0.5
             }
            },
            "type": "bar"
           }
          ],
          "barpolar": [
           {
            "marker": {
             "line": {
              "color": "#E5ECF6",
              "width": 0.5
             }
            },
            "type": "barpolar"
           }
          ],
          "carpet": [
           {
            "aaxis": {
             "endlinecolor": "#2a3f5f",
             "gridcolor": "white",
             "linecolor": "white",
             "minorgridcolor": "white",
             "startlinecolor": "#2a3f5f"
            },
            "baxis": {
             "endlinecolor": "#2a3f5f",
             "gridcolor": "white",
             "linecolor": "white",
             "minorgridcolor": "white",
             "startlinecolor": "#2a3f5f"
            },
            "type": "carpet"
           }
          ],
          "choropleth": [
           {
            "colorbar": {
             "outlinewidth": 0,
             "ticks": ""
            },
            "type": "choropleth"
           }
          ],
          "contour": [
           {
            "colorbar": {
             "outlinewidth": 0,
             "ticks": ""
            },
            "colorscale": [
             [
              0,
              "#0d0887"
             ],
             [
              0.1111111111111111,
              "#46039f"
             ],
             [
              0.2222222222222222,
              "#7201a8"
             ],
             [
              0.3333333333333333,
              "#9c179e"
             ],
             [
              0.4444444444444444,
              "#bd3786"
             ],
             [
              0.5555555555555556,
              "#d8576b"
             ],
             [
              0.6666666666666666,
              "#ed7953"
             ],
             [
              0.7777777777777778,
              "#fb9f3a"
             ],
             [
              0.8888888888888888,
              "#fdca26"
             ],
             [
              1,
              "#f0f921"
             ]
            ],
            "type": "contour"
           }
          ],
          "contourcarpet": [
           {
            "colorbar": {
             "outlinewidth": 0,
             "ticks": ""
            },
            "type": "contourcarpet"
           }
          ],
          "heatmap": [
           {
            "colorbar": {
             "outlinewidth": 0,
             "ticks": ""
            },
            "colorscale": [
             [
              0,
              "#0d0887"
             ],
             [
              0.1111111111111111,
              "#46039f"
             ],
             [
              0.2222222222222222,
              "#7201a8"
             ],
             [
              0.3333333333333333,
              "#9c179e"
             ],
             [
              0.4444444444444444,
              "#bd3786"
             ],
             [
              0.5555555555555556,
              "#d8576b"
             ],
             [
              0.6666666666666666,
              "#ed7953"
             ],
             [
              0.7777777777777778,
              "#fb9f3a"
             ],
             [
              0.8888888888888888,
              "#fdca26"
             ],
             [
              1,
              "#f0f921"
             ]
            ],
            "type": "heatmap"
           }
          ],
          "heatmapgl": [
           {
            "colorbar": {
             "outlinewidth": 0,
             "ticks": ""
            },
            "colorscale": [
             [
              0,
              "#0d0887"
             ],
             [
              0.1111111111111111,
              "#46039f"
             ],
             [
              0.2222222222222222,
              "#7201a8"
             ],
             [
              0.3333333333333333,
              "#9c179e"
             ],
             [
              0.4444444444444444,
              "#bd3786"
             ],
             [
              0.5555555555555556,
              "#d8576b"
             ],
             [
              0.6666666666666666,
              "#ed7953"
             ],
             [
              0.7777777777777778,
              "#fb9f3a"
             ],
             [
              0.8888888888888888,
              "#fdca26"
             ],
             [
              1,
              "#f0f921"
             ]
            ],
            "type": "heatmapgl"
           }
          ],
          "histogram": [
           {
            "marker": {
             "colorbar": {
              "outlinewidth": 0,
              "ticks": ""
             }
            },
            "type": "histogram"
           }
          ],
          "histogram2d": [
           {
            "colorbar": {
             "outlinewidth": 0,
             "ticks": ""
            },
            "colorscale": [
             [
              0,
              "#0d0887"
             ],
             [
              0.1111111111111111,
              "#46039f"
             ],
             [
              0.2222222222222222,
              "#7201a8"
             ],
             [
              0.3333333333333333,
              "#9c179e"
             ],
             [
              0.4444444444444444,
              "#bd3786"
             ],
             [
              0.5555555555555556,
              "#d8576b"
             ],
             [
              0.6666666666666666,
              "#ed7953"
             ],
             [
              0.7777777777777778,
              "#fb9f3a"
             ],
             [
              0.8888888888888888,
              "#fdca26"
             ],
             [
              1,
              "#f0f921"
             ]
            ],
            "type": "histogram2d"
           }
          ],
          "histogram2dcontour": [
           {
            "colorbar": {
             "outlinewidth": 0,
             "ticks": ""
            },
            "colorscale": [
             [
              0,
              "#0d0887"
             ],
             [
              0.1111111111111111,
              "#46039f"
             ],
             [
              0.2222222222222222,
              "#7201a8"
             ],
             [
              0.3333333333333333,
              "#9c179e"
             ],
             [
              0.4444444444444444,
              "#bd3786"
             ],
             [
              0.5555555555555556,
              "#d8576b"
             ],
             [
              0.6666666666666666,
              "#ed7953"
             ],
             [
              0.7777777777777778,
              "#fb9f3a"
             ],
             [
              0.8888888888888888,
              "#fdca26"
             ],
             [
              1,
              "#f0f921"
             ]
            ],
            "type": "histogram2dcontour"
           }
          ],
          "mesh3d": [
           {
            "colorbar": {
             "outlinewidth": 0,
             "ticks": ""
            },
            "type": "mesh3d"
           }
          ],
          "parcoords": [
           {
            "line": {
             "colorbar": {
              "outlinewidth": 0,
              "ticks": ""
             }
            },
            "type": "parcoords"
           }
          ],
          "pie": [
           {
            "automargin": true,
            "type": "pie"
           }
          ],
          "scatter": [
           {
            "marker": {
             "colorbar": {
              "outlinewidth": 0,
              "ticks": ""
             }
            },
            "type": "scatter"
           }
          ],
          "scatter3d": [
           {
            "line": {
             "colorbar": {
              "outlinewidth": 0,
              "ticks": ""
             }
            },
            "marker": {
             "colorbar": {
              "outlinewidth": 0,
              "ticks": ""
             }
            },
            "type": "scatter3d"
           }
          ],
          "scattercarpet": [
           {
            "marker": {
             "colorbar": {
              "outlinewidth": 0,
              "ticks": ""
             }
            },
            "type": "scattercarpet"
           }
          ],
          "scattergeo": [
           {
            "marker": {
             "colorbar": {
              "outlinewidth": 0,
              "ticks": ""
             }
            },
            "type": "scattergeo"
           }
          ],
          "scattergl": [
           {
            "marker": {
             "colorbar": {
              "outlinewidth": 0,
              "ticks": ""
             }
            },
            "type": "scattergl"
           }
          ],
          "scattermapbox": [
           {
            "marker": {
             "colorbar": {
              "outlinewidth": 0,
              "ticks": ""
             }
            },
            "type": "scattermapbox"
           }
          ],
          "scatterpolar": [
           {
            "marker": {
             "colorbar": {
              "outlinewidth": 0,
              "ticks": ""
             }
            },
            "type": "scatterpolar"
           }
          ],
          "scatterpolargl": [
           {
            "marker": {
             "colorbar": {
              "outlinewidth": 0,
              "ticks": ""
             }
            },
            "type": "scatterpolargl"
           }
          ],
          "scatterternary": [
           {
            "marker": {
             "colorbar": {
              "outlinewidth": 0,
              "ticks": ""
             }
            },
            "type": "scatterternary"
           }
          ],
          "surface": [
           {
            "colorbar": {
             "outlinewidth": 0,
             "ticks": ""
            },
            "colorscale": [
             [
              0,
              "#0d0887"
             ],
             [
              0.1111111111111111,
              "#46039f"
             ],
             [
              0.2222222222222222,
              "#7201a8"
             ],
             [
              0.3333333333333333,
              "#9c179e"
             ],
             [
              0.4444444444444444,
              "#bd3786"
             ],
             [
              0.5555555555555556,
              "#d8576b"
             ],
             [
              0.6666666666666666,
              "#ed7953"
             ],
             [
              0.7777777777777778,
              "#fb9f3a"
             ],
             [
              0.8888888888888888,
              "#fdca26"
             ],
             [
              1,
              "#f0f921"
             ]
            ],
            "type": "surface"
           }
          ],
          "table": [
           {
            "cells": {
             "fill": {
              "color": "#EBF0F8"
             },
             "line": {
              "color": "white"
             }
            },
            "header": {
             "fill": {
              "color": "#C8D4E3"
             },
             "line": {
              "color": "white"
             }
            },
            "type": "table"
           }
          ]
         },
         "layout": {
          "annotationdefaults": {
           "arrowcolor": "#2a3f5f",
           "arrowhead": 0,
           "arrowwidth": 1
          },
          "coloraxis": {
           "colorbar": {
            "outlinewidth": 0,
            "ticks": ""
           }
          },
          "colorscale": {
           "diverging": [
            [
             0,
             "#8e0152"
            ],
            [
             0.1,
             "#c51b7d"
            ],
            [
             0.2,
             "#de77ae"
            ],
            [
             0.3,
             "#f1b6da"
            ],
            [
             0.4,
             "#fde0ef"
            ],
            [
             0.5,
             "#f7f7f7"
            ],
            [
             0.6,
             "#e6f5d0"
            ],
            [
             0.7,
             "#b8e186"
            ],
            [
             0.8,
             "#7fbc41"
            ],
            [
             0.9,
             "#4d9221"
            ],
            [
             1,
             "#276419"
            ]
           ],
           "sequential": [
            [
             0,
             "#0d0887"
            ],
            [
             0.1111111111111111,
             "#46039f"
            ],
            [
             0.2222222222222222,
             "#7201a8"
            ],
            [
             0.3333333333333333,
             "#9c179e"
            ],
            [
             0.4444444444444444,
             "#bd3786"
            ],
            [
             0.5555555555555556,
             "#d8576b"
            ],
            [
             0.6666666666666666,
             "#ed7953"
            ],
            [
             0.7777777777777778,
             "#fb9f3a"
            ],
            [
             0.8888888888888888,
             "#fdca26"
            ],
            [
             1,
             "#f0f921"
            ]
           ],
           "sequentialminus": [
            [
             0,
             "#0d0887"
            ],
            [
             0.1111111111111111,
             "#46039f"
            ],
            [
             0.2222222222222222,
             "#7201a8"
            ],
            [
             0.3333333333333333,
             "#9c179e"
            ],
            [
             0.4444444444444444,
             "#bd3786"
            ],
            [
             0.5555555555555556,
             "#d8576b"
            ],
            [
             0.6666666666666666,
             "#ed7953"
            ],
            [
             0.7777777777777778,
             "#fb9f3a"
            ],
            [
             0.8888888888888888,
             "#fdca26"
            ],
            [
             1,
             "#f0f921"
            ]
           ]
          },
          "colorway": [
           "#636efa",
           "#EF553B",
           "#00cc96",
           "#ab63fa",
           "#FFA15A",
           "#19d3f3",
           "#FF6692",
           "#B6E880",
           "#FF97FF",
           "#FECB52"
          ],
          "font": {
           "color": "#2a3f5f"
          },
          "geo": {
           "bgcolor": "white",
           "lakecolor": "white",
           "landcolor": "#E5ECF6",
           "showlakes": true,
           "showland": true,
           "subunitcolor": "white"
          },
          "hoverlabel": {
           "align": "left"
          },
          "hovermode": "closest",
          "mapbox": {
           "style": "light"
          },
          "paper_bgcolor": "white",
          "plot_bgcolor": "#E5ECF6",
          "polar": {
           "angularaxis": {
            "gridcolor": "white",
            "linecolor": "white",
            "ticks": ""
           },
           "bgcolor": "#E5ECF6",
           "radialaxis": {
            "gridcolor": "white",
            "linecolor": "white",
            "ticks": ""
           }
          },
          "scene": {
           "xaxis": {
            "backgroundcolor": "#E5ECF6",
            "gridcolor": "white",
            "gridwidth": 2,
            "linecolor": "white",
            "showbackground": true,
            "ticks": "",
            "zerolinecolor": "white"
           },
           "yaxis": {
            "backgroundcolor": "#E5ECF6",
            "gridcolor": "white",
            "gridwidth": 2,
            "linecolor": "white",
            "showbackground": true,
            "ticks": "",
            "zerolinecolor": "white"
           },
           "zaxis": {
            "backgroundcolor": "#E5ECF6",
            "gridcolor": "white",
            "gridwidth": 2,
            "linecolor": "white",
            "showbackground": true,
            "ticks": "",
            "zerolinecolor": "white"
           }
          },
          "shapedefaults": {
           "line": {
            "color": "#2a3f5f"
           }
          },
          "ternary": {
           "aaxis": {
            "gridcolor": "white",
            "linecolor": "white",
            "ticks": ""
           },
           "baxis": {
            "gridcolor": "white",
            "linecolor": "white",
            "ticks": ""
           },
           "bgcolor": "#E5ECF6",
           "caxis": {
            "gridcolor": "white",
            "linecolor": "white",
            "ticks": ""
           }
          },
          "title": {
           "x": 0.05
          },
          "xaxis": {
           "automargin": true,
           "gridcolor": "white",
           "linecolor": "white",
           "ticks": "",
           "title": {
            "standoff": 15
           },
           "zerolinecolor": "white",
           "zerolinewidth": 2
          },
          "yaxis": {
           "automargin": true,
           "gridcolor": "white",
           "linecolor": "white",
           "ticks": "",
           "title": {
            "standoff": 15
           },
           "zerolinecolor": "white",
           "zerolinewidth": 2
          }
         }
        },
        "xaxis": {
         "linecolor": "rgb(204, 204, 204)",
         "linewidth": 2,
         "showgrid": false,
         "showline": true,
         "showticklabels": true,
         "tickfont": {
          "color": "rgb(82, 82, 82)",
          "family": "Arial",
          "size": 12
         },
         "ticks": "outside"
        },
        "yaxis": {
         "showgrid": false,
         "showline": false,
         "showticklabels": false,
         "zeroline": false
        }
       }
      },
      "text/html": [
       "<div>\n",
       "        \n",
       "        \n",
       "            <div id=\"cc686ccd-1c02-46e9-b169-05b22c76e51b\" class=\"plotly-graph-div\" style=\"height:525px; width:100%;\"></div>\n",
       "            <script type=\"text/javascript\">\n",
       "                require([\"plotly\"], function(Plotly) {\n",
       "                    window.PLOTLYENV=window.PLOTLYENV || {};\n",
       "                    \n",
       "                if (document.getElementById(\"cc686ccd-1c02-46e9-b169-05b22c76e51b\")) {\n",
       "                    Plotly.newPlot(\n",
       "                        'cc686ccd-1c02-46e9-b169-05b22c76e51b',\n",
       "                        [{\"connectgaps\": true, \"line\": {\"color\": \"rgb(67,67,67)\", \"width\": 4}, \"mode\": \"lines\", \"name\": \"Seat\", \"type\": \"scatter\", \"x\": [\"2020-01-16\", \"2020-01-17\", \"2020-01-18\", \"2020-01-19\", \"2020-01-20\", \"2020-01-21\", \"2020-01-22\", \"2020-01-23\", \"2020-01-24\", \"2020-01-25\", \"2020-01-26\"], \"y\": [-0.00748737373737374, -0.008384289321789315, 0.06603805916305916, 0.0824810606060606, 0.06246647263596414, 0.040938228438228454, 0.031507116620752985, 0.027703654370321053, 0.04697372534872535, 0.07727272727272728, 0.08578830825994783]}, {\"marker\": {\"color\": \"rgb(67,67,67)\", \"size\": 10}, \"mode\": \"markers\", \"type\": \"scatter\", \"x\": [\"2020-01-16\", \"2020-01-26\"], \"y\": [-0.00748737373737374, 0.08578830825994783]}, {\"connectgaps\": true, \"line\": {\"color\": \"rgb(115,115,115)\", \"width\": 4}, \"mode\": \"lines\", \"name\": \"Staff Service\", \"type\": \"scatter\", \"x\": [\"2020-01-16\", \"2020-01-17\", \"2020-01-18\", \"2020-01-19\", \"2020-01-20\", \"2020-01-21\", \"2020-01-22\", \"2020-01-23\", \"2020-01-24\", \"2020-01-25\", \"2020-01-26\"], \"y\": [0.014834390415785772, -0.005113636363636379, 0.09837373737373738, -0.039176829268292676, -0.06653279369032791, 0.050724553224553166, 0.04288510101010099, 0.0801084505772006, -0.09787413609782028, -0.08093073593073592, 0.023233264320220853]}, {\"marker\": {\"color\": \"rgb(115,115,115)\", \"size\": 10}, \"mode\": \"markers\", \"type\": \"scatter\", \"x\": [\"2020-01-16\", \"2020-01-26\"], \"y\": [0.014834390415785772, 0.023233264320220853]}, {\"connectgaps\": true, \"line\": {\"color\": \"rgb(49,130,189)\", \"width\": 4}, \"mode\": \"lines\", \"name\": \"Food & Beverage\", \"type\": \"scatter\", \"x\": [\"2020-01-16\", \"2020-01-17\", \"2020-01-18\", \"2020-01-19\", \"2020-01-20\", \"2020-01-21\", \"2020-01-22\", \"2020-01-23\", \"2020-01-24\", \"2020-01-25\", \"2020-01-26\"], \"y\": [-0.1666666666666666, 0.030808080808080802, 0.2652777777777778, -8.403361344537813e-05, 0.005888522319973934, 0.06808943089430895, -0.0401220468807678, 0.09782596756477356, 0.09126984126984128, -0.004066171923314787, -0.0023706896551724146]}, {\"marker\": {\"color\": \"rgb(49,130,189)\", \"size\": 10}, \"mode\": \"markers\", \"type\": \"scatter\", \"x\": [\"2020-01-16\", \"2020-01-26\"], \"y\": [-0.1666666666666666, -0.0023706896551724146]}, {\"connectgaps\": true, \"line\": {\"color\": \"rgb(189,189,189)\", \"width\": 4}, \"mode\": \"lines\", \"name\": \"Inflight Entertainment\", \"type\": \"scatter\", \"x\": [\"2020-01-16\", \"2020-01-17\", \"2020-01-18\", \"2020-01-19\", \"2020-01-20\", \"2020-01-21\", \"2020-01-22\", \"2020-01-23\", \"2020-01-24\", \"2020-01-25\", \"2020-01-26\"], \"y\": [0.17929292929292928, 0.11534090909090909, 0.07028769841269841, 0.12095410628019324, 0.03741258741258741, 0.2181818181818182, 0.21592394533571002, 0.14324524312896408, 0.05, 0.09036226930963771, 0.15693939393939393]}, {\"marker\": {\"color\": \"rgb(189,189,189)\", \"size\": 10}, \"mode\": \"markers\", \"type\": \"scatter\", \"x\": [\"2020-01-16\", \"2020-01-26\"], \"y\": [0.17929292929292928, 0.15693939393939393]}, {\"connectgaps\": true, \"line\": {\"color\": \"rgb(40,140,140)\", \"width\": 4}, \"mode\": \"lines\", \"name\": \"Ground Service\", \"type\": \"scatter\", \"x\": [\"2020-01-16\", \"2020-01-17\", \"2020-01-18\", \"2020-01-19\", \"2020-01-20\", \"2020-01-21\", \"2020-01-22\", \"2020-01-23\", \"2020-01-24\", \"2020-01-25\", \"2020-01-26\"], \"y\": [0.019530834662413607, -0.0026080476900149046, -0.04660952380952382, 0.017844778429455845, -0.029526515151515165, 0.020452417432754513, 0.07940569928758909, 0.08165234822451317, 0.04888227513227513, 0.05367283950617286, 0.05930107526881723]}, {\"marker\": {\"color\": \"rgb(40,140,140)\", \"size\": 10}, \"mode\": \"markers\", \"type\": \"scatter\", \"x\": [\"2020-01-16\", \"2020-01-26\"], \"y\": [0.019530834662413607, 0.05930107526881723]}],\n",
       "                        {\"annotations\": [{\"font\": {\"family\": \"Arial\", \"size\": 16}, \"showarrow\": false, \"text\": \"Seat -0.07\\u2030\", \"x\": 0.05, \"xanchor\": \"right\", \"xref\": \"paper\", \"y\": -0.00748737373737374, \"yanchor\": \"middle\"}, {\"font\": {\"family\": \"Arial\", \"size\": 16}, \"showarrow\": false, \"text\": \"0.86\\u2030\", \"x\": 0.95, \"xanchor\": \"left\", \"xref\": \"paper\", \"y\": 0.08578830825994783, \"yanchor\": \"middle\"}, {\"font\": {\"family\": \"Arial\", \"size\": 16}, \"showarrow\": false, \"text\": \"Staff Service 0.15\\u2030\", \"x\": 0.05, \"xanchor\": \"right\", \"xref\": \"paper\", \"y\": 0.014834390415785772, \"yanchor\": \"middle\"}, {\"font\": {\"family\": \"Arial\", \"size\": 16}, \"showarrow\": false, \"text\": \"0.23\\u2030\", \"x\": 0.95, \"xanchor\": \"left\", \"xref\": \"paper\", \"y\": 0.023233264320220853, \"yanchor\": \"middle\"}, {\"font\": {\"family\": \"Arial\", \"size\": 16}, \"showarrow\": false, \"text\": \"Food & Beverage -1.67\\u2030\", \"x\": 0.05, \"xanchor\": \"right\", \"xref\": \"paper\", \"y\": -0.1666666666666666, \"yanchor\": \"middle\"}, {\"font\": {\"family\": \"Arial\", \"size\": 16}, \"showarrow\": false, \"text\": \"-0.02\\u2030\", \"x\": 0.95, \"xanchor\": \"left\", \"xref\": \"paper\", \"y\": -0.0023706896551724146, \"yanchor\": \"middle\"}, {\"font\": {\"family\": \"Arial\", \"size\": 16}, \"showarrow\": false, \"text\": \"Inflight Entertainment 1.79\\u2030\", \"x\": 0.05, \"xanchor\": \"right\", \"xref\": \"paper\", \"y\": 0.17929292929292928, \"yanchor\": \"middle\"}, {\"font\": {\"family\": \"Arial\", \"size\": 16}, \"showarrow\": false, \"text\": \"1.57\\u2030\", \"x\": 0.95, \"xanchor\": \"left\", \"xref\": \"paper\", \"y\": 0.15693939393939393, \"yanchor\": \"middle\"}, {\"font\": {\"family\": \"Arial\", \"size\": 16}, \"showarrow\": false, \"text\": \"Ground Service 0.2\\u2030\", \"x\": 0.05, \"xanchor\": \"right\", \"xref\": \"paper\", \"y\": 0.019530834662413607, \"yanchor\": \"middle\"}, {\"font\": {\"family\": \"Arial\", \"size\": 16}, \"showarrow\": false, \"text\": \"0.59\\u2030\", \"x\": 0.95, \"xanchor\": \"left\", \"xref\": \"paper\", \"y\": 0.05930107526881723, \"yanchor\": \"middle\"}, {\"font\": {\"color\": \"rgb(37,37,37)\", \"family\": \"Arial\", \"size\": 30}, \"showarrow\": false, \"text\": \"Social Media Sentiment over the last 7 days\", \"x\": 0.0, \"xanchor\": \"left\", \"xref\": \"paper\", \"y\": 1.05, \"yanchor\": \"bottom\", \"yref\": \"paper\"}, {\"font\": {\"color\": \"rgb(150,150,150)\", \"family\": \"Arial\", \"size\": 12}, \"showarrow\": false, \"text\": \"Source: Twitter\", \"x\": 0.5, \"xanchor\": \"center\", \"xref\": \"paper\", \"y\": -0.1, \"yanchor\": \"top\", \"yref\": \"paper\"}], \"autosize\": false, \"margin\": {\"autoexpand\": false, \"l\": 100, \"r\": 20, \"t\": 110}, \"plot_bgcolor\": \"white\", \"showlegend\": false, \"template\": {\"data\": {\"bar\": [{\"error_x\": {\"color\": \"#2a3f5f\"}, \"error_y\": {\"color\": \"#2a3f5f\"}, \"marker\": {\"line\": {\"color\": \"#E5ECF6\", \"width\": 0.5}}, \"type\": \"bar\"}], \"barpolar\": [{\"marker\": {\"line\": {\"color\": \"#E5ECF6\", \"width\": 0.5}}, \"type\": \"barpolar\"}], \"carpet\": [{\"aaxis\": {\"endlinecolor\": \"#2a3f5f\", \"gridcolor\": \"white\", \"linecolor\": \"white\", \"minorgridcolor\": \"white\", \"startlinecolor\": \"#2a3f5f\"}, \"baxis\": {\"endlinecolor\": \"#2a3f5f\", \"gridcolor\": \"white\", \"linecolor\": \"white\", \"minorgridcolor\": \"white\", \"startlinecolor\": \"#2a3f5f\"}, \"type\": \"carpet\"}], \"choropleth\": [{\"colorbar\": {\"outlinewidth\": 0, \"ticks\": \"\"}, \"type\": \"choropleth\"}], \"contour\": [{\"colorbar\": {\"outlinewidth\": 0, \"ticks\": \"\"}, \"colorscale\": [[0.0, \"#0d0887\"], [0.1111111111111111, \"#46039f\"], [0.2222222222222222, \"#7201a8\"], [0.3333333333333333, \"#9c179e\"], [0.4444444444444444, \"#bd3786\"], [0.5555555555555556, \"#d8576b\"], [0.6666666666666666, \"#ed7953\"], [0.7777777777777778, \"#fb9f3a\"], [0.8888888888888888, \"#fdca26\"], [1.0, \"#f0f921\"]], \"type\": \"contour\"}], \"contourcarpet\": [{\"colorbar\": {\"outlinewidth\": 0, \"ticks\": \"\"}, \"type\": \"contourcarpet\"}], \"heatmap\": [{\"colorbar\": {\"outlinewidth\": 0, \"ticks\": \"\"}, \"colorscale\": [[0.0, \"#0d0887\"], [0.1111111111111111, \"#46039f\"], [0.2222222222222222, \"#7201a8\"], [0.3333333333333333, \"#9c179e\"], [0.4444444444444444, \"#bd3786\"], [0.5555555555555556, \"#d8576b\"], [0.6666666666666666, \"#ed7953\"], [0.7777777777777778, \"#fb9f3a\"], [0.8888888888888888, \"#fdca26\"], [1.0, \"#f0f921\"]], \"type\": \"heatmap\"}], \"heatmapgl\": [{\"colorbar\": {\"outlinewidth\": 0, \"ticks\": \"\"}, \"colorscale\": [[0.0, \"#0d0887\"], [0.1111111111111111, \"#46039f\"], [0.2222222222222222, \"#7201a8\"], [0.3333333333333333, \"#9c179e\"], [0.4444444444444444, \"#bd3786\"], [0.5555555555555556, \"#d8576b\"], [0.6666666666666666, \"#ed7953\"], [0.7777777777777778, \"#fb9f3a\"], [0.8888888888888888, \"#fdca26\"], [1.0, \"#f0f921\"]], \"type\": \"heatmapgl\"}], \"histogram\": [{\"marker\": {\"colorbar\": {\"outlinewidth\": 0, \"ticks\": \"\"}}, \"type\": \"histogram\"}], \"histogram2d\": [{\"colorbar\": {\"outlinewidth\": 0, \"ticks\": \"\"}, \"colorscale\": [[0.0, \"#0d0887\"], [0.1111111111111111, \"#46039f\"], [0.2222222222222222, \"#7201a8\"], [0.3333333333333333, \"#9c179e\"], [0.4444444444444444, \"#bd3786\"], [0.5555555555555556, \"#d8576b\"], [0.6666666666666666, \"#ed7953\"], [0.7777777777777778, \"#fb9f3a\"], [0.8888888888888888, \"#fdca26\"], [1.0, \"#f0f921\"]], \"type\": \"histogram2d\"}], \"histogram2dcontour\": [{\"colorbar\": {\"outlinewidth\": 0, \"ticks\": \"\"}, \"colorscale\": [[0.0, \"#0d0887\"], [0.1111111111111111, \"#46039f\"], [0.2222222222222222, \"#7201a8\"], [0.3333333333333333, \"#9c179e\"], [0.4444444444444444, \"#bd3786\"], [0.5555555555555556, \"#d8576b\"], [0.6666666666666666, \"#ed7953\"], [0.7777777777777778, \"#fb9f3a\"], [0.8888888888888888, \"#fdca26\"], [1.0, \"#f0f921\"]], \"type\": \"histogram2dcontour\"}], \"mesh3d\": [{\"colorbar\": {\"outlinewidth\": 0, \"ticks\": \"\"}, \"type\": \"mesh3d\"}], \"parcoords\": [{\"line\": {\"colorbar\": {\"outlinewidth\": 0, \"ticks\": \"\"}}, \"type\": \"parcoords\"}], \"pie\": [{\"automargin\": true, \"type\": \"pie\"}], \"scatter\": [{\"marker\": {\"colorbar\": {\"outlinewidth\": 0, \"ticks\": \"\"}}, \"type\": \"scatter\"}], \"scatter3d\": [{\"line\": {\"colorbar\": {\"outlinewidth\": 0, \"ticks\": \"\"}}, \"marker\": {\"colorbar\": {\"outlinewidth\": 0, \"ticks\": \"\"}}, \"type\": \"scatter3d\"}], \"scattercarpet\": [{\"marker\": {\"colorbar\": {\"outlinewidth\": 0, \"ticks\": \"\"}}, \"type\": \"scattercarpet\"}], \"scattergeo\": [{\"marker\": {\"colorbar\": {\"outlinewidth\": 0, \"ticks\": \"\"}}, \"type\": \"scattergeo\"}], \"scattergl\": [{\"marker\": {\"colorbar\": {\"outlinewidth\": 0, \"ticks\": \"\"}}, \"type\": \"scattergl\"}], \"scattermapbox\": [{\"marker\": {\"colorbar\": {\"outlinewidth\": 0, \"ticks\": \"\"}}, \"type\": \"scattermapbox\"}], \"scatterpolar\": [{\"marker\": {\"colorbar\": {\"outlinewidth\": 0, \"ticks\": \"\"}}, \"type\": \"scatterpolar\"}], \"scatterpolargl\": [{\"marker\": {\"colorbar\": {\"outlinewidth\": 0, \"ticks\": \"\"}}, \"type\": \"scatterpolargl\"}], \"scatterternary\": [{\"marker\": {\"colorbar\": {\"outlinewidth\": 0, \"ticks\": \"\"}}, \"type\": \"scatterternary\"}], \"surface\": [{\"colorbar\": {\"outlinewidth\": 0, \"ticks\": \"\"}, \"colorscale\": [[0.0, \"#0d0887\"], [0.1111111111111111, \"#46039f\"], [0.2222222222222222, \"#7201a8\"], [0.3333333333333333, \"#9c179e\"], [0.4444444444444444, \"#bd3786\"], [0.5555555555555556, \"#d8576b\"], [0.6666666666666666, \"#ed7953\"], [0.7777777777777778, \"#fb9f3a\"], [0.8888888888888888, \"#fdca26\"], [1.0, \"#f0f921\"]], \"type\": \"surface\"}], \"table\": [{\"cells\": {\"fill\": {\"color\": \"#EBF0F8\"}, \"line\": {\"color\": \"white\"}}, \"header\": {\"fill\": {\"color\": \"#C8D4E3\"}, \"line\": {\"color\": \"white\"}}, \"type\": \"table\"}]}, \"layout\": {\"annotationdefaults\": {\"arrowcolor\": \"#2a3f5f\", \"arrowhead\": 0, \"arrowwidth\": 1}, \"coloraxis\": {\"colorbar\": {\"outlinewidth\": 0, \"ticks\": \"\"}}, \"colorscale\": {\"diverging\": [[0, \"#8e0152\"], [0.1, \"#c51b7d\"], [0.2, \"#de77ae\"], [0.3, \"#f1b6da\"], [0.4, \"#fde0ef\"], [0.5, \"#f7f7f7\"], [0.6, \"#e6f5d0\"], [0.7, \"#b8e186\"], [0.8, \"#7fbc41\"], [0.9, \"#4d9221\"], [1, \"#276419\"]], \"sequential\": [[0.0, \"#0d0887\"], [0.1111111111111111, \"#46039f\"], [0.2222222222222222, \"#7201a8\"], [0.3333333333333333, \"#9c179e\"], [0.4444444444444444, \"#bd3786\"], [0.5555555555555556, \"#d8576b\"], [0.6666666666666666, \"#ed7953\"], [0.7777777777777778, \"#fb9f3a\"], [0.8888888888888888, \"#fdca26\"], [1.0, \"#f0f921\"]], \"sequentialminus\": [[0.0, \"#0d0887\"], [0.1111111111111111, \"#46039f\"], [0.2222222222222222, \"#7201a8\"], [0.3333333333333333, \"#9c179e\"], [0.4444444444444444, \"#bd3786\"], [0.5555555555555556, \"#d8576b\"], [0.6666666666666666, \"#ed7953\"], [0.7777777777777778, \"#fb9f3a\"], [0.8888888888888888, \"#fdca26\"], [1.0, \"#f0f921\"]]}, \"colorway\": [\"#636efa\", \"#EF553B\", \"#00cc96\", \"#ab63fa\", \"#FFA15A\", \"#19d3f3\", \"#FF6692\", \"#B6E880\", \"#FF97FF\", \"#FECB52\"], \"font\": {\"color\": \"#2a3f5f\"}, \"geo\": {\"bgcolor\": \"white\", \"lakecolor\": \"white\", \"landcolor\": \"#E5ECF6\", \"showlakes\": true, \"showland\": true, \"subunitcolor\": \"white\"}, \"hoverlabel\": {\"align\": \"left\"}, \"hovermode\": \"closest\", \"mapbox\": {\"style\": \"light\"}, \"paper_bgcolor\": \"white\", \"plot_bgcolor\": \"#E5ECF6\", \"polar\": {\"angularaxis\": {\"gridcolor\": \"white\", \"linecolor\": \"white\", \"ticks\": \"\"}, \"bgcolor\": \"#E5ECF6\", \"radialaxis\": {\"gridcolor\": \"white\", \"linecolor\": \"white\", \"ticks\": \"\"}}, \"scene\": {\"xaxis\": {\"backgroundcolor\": \"#E5ECF6\", \"gridcolor\": \"white\", \"gridwidth\": 2, \"linecolor\": \"white\", \"showbackground\": true, \"ticks\": \"\", \"zerolinecolor\": \"white\"}, \"yaxis\": {\"backgroundcolor\": \"#E5ECF6\", \"gridcolor\": \"white\", \"gridwidth\": 2, \"linecolor\": \"white\", \"showbackground\": true, \"ticks\": \"\", \"zerolinecolor\": \"white\"}, \"zaxis\": {\"backgroundcolor\": \"#E5ECF6\", \"gridcolor\": \"white\", \"gridwidth\": 2, \"linecolor\": \"white\", \"showbackground\": true, \"ticks\": \"\", \"zerolinecolor\": \"white\"}}, \"shapedefaults\": {\"line\": {\"color\": \"#2a3f5f\"}}, \"ternary\": {\"aaxis\": {\"gridcolor\": \"white\", \"linecolor\": \"white\", \"ticks\": \"\"}, \"baxis\": {\"gridcolor\": \"white\", \"linecolor\": \"white\", \"ticks\": \"\"}, \"bgcolor\": \"#E5ECF6\", \"caxis\": {\"gridcolor\": \"white\", \"linecolor\": \"white\", \"ticks\": \"\"}}, \"title\": {\"x\": 0.05}, \"xaxis\": {\"automargin\": true, \"gridcolor\": \"white\", \"linecolor\": \"white\", \"ticks\": \"\", \"title\": {\"standoff\": 15}, \"zerolinecolor\": \"white\", \"zerolinewidth\": 2}, \"yaxis\": {\"automargin\": true, \"gridcolor\": \"white\", \"linecolor\": \"white\", \"ticks\": \"\", \"title\": {\"standoff\": 15}, \"zerolinecolor\": \"white\", \"zerolinewidth\": 2}}}, \"xaxis\": {\"linecolor\": \"rgb(204, 204, 204)\", \"linewidth\": 2, \"showgrid\": false, \"showline\": true, \"showticklabels\": true, \"tickfont\": {\"color\": \"rgb(82, 82, 82)\", \"family\": \"Arial\", \"size\": 12}, \"ticks\": \"outside\"}, \"yaxis\": {\"showgrid\": false, \"showline\": false, \"showticklabels\": false, \"zeroline\": false}},\n",
       "                        {\"responsive\": true}\n",
       "                    ).then(function(){\n",
       "                            \n",
       "var gd = document.getElementById('cc686ccd-1c02-46e9-b169-05b22c76e51b');\n",
       "var x = new MutationObserver(function (mutations, observer) {{\n",
       "        var display = window.getComputedStyle(gd).display;\n",
       "        if (!display || display === 'none') {{\n",
       "            console.log([gd, 'removed!']);\n",
       "            Plotly.purge(gd);\n",
       "            observer.disconnect();\n",
       "        }}\n",
       "}});\n",
       "\n",
       "// Listen for the removal of the full notebook cells\n",
       "var notebookContainer = gd.closest('#notebook-container');\n",
       "if (notebookContainer) {{\n",
       "    x.observe(notebookContainer, {childList: true});\n",
       "}}\n",
       "\n",
       "// Listen for the clearing of the current output cell\n",
       "var outputEl = gd.closest('.output');\n",
       "if (outputEl) {{\n",
       "    x.observe(outputEl, {childList: true});\n",
       "}}\n",
       "\n",
       "                        })\n",
       "                };\n",
       "                });\n",
       "            </script>\n",
       "        </div>"
      ]
     },
     "metadata": {},
     "output_type": "display_data"
    }
   ],
   "source": [
    "import plotly.offline as pyo\n",
    "import plotly.graph_objects as go\n",
    "\n",
    "title = 'Main Source for News'\n",
    "labels = ['Seat', 'Staff Service', 'Food & Beverage', 'Inflight Entertainment','Ground Service']\n",
    "colors = ['rgb(67,67,67)', 'rgb(115,115,115)', 'rgb(49,130,189)', 'rgb(189,189,189)','rgb(40,140,140)']\n",
    "\n",
    "mode_size = [10, 10, 10, 10, 10]\n",
    "line_size = [4, 4, 4, 4, 4]\n",
    "\n",
    "x_data = np.array([df_new['day']]*5)\n",
    "\n",
    "y_data = np.array([df_new['seat'],\n",
    "                   df_new['staff_service'],\n",
    "                   df_new['foodbeverage'],\n",
    "                   df_new['inflightent'],\n",
    "                   df_new['gserv']])\n",
    "\n",
    "fig = go.Figure()\n",
    "\n",
    "for i in range(0,5):\n",
    "    fig.add_trace(go.Scatter(x=x_data[i], y=y_data[i], mode='lines',\n",
    "        name=labels[i],\n",
    "        line=dict(color=colors[i], width=line_size[i]),\n",
    "        connectgaps=True,\n",
    "    ))\n",
    "\n",
    "    # endpoints\n",
    "    fig.add_trace(go.Scatter(\n",
    "        x=[x_data[i][0], x_data[i][-1]],\n",
    "        y=[y_data[i][0], y_data[i][-1]],\n",
    "        mode='markers',\n",
    "        marker=dict(color=colors[i], size=mode_size[i])\n",
    "    ))\n",
    "\n",
    "fig.update_layout(\n",
    "    xaxis=dict(\n",
    "        showline=True,\n",
    "        showgrid=False,\n",
    "        showticklabels=True,\n",
    "        linecolor='rgb(204, 204, 204)',\n",
    "        linewidth=2,\n",
    "        ticks='outside',\n",
    "        tickfont=dict(\n",
    "            family='Arial',\n",
    "            size=12,\n",
    "            color='rgb(82, 82, 82)',\n",
    "        ),\n",
    "    ),\n",
    "    yaxis=dict(\n",
    "        showgrid=False,\n",
    "        zeroline=False,\n",
    "        showline=False,\n",
    "        showticklabels=False,\n",
    "    ),\n",
    "    autosize=False,\n",
    "    margin=dict(\n",
    "        autoexpand=False,\n",
    "        l=100,\n",
    "        r=20,\n",
    "        t=110,\n",
    "    ),\n",
    "    showlegend=False,\n",
    "    plot_bgcolor='white'\n",
    ")\n",
    "\n",
    "annotations = []\n",
    "\n",
    "# Adding labels\n",
    "for y_trace, label, color in zip(y_data, labels, colors):\n",
    "    # labeling the left_side of the plot\n",
    "    annotations.append(dict(xref='paper', \n",
    "                            x=0.05, \n",
    "                            y=y_trace[0],\n",
    "                            xanchor='right', \n",
    "                            yanchor='middle',\n",
    "                            text=label + ' {}‰'.format(round(y_trace[0]*10, 2)),\n",
    "                            font=dict(family='Arial',\n",
    "                                      size=16),\n",
    "                            showarrow=False))\n",
    "    # labeling the right_side of the plot\n",
    "    annotations.append(dict(xref='paper', \n",
    "                            x=0.95, \n",
    "                            y=y_trace[10],\n",
    "                            xanchor='left', \n",
    "                            yanchor='middle',\n",
    "                            text='{}‰'.format(round(y_trace[10]*10, 2)),\n",
    "                            font=dict(family='Arial',\n",
    "                                      size=16),\n",
    "                                      showarrow=False))\n",
    "# Title\n",
    "annotations.append(dict(xref='paper', \n",
    "                        yref='paper', \n",
    "                        x=0.0, \n",
    "                        y=1.05,\n",
    "                        xanchor='left', \n",
    "                        yanchor='bottom',\n",
    "                        text='Social Media Sentiment over the last 7 days',\n",
    "                        font=dict(family='Arial',\n",
    "                                  size=30,\n",
    "                                  color='rgb(37,37,37)'),\n",
    "                                  showarrow=False))\n",
    "# Source\n",
    "annotations.append(dict(xref='paper', \n",
    "                        yref='paper', \n",
    "                        x=0.5, \n",
    "                        y=-0.1,\n",
    "                        xanchor='center', \n",
    "                        yanchor='top',\n",
    "                        text='Source: Twitter',\n",
    "                        font=dict(family='Arial',\n",
    "                                  size=12,\n",
    "                                  color='rgb(150,150,150)'),\n",
    "                                  showarrow=False))\n",
    "\n",
    "fig.update_layout(annotations=annotations)\n",
    "\n",
    "fig.show()\n",
    "#pyo.iplot(fig)"
   ]
  },
  {
   "cell_type": "code",
   "execution_count": 30,
   "metadata": {},
   "outputs": [
    {
     "data": {
      "text/plain": [
       "0.019530834662413607"
      ]
     },
     "execution_count": 30,
     "metadata": {},
     "output_type": "execute_result"
    }
   ],
   "source": []
  },
  {
   "cell_type": "code",
   "execution_count": null,
   "metadata": {},
   "outputs": [],
   "source": []
  }
 ],
 "metadata": {
  "kernelspec": {
   "display_name": "Python 3",
   "language": "python",
   "name": "python3"
  },
  "language_info": {
   "codemirror_mode": {
    "name": "ipython",
    "version": 3
   },
   "file_extension": ".py",
   "mimetype": "text/x-python",
   "name": "python",
   "nbconvert_exporter": "python",
   "pygments_lexer": "ipython3",
   "version": "3.7.2"
  }
 },
 "nbformat": 4,
 "nbformat_minor": 4
}
