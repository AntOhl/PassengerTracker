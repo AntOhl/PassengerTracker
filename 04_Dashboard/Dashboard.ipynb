{
 "cells": [
  {
   "cell_type": "code",
   "execution_count": null,
   "metadata": {},
   "outputs": [],
   "source": [
    "# Dashboard\n",
    "import plotly\n",
    "import plotly.express as px\n",
    "import plotly.graph_objects as go\n",
    "\n",
    "import dash\n",
    "import dash_core_components as dcc\n",
    "import dash_html_components as html\n",
    "import dash_bootstrap_components as dbc\n",
    "from dash.dependencies import Input, Output\n",
    "\n",
    "# Classicals\n",
    "import pandas as pd\n",
    "import numpy as np\n",
    "from sklearn import linear_model\n",
    "from sklearn.model_selection import cross_validate"
   ]
  },
  {
   "cell_type": "code",
   "execution_count": null,
   "metadata": {},
   "outputs": [],
   "source": [
    "# Preperation\n",
    "df_1 = pd.read_csv('dashboard_airlinequality.csv')\n",
    "df_2 = pd.read_csv('dashboard_tab2.csv')\n",
    "cols_15 = ['Seat Comfort', 'Cabin Staff Service', 'Ground Service', \n",
    "            'Value For Money', 'Food & Beverages', 'Inflight Entertainment']\n",
    "li_seat_type = ['Economy Class', 'Business Class', 'Premium Economy', 'First Class']\n",
    "li_type_of_traveller = ['Solo Leisure', 'Business', 'Family Leisure', 'Couple Leisure']\n",
    "li_flight_length = ['Short-Haul', 'Middle-Haul', 'Long-Haul']"
   ]
  },
  {
   "cell_type": "markdown",
   "metadata": {},
   "source": [
    "## Tab1: What contribute to customer satisfaction?"
   ]
  },
  {
   "cell_type": "code",
   "execution_count": null,
   "metadata": {},
   "outputs": [],
   "source": [
    "# A function to output the chart\n",
    "def output_chart_1(df = df_1,\n",
    "                 seat_type = ['Economy Class'], \n",
    "                 type_of_travaller = ['Solo Leisure'], \n",
    "                 stop = [False],\n",
    "                 flight_length = ['Short-Haul']):\n",
    "    \n",
    "    # Select data by category\n",
    "    mask = (df['Seat Type'].isin(seat_type)) &\\\n",
    "            (df['Type Of Traveller'].isin(type_of_travaller)) &\\\n",
    "            (df['Is_stop'].isin(stop)) &\\\n",
    "            (df['Flight Length'].isin(flight_length))\n",
    "    df = df[mask]\n",
    "    \n",
    "    # Fill nans with mean\n",
    "    df = df.fillna(df.mean())\n",
    "            \n",
    "    # Make X and y\n",
    "    X = df[cols_15]\n",
    "    y = df['Recommended']\n",
    "    \n",
    "    # Calculate coefficients\n",
    "    model = linear_model.LogisticRegression(solver='lbfgs', C=0.05)\n",
    "    model.fit(X, y)\n",
    "    df_coef = pd.DataFrame({'Feature':X.columns.to_list(),\n",
    "                        'Coef':model.coef_.tolist()[0]})\n",
    "    df_coef = df_coef.sort_values(['Coef'])\n",
    "    df_coef['Importance'] = np.exp(df_coef['Coef']) - 1\n",
    "    \n",
    "    # Calculate some statistics\n",
    "    model_accuracy = cross_validate(model, X, y, cv=5, return_train_score=True)['test_score'].mean()\n",
    "    n_samples = X.shape[0]\n",
    "    print(model_accuracy, n_samples)\n",
    "    \n",
    "    # Visualize coefficients\n",
    "    # Intepretation: If the coefficient for Inflight Entertainment is 0.2,\n",
    "    #                an increase in a star in Inflight Entertainment will make a customer 22% (exp(0.2)=1.22) \n",
    "    #                more likely to recommend the flight \n",
    "    fig = px.bar(df_coef, y='Feature', x='Importance', color='Feature', orientation='h')\n",
    "    \n",
    "    fig.update_layout(title='What Contribute to Customer Satisfaction',\n",
    "                      yaxis_title='Aspects',\n",
    "                      xaxis_title='An increase in 1 star makes a customer X% more likely to recommend a flight',\n",
    "                      xaxis_tickformat = ',.0%',\n",
    "                      showlegend=False,\n",
    "                      font={'size':16})\n",
    "    \n",
    "    return fig\n",
    "    "
   ]
  },
  {
   "cell_type": "code",
   "execution_count": 4,
   "metadata": {},
   "outputs": [],
   "source": [
    "# Layout\n",
    "tab1 = html.Div(\n",
    "    dbc.Row([\n",
    "        dbc.Col([\n",
    "                html.H6('Choose your viz'),\n",
    "            \n",
    "                html.Label('Class'),\n",
    "                dcc.Dropdown(\n",
    "                id='class_tab1', \n",
    "                options=[{'label': i, 'value': i} for i in li_seat_type],\n",
    "                multi=True,\n",
    "                value=['Economy Class']), \n",
    "\n",
    "                html.Label('Travel Purpose'),\n",
    "                dcc.Dropdown(\n",
    "                id='purpose_tab1',    \n",
    "                options=[{'label': i, 'value': i} for i in li_type_of_traveller],\n",
    "                multi=True,\n",
    "                value=['Solo Leisure']),\n",
    "\n",
    "                html.Label('Flight Length'),\n",
    "                dcc.Dropdown(\n",
    "                id='length_tab1',    \n",
    "                options=[{'label': i.replace('-',' '), 'value': i} for i in li_flight_length],\n",
    "                multi=True,\n",
    "                value=['Short-Haul']),\n",
    "\n",
    "                html.Label('Is there a stop'),\n",
    "                dcc.Dropdown(\n",
    "                id='stop_tab1',    \n",
    "                options=[{'label': 'Non-stop', 'value': True},\n",
    "                         {'label': 'Stop', 'value': False}],\n",
    "                multi=True,\n",
    "                value=[True])],md=4),\n",
    "        \n",
    "        dbc.Col([dcc.Graph(id='chart_tab1')])\n",
    "    \n",
    "    ]))"
   ]
  },
  {
   "cell_type": "markdown",
   "metadata": {},
   "source": [
    "## Tab-2: What do customers make of the flights"
   ]
  },
  {
   "cell_type": "code",
   "execution_count": 5,
   "metadata": {},
   "outputs": [],
   "source": [
    "def output_chart_2(df = df_2,\n",
    "                 choice_class = ['Economy Class'],\n",
    "                 choice_flight_length = ['Short-Haul']):\n",
    "    \n",
    "    # Select data by category\n",
    "    mask = df['Class'].isin(choice_class) &\\\n",
    "    df['Flight Length'].isin(choice_flight_length)\n",
    "    df = df[mask]\n",
    "    \n",
    "    # Calculate the mean ratings\n",
    "    cols_ratings = ['Cabin Staff Service', 'Food & Beverages','Ground Service', \n",
    "                    'Inflight Entertainment', 'Seat Comfort', 'Value for Money']\n",
    "    df_for_viz = df[cols_ratings].mean().reset_index()\n",
    "\n",
    "    # Calculate some statistics\n",
    "    n_samples = df.shape[0]\n",
    "    print(n_samples)\n",
    "    \n",
    "    # Visualize ratings\n",
    "    fig = px.line_polar(df_for_viz, r=0, theta='index', color='',line_close=True)\n",
    "    fig.update_traces(fill='toself')\n",
    "    fig.update_layout(\n",
    "      polar=dict(\n",
    "        radialaxis=dict(\n",
    "          visible=True,\n",
    "          range=[0, 5]\n",
    "        )),\n",
    "      showlegend=False\n",
    "    )\n",
    "    fig.update_layout(title='What do Customers Make of the Flights',\n",
    "                      title_x=0.5,\n",
    "                      font={'size':16})\n",
    "    \n",
    "    return fig\n"
   ]
  },
  {
   "cell_type": "code",
   "execution_count": 6,
   "metadata": {},
   "outputs": [],
   "source": [
    "# Layout\n",
    "tab2 = dbc.Container([\n",
    "    dbc.Row([\n",
    "            html.Div([\n",
    "            html.Label('Class'),\n",
    "            dcc.Dropdown(\n",
    "            id='class_tab2', \n",
    "            options=[{'label': i, 'value': i} for i in li_seat_type],\n",
    "            multi=True,\n",
    "            value=['Economy Class'])]), \n",
    "            \n",
    "            html.Div([\n",
    "            html.Label('Flight Length'),\n",
    "            dcc.Dropdown(\n",
    "            id='length_tab2',    \n",
    "            options=[{'label': i.replace('-',' '), 'value': i} for i in li_flight_length],\n",
    "            multi=True,\n",
    "            value=['Short-Haul'])])]),\n",
    "    \n",
    "    dbc.Row([dbc.Col(dcc.Graph(id='chart_cloud_tab2')),\n",
    "            dbc.Col(dcc.Graph(id='chart_spider_tab2'))])\n",
    "    \n",
    "])"
   ]
  },
  {
   "cell_type": "code",
   "execution_count": null,
   "metadata": {},
   "outputs": [],
   "source": []
  },
  {
   "cell_type": "code",
   "execution_count": null,
   "metadata": {},
   "outputs": [],
   "source": []
  },
  {
   "cell_type": "code",
   "execution_count": null,
   "metadata": {},
   "outputs": [
    {
     "name": "stdout",
     "output_type": "stream",
     "text": [
      " * Serving Flask app \"__main__\" (lazy loading)\n",
      " * Environment: production\n",
      "   WARNING: This is a development server. Do not use it in a production deployment.\n",
      "   Use a production WSGI server instead.\n",
      " * Debug mode: off\n"
     ]
    },
    {
     "name": "stderr",
     "output_type": "stream",
     "text": [
      " * Running on http://127.0.0.1:8050/ (Press CTRL+C to quit)\n",
      "127.0.0.1 - - [29/Jan/2020 17:00:49] \"\u001b[37mGET / HTTP/1.1\u001b[0m\" 200 -\n",
      "127.0.0.1 - - [29/Jan/2020 17:00:49] \"\u001b[37mGET /_dash-layout HTTP/1.1\u001b[0m\" 200 -\n",
      "127.0.0.1 - - [29/Jan/2020 17:00:49] \"\u001b[37mGET /_dash-dependencies HTTP/1.1\u001b[0m\" 200 -\n"
     ]
    },
    {
     "name": "stdout",
     "output_type": "stream",
     "text": [
      "8725\n",
      "0.9255555555555557 96\n"
     ]
    },
    {
     "name": "stderr",
     "output_type": "stream",
     "text": [
      "127.0.0.1 - - [29/Jan/2020 17:00:51] \"\u001b[37mPOST /_dash-update-component HTTP/1.1\u001b[0m\" 200 -\n",
      "127.0.0.1 - - [29/Jan/2020 17:00:51] \"\u001b[37mPOST /_dash-update-component HTTP/1.1\u001b[0m\" 200 -\n"
     ]
    },
    {
     "name": "stdout",
     "output_type": "stream",
     "text": [
      "23612\n"
     ]
    },
    {
     "name": "stderr",
     "output_type": "stream",
     "text": [
      "127.0.0.1 - - [29/Jan/2020 17:01:00] \"\u001b[37mPOST /_dash-update-component HTTP/1.1\u001b[0m\" 200 -\n"
     ]
    },
    {
     "name": "stdout",
     "output_type": "stream",
     "text": [
      "44757\n"
     ]
    },
    {
     "name": "stderr",
     "output_type": "stream",
     "text": [
      "127.0.0.1 - - [29/Jan/2020 17:01:02] \"\u001b[37mPOST /_dash-update-component HTTP/1.1\u001b[0m\" 200 -\n"
     ]
    },
    {
     "name": "stdout",
     "output_type": "stream",
     "text": [
      "46851\n"
     ]
    },
    {
     "name": "stderr",
     "output_type": "stream",
     "text": [
      "127.0.0.1 - - [29/Jan/2020 17:01:05] \"\u001b[37mPOST /_dash-update-component HTTP/1.1\u001b[0m\" 200 -\n"
     ]
    },
    {
     "name": "stdout",
     "output_type": "stream",
     "text": [
      "47787\n"
     ]
    },
    {
     "name": "stderr",
     "output_type": "stream",
     "text": [
      "127.0.0.1 - - [29/Jan/2020 17:01:10] \"\u001b[37mPOST /_dash-update-component HTTP/1.1\u001b[0m\" 200 -\n"
     ]
    },
    {
     "name": "stdout",
     "output_type": "stream",
     "text": [
      "53907\n"
     ]
    },
    {
     "name": "stderr",
     "output_type": "stream",
     "text": [
      "127.0.0.1 - - [29/Jan/2020 17:01:12] \"\u001b[37mPOST /_dash-update-component HTTP/1.1\u001b[0m\" 200 -\n"
     ]
    },
    {
     "name": "stdout",
     "output_type": "stream",
     "text": [
      "47787\n"
     ]
    },
    {
     "name": "stderr",
     "output_type": "stream",
     "text": [
      "127.0.0.1 - - [29/Jan/2020 17:01:14] \"\u001b[37mPOST /_dash-update-component HTTP/1.1\u001b[0m\" 200 -\n"
     ]
    },
    {
     "name": "stdout",
     "output_type": "stream",
     "text": [
      "45693\n"
     ]
    },
    {
     "name": "stderr",
     "output_type": "stream",
     "text": [
      "127.0.0.1 - - [29/Jan/2020 17:01:16] \"\u001b[37mPOST /_dash-update-component HTTP/1.1\u001b[0m\" 200 -\n"
     ]
    },
    {
     "name": "stdout",
     "output_type": "stream",
     "text": [
      "30322\n"
     ]
    },
    {
     "name": "stderr",
     "output_type": "stream",
     "text": [
      "127.0.0.1 - - [29/Jan/2020 17:01:17] \"\u001b[37mPOST /_dash-update-component HTTP/1.1\u001b[0m\" 200 -\n"
     ]
    },
    {
     "name": "stdout",
     "output_type": "stream",
     "text": [
      "8862\n"
     ]
    },
    {
     "name": "stderr",
     "output_type": "stream",
     "text": [
      "127.0.0.1 - - [29/Jan/2020 17:01:19] \"\u001b[37mPOST /_dash-update-component HTTP/1.1\u001b[0m\" 200 -\n"
     ]
    },
    {
     "name": "stdout",
     "output_type": "stream",
     "text": [
      "0\n"
     ]
    },
    {
     "name": "stderr",
     "output_type": "stream",
     "text": [
      "127.0.0.1 - - [29/Jan/2020 17:01:21] \"\u001b[37mPOST /_dash-update-component HTTP/1.1\u001b[0m\" 200 -\n"
     ]
    },
    {
     "name": "stdout",
     "output_type": "stream",
     "text": [
      "21460\n"
     ]
    },
    {
     "name": "stderr",
     "output_type": "stream",
     "text": [
      "127.0.0.1 - - [29/Jan/2020 17:01:23] \"\u001b[37mPOST /_dash-update-component HTTP/1.1\u001b[0m\" 200 -\n"
     ]
    },
    {
     "name": "stdout",
     "output_type": "stream",
     "text": [
      "36831\n"
     ]
    },
    {
     "name": "stderr",
     "output_type": "stream",
     "text": [
      "127.0.0.1 - - [29/Jan/2020 17:01:25] \"\u001b[37mPOST /_dash-update-component HTTP/1.1\u001b[0m\" 200 -\n"
     ]
    },
    {
     "name": "stdout",
     "output_type": "stream",
     "text": [
      "45693\n"
     ]
    },
    {
     "name": "stderr",
     "output_type": "stream",
     "text": [
      "127.0.0.1 - - [29/Jan/2020 17:01:27] \"\u001b[37mPOST /_dash-update-component HTTP/1.1\u001b[0m\" 200 -\n"
     ]
    },
    {
     "name": "stdout",
     "output_type": "stream",
     "text": [
      "47787\n"
     ]
    },
    {
     "name": "stderr",
     "output_type": "stream",
     "text": [
      "127.0.0.1 - - [29/Jan/2020 17:01:30] \"\u001b[37mPOST /_dash-update-component HTTP/1.1\u001b[0m\" 200 -\n"
     ]
    },
    {
     "name": "stdout",
     "output_type": "stream",
     "text": [
      "0\n"
     ]
    },
    {
     "name": "stderr",
     "output_type": "stream",
     "text": [
      "127.0.0.1 - - [29/Jan/2020 17:02:14] \"\u001b[37mPOST /_dash-update-component HTTP/1.1\u001b[0m\" 200 -\n"
     ]
    },
    {
     "name": "stdout",
     "output_type": "stream",
     "text": [
      "21789\n"
     ]
    },
    {
     "name": "stderr",
     "output_type": "stream",
     "text": [
      "127.0.0.1 - - [29/Jan/2020 17:02:16] \"\u001b[37mPOST /_dash-update-component HTTP/1.1\u001b[0m\" 200 -\n"
     ]
    },
    {
     "name": "stdout",
     "output_type": "stream",
     "text": [
      "38751\n"
     ]
    },
    {
     "name": "stderr",
     "output_type": "stream",
     "text": [
      "127.0.0.1 - - [29/Jan/2020 17:02:18] \"\u001b[37mPOST /_dash-update-component HTTP/1.1\u001b[0m\" 200 -\n"
     ]
    },
    {
     "name": "stdout",
     "output_type": "stream",
     "text": [
      "47787\n"
     ]
    },
    {
     "name": "stderr",
     "output_type": "stream",
     "text": [
      "127.0.0.1 - - [29/Jan/2020 17:02:21] \"\u001b[37mPOST /_dash-update-component HTTP/1.1\u001b[0m\" 200 -\n"
     ]
    },
    {
     "name": "stdout",
     "output_type": "stream",
     "text": [
      "53907\n"
     ]
    },
    {
     "name": "stderr",
     "output_type": "stream",
     "text": [
      "127.0.0.1 - - [29/Jan/2020 17:02:24] \"\u001b[37mPOST /_dash-update-component HTTP/1.1\u001b[0m\" 200 -\n"
     ]
    },
    {
     "name": "stdout",
     "output_type": "stream",
     "text": [
      "52971\n"
     ]
    },
    {
     "name": "stderr",
     "output_type": "stream",
     "text": [
      "127.0.0.1 - - [29/Jan/2020 17:02:26] \"\u001b[37mPOST /_dash-update-component HTTP/1.1\u001b[0m\" 200 -\n"
     ]
    },
    {
     "name": "stdout",
     "output_type": "stream",
     "text": [
      "50877\n"
     ]
    },
    {
     "name": "stderr",
     "output_type": "stream",
     "text": [
      "127.0.0.1 - - [29/Jan/2020 17:02:27] \"\u001b[37mPOST /_dash-update-component HTTP/1.1\u001b[0m\" 200 -\n"
     ]
    },
    {
     "name": "stdout",
     "output_type": "stream",
     "text": [
      "6120\n"
     ]
    },
    {
     "name": "stderr",
     "output_type": "stream",
     "text": [
      "127.0.0.1 - - [29/Jan/2020 17:02:29] \"\u001b[37mPOST /_dash-update-component HTTP/1.1\u001b[0m\" 200 -\n"
     ]
    },
    {
     "name": "stdout",
     "output_type": "stream",
     "text": [
      "0\n"
     ]
    },
    {
     "name": "stderr",
     "output_type": "stream",
     "text": [
      "127.0.0.1 - - [29/Jan/2020 17:02:31] \"\u001b[37mPOST /_dash-update-component HTTP/1.1\u001b[0m\" 200 -\n"
     ]
    },
    {
     "name": "stdout",
     "output_type": "stream",
     "text": [
      "0\n"
     ]
    },
    {
     "name": "stderr",
     "output_type": "stream",
     "text": [
      "127.0.0.1 - - [29/Jan/2020 17:02:33] \"\u001b[37mPOST /_dash-update-component HTTP/1.1\u001b[0m\" 200 -\n"
     ]
    },
    {
     "name": "stdout",
     "output_type": "stream",
     "text": [
      "0\n"
     ]
    },
    {
     "name": "stderr",
     "output_type": "stream",
     "text": [
      "127.0.0.1 - - [29/Jan/2020 17:02:34] \"\u001b[37mPOST /_dash-update-component HTTP/1.1\u001b[0m\" 200 -\n"
     ]
    },
    {
     "name": "stdout",
     "output_type": "stream",
     "text": [
      "0\n"
     ]
    },
    {
     "name": "stderr",
     "output_type": "stream",
     "text": [
      "127.0.0.1 - - [29/Jan/2020 17:02:34] \"\u001b[37mPOST /_dash-update-component HTTP/1.1\u001b[0m\" 200 -\n"
     ]
    },
    {
     "name": "stdout",
     "output_type": "stream",
     "text": [
      "0\n"
     ]
    },
    {
     "name": "stderr",
     "output_type": "stream",
     "text": [
      "127.0.0.1 - - [29/Jan/2020 17:02:36] \"\u001b[37mPOST /_dash-update-component HTTP/1.1\u001b[0m\" 200 -\n"
     ]
    },
    {
     "name": "stdout",
     "output_type": "stream",
     "text": [
      "674\n"
     ]
    },
    {
     "name": "stderr",
     "output_type": "stream",
     "text": [
      "127.0.0.1 - - [29/Jan/2020 17:02:37] \"\u001b[37mPOST /_dash-update-component HTTP/1.1\u001b[0m\" 200 -\n"
     ]
    }
   ],
   "source": [
    "# Running the dashboard\n",
    "\n",
    "external_stylesheets = [dbc.themes.BOOTSTRAP]\n",
    "\n",
    "app = dash.Dash(__name__, external_stylesheets=external_stylesheets)\n",
    "\n",
    "app.layout = html.Div([\n",
    "    dcc.Tabs(\n",
    "        [dcc.Tab(label='What Contribute to Customer Satisfaction?', children=tab1),\n",
    "         dcc.Tab(label='What do Customers Make of the Flights?', children=tab2)]\n",
    "    )])\n",
    "\n",
    "# Tab 1 interactivity\n",
    "@app.callback(\n",
    "    Output('chart_tab1', 'figure'),\n",
    "    [Input('class_tab1', 'value'),\n",
    "     Input('purpose_tab1', 'value'),\n",
    "     Input('length_tab1', 'value'),\n",
    "     Input('stop_tab1', 'value')])\n",
    "def update_figure(seat_type, type_of_travaller, flight_length, stop):\n",
    "    return output_chart_1(df_1, seat_type, type_of_travaller, stop, flight_length)\n",
    "\n",
    "# Tab 2 interactivity\n",
    "@app.callback(\n",
    "    Output('chart_spider_tab2', 'figure'),\n",
    "    [Input('class_tab2', 'value'),\n",
    "     Input('length_tab2', 'value')])\n",
    "def update_figure(choice_class, choice_flight_length):\n",
    "    return output_chart_2(df_2, choice_class, choice_flight_length)\n",
    "\n",
    "if __name__ == '__main__':\n",
    "    app.run_server(debug=False)"
   ]
  },
  {
   "cell_type": "code",
   "execution_count": null,
   "metadata": {},
   "outputs": [],
   "source": [
    "\n"
   ]
  }
 ],
 "metadata": {
  "kernelspec": {
   "display_name": "Python 3",
   "language": "python",
   "name": "python3"
  },
  "language_info": {
   "codemirror_mode": {
    "name": "ipython",
    "version": 3
   },
   "file_extension": ".py",
   "mimetype": "text/x-python",
   "name": "python",
   "nbconvert_exporter": "python",
   "pygments_lexer": "ipython3",
   "version": "3.7.4"
  }
 },
 "nbformat": 4,
 "nbformat_minor": 2
}
