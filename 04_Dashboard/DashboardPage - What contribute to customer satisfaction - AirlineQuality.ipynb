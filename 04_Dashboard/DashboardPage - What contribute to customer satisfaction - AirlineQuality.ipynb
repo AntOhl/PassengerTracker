{
 "cells": [
  {
   "cell_type": "code",
   "execution_count": 2,
   "metadata": {},
   "outputs": [],
   "source": [
    "# Dashboard\n",
    "import plotly\n",
    "import plotly.express as px\n",
    "import plotly.graph_objects as go\n",
    "\n",
    "import dash\n",
    "import dash_core_components as dcc\n",
    "import dash_html_components as html\n",
    "import dash_bootstrap_components as dbc\n",
    "from dash.dependencies import Input, Output\n",
    "\n",
    "# Classicals\n",
    "import pandas as pd\n",
    "import numpy as np\n",
    "from sklearn import linear_model\n",
    "from sklearn.model_selection import cross_validate"
   ]
  },
  {
   "cell_type": "code",
   "execution_count": 3,
   "metadata": {},
   "outputs": [],
   "source": [
    "# Preperation\n",
    "df = pd.read_csv('dashboard_airlinequality.csv')\n",
    "cols_15 = ['Seat Comfort', 'Cabin Staff Service', 'Ground Service', \n",
    "            'Value For Money', 'Food & Beverages', 'Inflight Entertainment']\n",
    "li_seat_type = ['Economy Class', 'Business Class', 'Premium Economy', 'First Class']\n",
    "li_type_of_traveller = ['Solo Leisure', 'Business', 'Family Leisure', 'Couple Leisure']\n",
    "li_flight_length = ['Short-Haul', 'Middle-Haul', 'Long-Haul']"
   ]
  },
  {
   "cell_type": "code",
   "execution_count": 6,
   "metadata": {},
   "outputs": [],
   "source": [
    "# A function wrapping up the chart\n",
    "def output_chart(df = df,\n",
    "                 seat_type = ['Economy Class'], \n",
    "                 type_of_travaller = ['Solo Leisure'], \n",
    "                 stop = [False],\n",
    "                 flight_length = ['Short-Haul']):\n",
    "    \n",
    "    # Select data by category\n",
    "    mask = (df['Seat Type'].isin(seat_type)) &\\\n",
    "            (df['Type Of Traveller'].isin(type_of_travaller)) &\\\n",
    "            (df['Is_stop'].isin(stop)) &\\\n",
    "            (df['Flight Length'].isin(flight_length))\n",
    "    df = df[mask]\n",
    "    \n",
    "    # Fill nans with mean\n",
    "    df = df.fillna(df.mean())\n",
    "            \n",
    "    # Make X and y\n",
    "    X = df[cols_15]\n",
    "    y = df['Recommended']\n",
    "    \n",
    "    # Calculate coefficients\n",
    "    model = linear_model.LogisticRegression(solver='lbfgs', C=0.05)\n",
    "    model.fit(X, y)\n",
    "    df_coef = pd.DataFrame({'Feature':X.columns.to_list(),\n",
    "                        'Coef':model.coef_.tolist()[0]})\n",
    "    df_coef = df_coef.sort_values(['Coef'])\n",
    "    df_coef['Importance'] = np.exp(df_coef['Coef']) - 1\n",
    "    \n",
    "    # Calculate some statistics\n",
    "    model_accuracy = cross_validate(model, X, y, cv=5, return_train_score=True)['test_score'].mean()\n",
    "    n_samples = X.shape[0]\n",
    "    print(model_accuracy, n_samples)\n",
    "    \n",
    "    # Visualize coefficients\n",
    "    # Intepretation: If the coefficient for Inflight Entertainment is 0.2,\n",
    "    #                an increase in a star in Inflight Entertainment will make a customer 22% (exp(0.2)=1.22) \n",
    "    #                more likely to recommend the flight \n",
    "    fig = px.bar(df_coef, y='Feature', x='Importance', color='Feature', orientation='h')\n",
    "    \n",
    "    fig.update_layout(title='What Contribute to Customer Satisfaction',\n",
    "                      yaxis_title='Aspects',\n",
    "                      xaxis_title='An increase in 1 star makes a customer X% more likely to recommend a flight',\n",
    "                      xaxis_tickformat = ',.0%',\n",
    "                      showlegend=False,\n",
    "                      font={'size':16})\n",
    "    \n",
    "    return fig\n",
    "    "
   ]
  },
  {
   "cell_type": "code",
   "execution_count": 21,
   "metadata": {},
   "outputs": [
    {
     "name": "stdout",
     "output_type": "stream",
     "text": [
      " * Serving Flask app \"__main__\" (lazy loading)\n",
      " * Environment: production\n",
      "   WARNING: This is a development server. Do not use it in a production deployment.\n",
      "   Use a production WSGI server instead.\n",
      " * Debug mode: off\n"
     ]
    },
    {
     "name": "stderr",
     "output_type": "stream",
     "text": [
      " * Running on http://127.0.0.1:8050/ (Press CTRL+C to quit)\n",
      "127.0.0.1 - - [28/Jan/2020 22:07:02] \"\u001b[37mGET / HTTP/1.1\u001b[0m\" 200 -\n",
      "127.0.0.1 - - [28/Jan/2020 22:07:02] \"\u001b[37mGET /_dash-dependencies HTTP/1.1\u001b[0m\" 200 -\n",
      "127.0.0.1 - - [28/Jan/2020 22:07:02] \"\u001b[37mGET /_dash-layout HTTP/1.1\u001b[0m\" 200 -\n"
     ]
    },
    {
     "name": "stdout",
     "output_type": "stream",
     "text": [
      "0.9255555555555557 96\n"
     ]
    },
    {
     "name": "stderr",
     "output_type": "stream",
     "text": [
      "127.0.0.1 - - [28/Jan/2020 22:07:02] \"\u001b[37mPOST /_dash-update-component HTTP/1.1\u001b[0m\" 200 -\n"
     ]
    },
    {
     "name": "stdout",
     "output_type": "stream",
     "text": [
      "0.9309022556390978 102\n"
     ]
    },
    {
     "name": "stderr",
     "output_type": "stream",
     "text": [
      "127.0.0.1 - - [28/Jan/2020 22:07:04] \"\u001b[37mPOST /_dash-update-component HTTP/1.1\u001b[0m\" 200 -\n"
     ]
    },
    {
     "name": "stdout",
     "output_type": "stream",
     "text": [
      "0.9328571428571429 104\n"
     ]
    },
    {
     "name": "stderr",
     "output_type": "stream",
     "text": [
      "127.0.0.1 - - [28/Jan/2020 22:07:05] \"\u001b[37mPOST /_dash-update-component HTTP/1.1\u001b[0m\" 200 -\n"
     ]
    },
    {
     "name": "stdout",
     "output_type": "stream",
     "text": [
      "0.9341558441558442 106\n"
     ]
    },
    {
     "name": "stderr",
     "output_type": "stream",
     "text": [
      "127.0.0.1 - - [28/Jan/2020 22:07:06] \"\u001b[37mPOST /_dash-update-component HTTP/1.1\u001b[0m\" 200 -\n"
     ]
    },
    {
     "name": "stdout",
     "output_type": "stream",
     "text": [
      "0.935589508530685 170\n"
     ]
    },
    {
     "name": "stderr",
     "output_type": "stream",
     "text": [
      "127.0.0.1 - - [28/Jan/2020 22:07:07] \"\u001b[37mPOST /_dash-update-component HTTP/1.1\u001b[0m\" 200 -\n"
     ]
    },
    {
     "name": "stdout",
     "output_type": "stream",
     "text": [
      "0.9197891963109355 225\n"
     ]
    },
    {
     "name": "stderr",
     "output_type": "stream",
     "text": [
      "127.0.0.1 - - [28/Jan/2020 22:07:09] \"\u001b[37mPOST /_dash-update-component HTTP/1.1\u001b[0m\" 200 -\n"
     ]
    },
    {
     "name": "stdout",
     "output_type": "stream",
     "text": [
      "0.9436816125051418 1101\n"
     ]
    },
    {
     "name": "stderr",
     "output_type": "stream",
     "text": [
      "127.0.0.1 - - [28/Jan/2020 22:07:10] \"\u001b[37mPOST /_dash-update-component HTTP/1.1\u001b[0m\" 200 -\n"
     ]
    },
    {
     "name": "stdout",
     "output_type": "stream",
     "text": [
      "0.9495858532686942 3015\n"
     ]
    },
    {
     "name": "stderr",
     "output_type": "stream",
     "text": [
      "127.0.0.1 - - [28/Jan/2020 22:07:12] \"\u001b[37mPOST /_dash-update-component HTTP/1.1\u001b[0m\" 200 -\n"
     ]
    },
    {
     "name": "stdout",
     "output_type": "stream",
     "text": [
      "0.9440613411551235 10654\n"
     ]
    },
    {
     "name": "stderr",
     "output_type": "stream",
     "text": [
      "127.0.0.1 - - [28/Jan/2020 22:07:14] \"\u001b[37mPOST /_dash-update-component HTTP/1.1\u001b[0m\" 200 -\n"
     ]
    }
   ],
   "source": [
    "# Running the dashboard\n",
    "\n",
    "external_stylesheets = [dbc.themes.BOOTSTRAP]\n",
    "\n",
    "app = dash.Dash(__name__, external_stylesheets=external_stylesheets)\n",
    "\n",
    "app.layout = html.Div(\n",
    "    dbc.Row([\n",
    "        dbc.Col([\n",
    "                html.H6('Choose your viz'),\n",
    "            \n",
    "                html.Label('Class'),\n",
    "                dcc.Dropdown(\n",
    "                id='class', \n",
    "                options=[{'label': i, 'value': i} for i in li_seat_type],\n",
    "                multi=True,\n",
    "                value=['Economy Class']), \n",
    "\n",
    "                html.Label('Travel Purpose'),\n",
    "                dcc.Dropdown(\n",
    "                id='purpose',    \n",
    "                options=[{'label': i, 'value': i} for i in li_type_of_traveller],\n",
    "                multi=True,\n",
    "                value=['Solo Leisure']),\n",
    "\n",
    "                html.Label('Flight Length'),\n",
    "                dcc.Dropdown(\n",
    "                id='length',    \n",
    "                options=[{'label': i.replace('-',' '), 'value': i} for i in li_flight_length],\n",
    "                multi=True,\n",
    "                value=['Short-Haul']),\n",
    "\n",
    "                html.Label('Is there a stop'),\n",
    "                dcc.Dropdown(\n",
    "                id='stop',    \n",
    "                options=[{'label': 'Non-stop', 'value': True},\n",
    "                         {'label': 'Stop', 'value': False}],\n",
    "                multi=True,\n",
    "                value=[True])],md=4),\n",
    "        \n",
    "        dbc.Col([dcc.Graph(id='chart')])\n",
    "    \n",
    "    ]))\n",
    "\n",
    "@app.callback(\n",
    "    Output('chart', 'figure'),\n",
    "    [Input('class', 'value'),\n",
    "     Input('purpose', 'value'),\n",
    "     Input('length', 'value'),\n",
    "     Input('stop', 'value')])\n",
    "def update_figure(seat_type, type_of_travaller, flight_length, stop):\n",
    "    return output_chart(df, seat_type, type_of_travaller, stop, flight_length)\n",
    "\n",
    "if __name__ == '__main__':\n",
    "    app.run_server(debug=False)"
   ]
  },
  {
   "cell_type": "code",
   "execution_count": null,
   "metadata": {},
   "outputs": [],
   "source": []
  }
 ],
 "metadata": {
  "kernelspec": {
   "display_name": "Python 3",
   "language": "python",
   "name": "python3"
  }
 },
 "nbformat": 4,
 "nbformat_minor": 2
}
