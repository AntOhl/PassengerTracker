{
 "cells": [
  {
   "cell_type": "code",
   "execution_count": 1,
   "metadata": {},
   "outputs": [],
   "source": [
    "import plotly.offline as pyo\n",
    "import plotly.graph_objects as go\n",
    "import ipywidgets as widgets\n",
    "import numpy as np\n",
    "import pandas as pd\n",
    "from datetime import datetime"
   ]
  },
  {
   "cell_type": "code",
   "execution_count": null,
   "metadata": {},
   "outputs": [],
   "source": [
    "from os import getcwd, path\n",
    "data_path = path.join(path.split(getcwd())[0], '00_data')\n",
    "# to join a file with a path : path.join(data_path, 'name.csv')\n",
    "data_path"
   ]
  },
  {
   "cell_type": "code",
   "execution_count": 57,
   "metadata": {},
   "outputs": [
    {
     "data": {
      "text/html": [
       "        <script type=\"text/javascript\">\n",
       "        window.PlotlyConfig = {MathJaxConfig: 'local'};\n",
       "        if (window.MathJax) {MathJax.Hub.Config({SVG: {font: \"STIX-Web\"}});}\n",
       "        if (typeof require !== 'undefined') {\n",
       "        require.undef(\"plotly\");\n",
       "        requirejs.config({\n",
       "            paths: {\n",
       "                'plotly': ['https://cdn.plot.ly/plotly-latest.min']\n",
       "            }\n",
       "        });\n",
       "        require(['plotly'], function(Plotly) {\n",
       "            window._Plotly = Plotly;\n",
       "        });\n",
       "        }\n",
       "        </script>\n",
       "        "
      ]
     },
     "metadata": {},
     "output_type": "display_data"
    }
   ],
   "source": [
    "#pyo.init_notebook_mode(connected=True)"
   ]
  },
  {
   "cell_type": "code",
   "execution_count": 4,
   "metadata": {},
   "outputs": [],
   "source": [
    "df = pd.read_csv(path.join(data_path, 'nlp_social.csv'), sep = \",\")"
   ]
  },
  {
   "cell_type": "code",
   "execution_count": 5,
   "metadata": {
    "collapsed": true,
    "jupyter": {
     "outputs_hidden": true
    }
   },
   "outputs": [
    {
     "data": {
      "text/html": [
       "<div>\n",
       "<style scoped>\n",
       "    .dataframe tbody tr th:only-of-type {\n",
       "        vertical-align: middle;\n",
       "    }\n",
       "\n",
       "    .dataframe tbody tr th {\n",
       "        vertical-align: top;\n",
       "    }\n",
       "\n",
       "    .dataframe thead th {\n",
       "        text-align: right;\n",
       "    }\n",
       "</style>\n",
       "<table border=\"1\" class=\"dataframe\">\n",
       "  <thead>\n",
       "    <tr style=\"text-align: right;\">\n",
       "      <th></th>\n",
       "      <th>Unnamed: 0</th>\n",
       "      <th>Date</th>\n",
       "      <th>Account</th>\n",
       "      <th>Text</th>\n",
       "      <th>Source</th>\n",
       "      <th>NLP</th>\n",
       "      <th>NLP_relevant</th>\n",
       "      <th>Tokens</th>\n",
       "      <th>Lemmas</th>\n",
       "      <th>POSTags</th>\n",
       "      <th>...</th>\n",
       "      <th>Seat_Polarity</th>\n",
       "      <th>Seat_Subjectivity</th>\n",
       "      <th>Staff_Service_Polarity</th>\n",
       "      <th>Staff_Service_Subjectivity</th>\n",
       "      <th>FoodBeverages_Polarity</th>\n",
       "      <th>FoodBeverages_Subjectivity</th>\n",
       "      <th>InflightEntertainment_Polarity</th>\n",
       "      <th>InflightEntertainment_Subjectivity</th>\n",
       "      <th>GroundService_Polarity</th>\n",
       "      <th>GroundService_Subjectivity</th>\n",
       "    </tr>\n",
       "  </thead>\n",
       "  <tbody>\n",
       "    <tr>\n",
       "      <td>0</td>\n",
       "      <td>0</td>\n",
       "      <td>January 2020</td>\n",
       "      <td>Donsafe</td>\n",
       "      <td>As a budget airline we were not expecting much...</td>\n",
       "      <td>TripAdvisor</td>\n",
       "      <td>As a budget airline we were not expecting much...</td>\n",
       "      <td>[budget, airline, expecting, ., went, smoothly...</td>\n",
       "      <td>['budget', 'airline', 'expecting', '.', 'went'...</td>\n",
       "      <td>['budget', 'airline', 'expect', '.', 'go', 'sm...</td>\n",
       "      <td>['NOUN', 'NOUN', 'VERB', 'PUNCT', 'VERB', 'ADV...</td>\n",
       "      <td>...</td>\n",
       "      <td>0.000000</td>\n",
       "      <td>0.000000</td>\n",
       "      <td>0.733333</td>\n",
       "      <td>0.966667</td>\n",
       "      <td>0.733333</td>\n",
       "      <td>0.966667</td>\n",
       "      <td>0.00</td>\n",
       "      <td>0.000</td>\n",
       "      <td>0.0000</td>\n",
       "      <td>0.0</td>\n",
       "    </tr>\n",
       "    <tr>\n",
       "      <td>1</td>\n",
       "      <td>1</td>\n",
       "      <td>July 2019</td>\n",
       "      <td>travel_cy</td>\n",
       "      <td>+Comfort airplane, clean aircraft, polite and ...</td>\n",
       "      <td>TripAdvisor</td>\n",
       "      <td>+Comfort airplane, clean aircraft, polite and ...</td>\n",
       "      <td>[+, Comfort, airplane, ,, clean, aircraft, ,, ...</td>\n",
       "      <td>['+', 'Comfort', 'airplane', ',', 'clean', 'ai...</td>\n",
       "      <td>['+', 'Comfort', 'airplane', ',', 'clean', 'ai...</td>\n",
       "      <td>['PUNCT', 'PROPN', 'NOUN', 'PUNCT', 'ADJ', 'NO...</td>\n",
       "      <td>...</td>\n",
       "      <td>0.000000</td>\n",
       "      <td>0.000000</td>\n",
       "      <td>0.100000</td>\n",
       "      <td>0.100000</td>\n",
       "      <td>0.000000</td>\n",
       "      <td>0.000000</td>\n",
       "      <td>0.00</td>\n",
       "      <td>0.000</td>\n",
       "      <td>0.4375</td>\n",
       "      <td>0.5</td>\n",
       "    </tr>\n",
       "    <tr>\n",
       "      <td>2</td>\n",
       "      <td>2</td>\n",
       "      <td>December 2019</td>\n",
       "      <td>Globtrotter108</td>\n",
       "      <td>Our turbulent experience with Rossia airline s...</td>\n",
       "      <td>TripAdvisor</td>\n",
       "      <td>Our turbulent experience with Rossia airline s...</td>\n",
       "      <td>[turbulent, experience, Rossia, airline, start...</td>\n",
       "      <td>['turbulent', 'experience', 'Rossia', 'airline...</td>\n",
       "      <td>['turbulent', 'experience', 'Rossia', 'airline...</td>\n",
       "      <td>['ADJ', 'NOUN', 'PROPN', 'NOUN', 'VERB', 'NOUN...</td>\n",
       "      <td>...</td>\n",
       "      <td>0.163803</td>\n",
       "      <td>0.365570</td>\n",
       "      <td>-0.350000</td>\n",
       "      <td>0.500000</td>\n",
       "      <td>0.017857</td>\n",
       "      <td>0.463571</td>\n",
       "      <td>0.05</td>\n",
       "      <td>0.325</td>\n",
       "      <td>0.0000</td>\n",
       "      <td>0.0</td>\n",
       "    </tr>\n",
       "    <tr>\n",
       "      <td>3</td>\n",
       "      <td>3</td>\n",
       "      <td>December 2019</td>\n",
       "      <td>Elina D</td>\n",
       "      <td>First of all when booking had no idea i'll be ...</td>\n",
       "      <td>TripAdvisor</td>\n",
       "      <td>First of all when booking had no idea i'll be ...</td>\n",
       "      <td>[booking, idea, flying, Rossiya, Aeroflot, ,, ...</td>\n",
       "      <td>['booking', 'idea', 'flying', 'Rossiya', 'Aero...</td>\n",
       "      <td>['book', 'idea', 'fly', 'Rossiya', 'Aeroflot',...</td>\n",
       "      <td>['VERB', 'NOUN', 'VERB', 'PROPN', 'PROPN', 'PU...</td>\n",
       "      <td>...</td>\n",
       "      <td>0.000000</td>\n",
       "      <td>0.000000</td>\n",
       "      <td>-0.250000</td>\n",
       "      <td>0.550000</td>\n",
       "      <td>-0.500000</td>\n",
       "      <td>0.562500</td>\n",
       "      <td>0.25</td>\n",
       "      <td>0.450</td>\n",
       "      <td>0.0000</td>\n",
       "      <td>0.0</td>\n",
       "    </tr>\n",
       "    <tr>\n",
       "      <td>4</td>\n",
       "      <td>4</td>\n",
       "      <td>NaN</td>\n",
       "      <td>Giulia P</td>\n",
       "      <td>I did not enjoy flying with Rossiya airlines, ...</td>\n",
       "      <td>TripAdvisor</td>\n",
       "      <td>I did not enjoy flying with Rossiya airlines, ...</td>\n",
       "      <td>[enjoy, flying, Rossiya, airlines, ,, especial...</td>\n",
       "      <td>['enjoy', 'flying', 'Rossiya', 'airlines', ','...</td>\n",
       "      <td>['enjoy', 'fly', 'Rossiya', 'airline', ',', 'e...</td>\n",
       "      <td>['VERB', 'VERB', 'PROPN', 'NOUN', 'PUNCT', 'AD...</td>\n",
       "      <td>...</td>\n",
       "      <td>-0.066667</td>\n",
       "      <td>0.916667</td>\n",
       "      <td>0.000000</td>\n",
       "      <td>1.000000</td>\n",
       "      <td>0.357143</td>\n",
       "      <td>0.571429</td>\n",
       "      <td>0.00</td>\n",
       "      <td>0.000</td>\n",
       "      <td>0.0000</td>\n",
       "      <td>0.0</td>\n",
       "    </tr>\n",
       "    <tr>\n",
       "      <td>...</td>\n",
       "      <td>...</td>\n",
       "      <td>...</td>\n",
       "      <td>...</td>\n",
       "      <td>...</td>\n",
       "      <td>...</td>\n",
       "      <td>...</td>\n",
       "      <td>...</td>\n",
       "      <td>...</td>\n",
       "      <td>...</td>\n",
       "      <td>...</td>\n",
       "      <td>...</td>\n",
       "      <td>...</td>\n",
       "      <td>...</td>\n",
       "      <td>...</td>\n",
       "      <td>...</td>\n",
       "      <td>...</td>\n",
       "      <td>...</td>\n",
       "      <td>...</td>\n",
       "      <td>...</td>\n",
       "      <td>...</td>\n",
       "      <td>...</td>\n",
       "    </tr>\n",
       "    <tr>\n",
       "      <td>46034</td>\n",
       "      <td>33005</td>\n",
       "      <td>2020-01-18 15:15:19</td>\n",
       "      <td>b'Singapore Airlines'</td>\n",
       "      <td>Hi Vikash, you may wish to contact your neare...</td>\n",
       "      <td>Twitter</td>\n",
       "      <td>Hi Vikash, you may wish to contact your neare...</td>\n",
       "      <td>[Hi, Vikash, ,, wish, contact, nearest, Singap...</td>\n",
       "      <td>['Hi', 'Vikash', ',', 'wish', 'contact', 'near...</td>\n",
       "      <td>['hi', 'Vikash', ',', 'wish', 'contact', 'near...</td>\n",
       "      <td>['INTJ', 'PROPN', 'PUNCT', 'VERB', 'VERB', 'AD...</td>\n",
       "      <td>...</td>\n",
       "      <td>0.000000</td>\n",
       "      <td>0.000000</td>\n",
       "      <td>0.000000</td>\n",
       "      <td>0.000000</td>\n",
       "      <td>0.000000</td>\n",
       "      <td>0.000000</td>\n",
       "      <td>0.00</td>\n",
       "      <td>0.000</td>\n",
       "      <td>0.0000</td>\n",
       "      <td>0.0</td>\n",
       "    </tr>\n",
       "    <tr>\n",
       "      <td>46035</td>\n",
       "      <td>33006</td>\n",
       "      <td>2020-01-18 15:01:30</td>\n",
       "      <td>b'AviationFestivalAsia'</td>\n",
       "      <td>Get your FREE pass to Aviation Festival Asia E...</td>\n",
       "      <td>Twitter</td>\n",
       "      <td>Get your FREE pass to Aviation Festival Asia E...</td>\n",
       "      <td>[FREE, pass, Aviation, Festival, Asia, Expo, ....</td>\n",
       "      <td>['FREE', 'pass', 'Aviation', 'Festival', 'Asia...</td>\n",
       "      <td>['free', 'pass', 'Aviation', 'Festival', 'Asia...</td>\n",
       "      <td>['ADJ', 'NOUN', 'PROPN', 'PROPN', 'PROPN', 'PR...</td>\n",
       "      <td>...</td>\n",
       "      <td>0.000000</td>\n",
       "      <td>0.000000</td>\n",
       "      <td>0.000000</td>\n",
       "      <td>0.000000</td>\n",
       "      <td>0.000000</td>\n",
       "      <td>0.000000</td>\n",
       "      <td>0.00</td>\n",
       "      <td>0.000</td>\n",
       "      <td>0.0000</td>\n",
       "      <td>0.0</td>\n",
       "    </tr>\n",
       "    <tr>\n",
       "      <td>46036</td>\n",
       "      <td>33007</td>\n",
       "      <td>2020-01-18 15:01:26</td>\n",
       "      <td>b'theflightdealrss'</td>\n",
       "      <td>Lufthansa  Singapore  Swiss: New York x93 Mumb...</td>\n",
       "      <td>Twitter</td>\n",
       "      <td>Lufthansa  Singapore  Swiss: New York x93 Mumb...</td>\n",
       "      <td>[Lufthansa, Singapore, Swiss, :, New, York, x9...</td>\n",
       "      <td>['Lufthansa', 'Singapore', 'Swiss', ':', 'New'...</td>\n",
       "      <td>['Lufthansa', 'Singapore', 'Swiss', ':', 'New'...</td>\n",
       "      <td>['PROPN', 'PROPN', 'PROPN', 'PUNCT', 'PROPN', ...</td>\n",
       "      <td>...</td>\n",
       "      <td>0.000000</td>\n",
       "      <td>0.000000</td>\n",
       "      <td>0.000000</td>\n",
       "      <td>0.000000</td>\n",
       "      <td>0.000000</td>\n",
       "      <td>0.000000</td>\n",
       "      <td>0.00</td>\n",
       "      <td>0.000</td>\n",
       "      <td>0.0000</td>\n",
       "      <td>0.0</td>\n",
       "    </tr>\n",
       "    <tr>\n",
       "      <td>46037</td>\n",
       "      <td>33008</td>\n",
       "      <td>2020-01-18 12:00:10</td>\n",
       "      <td>b'Srikanth Mangalam'</td>\n",
       "      <td>Want to do contribute to my list of  who you f...</td>\n",
       "      <td>Twitter</td>\n",
       "      <td>Want to do contribute to my list of  who you f...</td>\n",
       "      <td>[Want, contribute, list, feel, discriminate, b...</td>\n",
       "      <td>['Want', 'contribute', 'list', 'feel', 'discri...</td>\n",
       "      <td>['want', 'contribute', 'list', 'feel', 'discri...</td>\n",
       "      <td>['VERB', 'VERB', 'NOUN', 'VERB', 'NOUN', 'NOUN...</td>\n",
       "      <td>...</td>\n",
       "      <td>0.000000</td>\n",
       "      <td>0.000000</td>\n",
       "      <td>0.000000</td>\n",
       "      <td>0.000000</td>\n",
       "      <td>0.000000</td>\n",
       "      <td>0.000000</td>\n",
       "      <td>0.00</td>\n",
       "      <td>0.000</td>\n",
       "      <td>0.0000</td>\n",
       "      <td>0.0</td>\n",
       "    </tr>\n",
       "    <tr>\n",
       "      <td>46038</td>\n",
       "      <td>33009</td>\n",
       "      <td>2020-01-18 11:53:15</td>\n",
       "      <td>b'SPOILY Somerhalder \\xe2\\x99\\xa1'</td>\n",
       "      <td>I have flown to Bangkok with Singapore Airline...</td>\n",
       "      <td>Twitter</td>\n",
       "      <td>I have flown to Bangkok with Singapore Airline...</td>\n",
       "      <td>[flown, Bangkok, Singapore, Airlines, ., Playb...</td>\n",
       "      <td>['flown', 'Bangkok', 'Singapore', 'Airlines', ...</td>\n",
       "      <td>['fly', 'Bangkok', 'Singapore', 'Airlines', '....</td>\n",
       "      <td>['VERB', 'PROPN', 'PROPN', 'PROPN', 'PUNCT', '...</td>\n",
       "      <td>...</td>\n",
       "      <td>0.000000</td>\n",
       "      <td>0.000000</td>\n",
       "      <td>0.000000</td>\n",
       "      <td>0.000000</td>\n",
       "      <td>0.000000</td>\n",
       "      <td>0.000000</td>\n",
       "      <td>0.00</td>\n",
       "      <td>0.000</td>\n",
       "      <td>0.0000</td>\n",
       "      <td>0.0</td>\n",
       "    </tr>\n",
       "  </tbody>\n",
       "</table>\n",
       "<p>46039 rows × 29 columns</p>\n",
       "</div>"
      ],
      "text/plain": [
       "       Unnamed: 0                 Date                             Account  \\\n",
       "0               0         January 2020                             Donsafe   \n",
       "1               1            July 2019                           travel_cy   \n",
       "2               2        December 2019                      Globtrotter108   \n",
       "3               3        December 2019                             Elina D   \n",
       "4               4                  NaN                            Giulia P   \n",
       "...           ...                  ...                                 ...   \n",
       "46034       33005  2020-01-18 15:15:19               b'Singapore Airlines'   \n",
       "46035       33006  2020-01-18 15:01:30             b'AviationFestivalAsia'   \n",
       "46036       33007  2020-01-18 15:01:26                 b'theflightdealrss'   \n",
       "46037       33008  2020-01-18 12:00:10                b'Srikanth Mangalam'   \n",
       "46038       33009  2020-01-18 11:53:15  b'SPOILY Somerhalder \\xe2\\x99\\xa1'   \n",
       "\n",
       "                                                    Text       Source  \\\n",
       "0      As a budget airline we were not expecting much...  TripAdvisor   \n",
       "1      +Comfort airplane, clean aircraft, polite and ...  TripAdvisor   \n",
       "2      Our turbulent experience with Rossia airline s...  TripAdvisor   \n",
       "3      First of all when booking had no idea i'll be ...  TripAdvisor   \n",
       "4      I did not enjoy flying with Rossiya airlines, ...  TripAdvisor   \n",
       "...                                                  ...          ...   \n",
       "46034   Hi Vikash, you may wish to contact your neare...      Twitter   \n",
       "46035  Get your FREE pass to Aviation Festival Asia E...      Twitter   \n",
       "46036  Lufthansa  Singapore  Swiss: New York x93 Mumb...      Twitter   \n",
       "46037  Want to do contribute to my list of  who you f...      Twitter   \n",
       "46038  I have flown to Bangkok with Singapore Airline...      Twitter   \n",
       "\n",
       "                                                     NLP  \\\n",
       "0      As a budget airline we were not expecting much...   \n",
       "1      +Comfort airplane, clean aircraft, polite and ...   \n",
       "2      Our turbulent experience with Rossia airline s...   \n",
       "3      First of all when booking had no idea i'll be ...   \n",
       "4      I did not enjoy flying with Rossiya airlines, ...   \n",
       "...                                                  ...   \n",
       "46034   Hi Vikash, you may wish to contact your neare...   \n",
       "46035  Get your FREE pass to Aviation Festival Asia E...   \n",
       "46036  Lufthansa  Singapore  Swiss: New York x93 Mumb...   \n",
       "46037  Want to do contribute to my list of  who you f...   \n",
       "46038  I have flown to Bangkok with Singapore Airline...   \n",
       "\n",
       "                                            NLP_relevant  \\\n",
       "0      [budget, airline, expecting, ., went, smoothly...   \n",
       "1      [+, Comfort, airplane, ,, clean, aircraft, ,, ...   \n",
       "2      [turbulent, experience, Rossia, airline, start...   \n",
       "3      [booking, idea, flying, Rossiya, Aeroflot, ,, ...   \n",
       "4      [enjoy, flying, Rossiya, airlines, ,, especial...   \n",
       "...                                                  ...   \n",
       "46034  [Hi, Vikash, ,, wish, contact, nearest, Singap...   \n",
       "46035  [FREE, pass, Aviation, Festival, Asia, Expo, ....   \n",
       "46036  [Lufthansa, Singapore, Swiss, :, New, York, x9...   \n",
       "46037  [Want, contribute, list, feel, discriminate, b...   \n",
       "46038  [flown, Bangkok, Singapore, Airlines, ., Playb...   \n",
       "\n",
       "                                                  Tokens  \\\n",
       "0      ['budget', 'airline', 'expecting', '.', 'went'...   \n",
       "1      ['+', 'Comfort', 'airplane', ',', 'clean', 'ai...   \n",
       "2      ['turbulent', 'experience', 'Rossia', 'airline...   \n",
       "3      ['booking', 'idea', 'flying', 'Rossiya', 'Aero...   \n",
       "4      ['enjoy', 'flying', 'Rossiya', 'airlines', ','...   \n",
       "...                                                  ...   \n",
       "46034  ['Hi', 'Vikash', ',', 'wish', 'contact', 'near...   \n",
       "46035  ['FREE', 'pass', 'Aviation', 'Festival', 'Asia...   \n",
       "46036  ['Lufthansa', 'Singapore', 'Swiss', ':', 'New'...   \n",
       "46037  ['Want', 'contribute', 'list', 'feel', 'discri...   \n",
       "46038  ['flown', 'Bangkok', 'Singapore', 'Airlines', ...   \n",
       "\n",
       "                                                  Lemmas  \\\n",
       "0      ['budget', 'airline', 'expect', '.', 'go', 'sm...   \n",
       "1      ['+', 'Comfort', 'airplane', ',', 'clean', 'ai...   \n",
       "2      ['turbulent', 'experience', 'Rossia', 'airline...   \n",
       "3      ['book', 'idea', 'fly', 'Rossiya', 'Aeroflot',...   \n",
       "4      ['enjoy', 'fly', 'Rossiya', 'airline', ',', 'e...   \n",
       "...                                                  ...   \n",
       "46034  ['hi', 'Vikash', ',', 'wish', 'contact', 'near...   \n",
       "46035  ['free', 'pass', 'Aviation', 'Festival', 'Asia...   \n",
       "46036  ['Lufthansa', 'Singapore', 'Swiss', ':', 'New'...   \n",
       "46037  ['want', 'contribute', 'list', 'feel', 'discri...   \n",
       "46038  ['fly', 'Bangkok', 'Singapore', 'Airlines', '....   \n",
       "\n",
       "                                                 POSTags  ... Seat_Polarity  \\\n",
       "0      ['NOUN', 'NOUN', 'VERB', 'PUNCT', 'VERB', 'ADV...  ...      0.000000   \n",
       "1      ['PUNCT', 'PROPN', 'NOUN', 'PUNCT', 'ADJ', 'NO...  ...      0.000000   \n",
       "2      ['ADJ', 'NOUN', 'PROPN', 'NOUN', 'VERB', 'NOUN...  ...      0.163803   \n",
       "3      ['VERB', 'NOUN', 'VERB', 'PROPN', 'PROPN', 'PU...  ...      0.000000   \n",
       "4      ['VERB', 'VERB', 'PROPN', 'NOUN', 'PUNCT', 'AD...  ...     -0.066667   \n",
       "...                                                  ...  ...           ...   \n",
       "46034  ['INTJ', 'PROPN', 'PUNCT', 'VERB', 'VERB', 'AD...  ...      0.000000   \n",
       "46035  ['ADJ', 'NOUN', 'PROPN', 'PROPN', 'PROPN', 'PR...  ...      0.000000   \n",
       "46036  ['PROPN', 'PROPN', 'PROPN', 'PUNCT', 'PROPN', ...  ...      0.000000   \n",
       "46037  ['VERB', 'VERB', 'NOUN', 'VERB', 'NOUN', 'NOUN...  ...      0.000000   \n",
       "46038  ['VERB', 'PROPN', 'PROPN', 'PROPN', 'PUNCT', '...  ...      0.000000   \n",
       "\n",
       "      Seat_Subjectivity Staff_Service_Polarity Staff_Service_Subjectivity  \\\n",
       "0              0.000000               0.733333                   0.966667   \n",
       "1              0.000000               0.100000                   0.100000   \n",
       "2              0.365570              -0.350000                   0.500000   \n",
       "3              0.000000              -0.250000                   0.550000   \n",
       "4              0.916667               0.000000                   1.000000   \n",
       "...                 ...                    ...                        ...   \n",
       "46034          0.000000               0.000000                   0.000000   \n",
       "46035          0.000000               0.000000                   0.000000   \n",
       "46036          0.000000               0.000000                   0.000000   \n",
       "46037          0.000000               0.000000                   0.000000   \n",
       "46038          0.000000               0.000000                   0.000000   \n",
       "\n",
       "      FoodBeverages_Polarity FoodBeverages_Subjectivity  \\\n",
       "0                   0.733333                   0.966667   \n",
       "1                   0.000000                   0.000000   \n",
       "2                   0.017857                   0.463571   \n",
       "3                  -0.500000                   0.562500   \n",
       "4                   0.357143                   0.571429   \n",
       "...                      ...                        ...   \n",
       "46034               0.000000                   0.000000   \n",
       "46035               0.000000                   0.000000   \n",
       "46036               0.000000                   0.000000   \n",
       "46037               0.000000                   0.000000   \n",
       "46038               0.000000                   0.000000   \n",
       "\n",
       "      InflightEntertainment_Polarity InflightEntertainment_Subjectivity  \\\n",
       "0                               0.00                              0.000   \n",
       "1                               0.00                              0.000   \n",
       "2                               0.05                              0.325   \n",
       "3                               0.25                              0.450   \n",
       "4                               0.00                              0.000   \n",
       "...                              ...                                ...   \n",
       "46034                           0.00                              0.000   \n",
       "46035                           0.00                              0.000   \n",
       "46036                           0.00                              0.000   \n",
       "46037                           0.00                              0.000   \n",
       "46038                           0.00                              0.000   \n",
       "\n",
       "      GroundService_Polarity  GroundService_Subjectivity  \n",
       "0                     0.0000                         0.0  \n",
       "1                     0.4375                         0.5  \n",
       "2                     0.0000                         0.0  \n",
       "3                     0.0000                         0.0  \n",
       "4                     0.0000                         0.0  \n",
       "...                      ...                         ...  \n",
       "46034                 0.0000                         0.0  \n",
       "46035                 0.0000                         0.0  \n",
       "46036                 0.0000                         0.0  \n",
       "46037                 0.0000                         0.0  \n",
       "46038                 0.0000                         0.0  \n",
       "\n",
       "[46039 rows x 29 columns]"
      ]
     },
     "execution_count": 5,
     "metadata": {},
     "output_type": "execute_result"
    }
   ],
   "source": [
    "df"
   ]
  },
  {
   "cell_type": "code",
   "execution_count": 6,
   "metadata": {},
   "outputs": [],
   "source": [
    "is_ta = df['Source'] == 'TripAdvisor'\n",
    "is_tw = df['Source'] == 'Twitter'\n",
    "df_ta = df[is_ta]\n",
    "df_tw = df[is_tw]"
   ]
  },
  {
   "cell_type": "code",
   "execution_count": 7,
   "metadata": {},
   "outputs": [
    {
     "data": {
      "text/plain": [
       "(13029, 29)"
      ]
     },
     "execution_count": 7,
     "metadata": {},
     "output_type": "execute_result"
    }
   ],
   "source": [
    "df_ta.shape"
   ]
  },
  {
   "cell_type": "code",
   "execution_count": 8,
   "metadata": {},
   "outputs": [
    {
     "data": {
      "text/plain": [
       "(33010, 29)"
      ]
     },
     "execution_count": 8,
     "metadata": {},
     "output_type": "execute_result"
    }
   ],
   "source": [
    "df_tw.shape"
   ]
  },
  {
   "cell_type": "code",
   "execution_count": 9,
   "metadata": {},
   "outputs": [
    {
     "data": {
      "text/plain": [
       "13029    2020-01-24 10:51:14\n",
       "13030    2020-01-24 09:55:25\n",
       "13031    2020-01-24 09:30:12\n",
       "13032    2020-01-24 08:24:23\n",
       "13033    2020-01-24 07:51:06\n",
       "                ...         \n",
       "46034    2020-01-18 15:15:19\n",
       "46035    2020-01-18 15:01:30\n",
       "46036    2020-01-18 15:01:26\n",
       "46037    2020-01-18 12:00:10\n",
       "46038    2020-01-18 11:53:15\n",
       "Name: Date, Length: 33010, dtype: object"
      ]
     },
     "execution_count": 9,
     "metadata": {},
     "output_type": "execute_result"
    }
   ],
   "source": [
    "df_tw['Date']"
   ]
  },
  {
   "cell_type": "code",
   "execution_count": 10,
   "metadata": {},
   "outputs": [
    {
     "name": "stderr",
     "output_type": "stream",
     "text": [
      "/opt/anaconda3/lib/python3.7/site-packages/ipykernel_launcher.py:1: SettingWithCopyWarning:\n",
      "\n",
      "\n",
      "A value is trying to be set on a copy of a slice from a DataFrame.\n",
      "Try using .loc[row_indexer,col_indexer] = value instead\n",
      "\n",
      "See the caveats in the documentation: http://pandas.pydata.org/pandas-docs/stable/user_guide/indexing.html#returning-a-view-versus-a-copy\n",
      "\n"
     ]
    }
   ],
   "source": [
    "df_tw['Date'] = pd.to_datetime(df_tw['Date'], format='%Y-%m-%d %H:%M:%S')"
   ]
  },
  {
   "cell_type": "code",
   "execution_count": 11,
   "metadata": {},
   "outputs": [
    {
     "name": "stderr",
     "output_type": "stream",
     "text": [
      "/opt/anaconda3/lib/python3.7/site-packages/ipykernel_launcher.py:1: SettingWithCopyWarning:\n",
      "\n",
      "\n",
      "A value is trying to be set on a copy of a slice from a DataFrame.\n",
      "Try using .loc[row_indexer,col_indexer] = value instead\n",
      "\n",
      "See the caveats in the documentation: http://pandas.pydata.org/pandas-docs/stable/user_guide/indexing.html#returning-a-view-versus-a-copy\n",
      "\n"
     ]
    }
   ],
   "source": [
    "df_tw['day'] = df_tw['Date'].map(lambda x: x.strftime('%Y-%m-%d'))"
   ]
  },
  {
   "cell_type": "code",
   "execution_count": 12,
   "metadata": {},
   "outputs": [
    {
     "data": {
      "text/plain": [
       "13029    2020-01-24\n",
       "13030    2020-01-24\n",
       "13031    2020-01-24\n",
       "13032    2020-01-24\n",
       "13033    2020-01-24\n",
       "            ...    \n",
       "46034    2020-01-18\n",
       "46035    2020-01-18\n",
       "46036    2020-01-18\n",
       "46037    2020-01-18\n",
       "46038    2020-01-18\n",
       "Name: day, Length: 33010, dtype: object"
      ]
     },
     "execution_count": 12,
     "metadata": {},
     "output_type": "execute_result"
    }
   ],
   "source": [
    "df_tw['day']"
   ]
  },
  {
   "cell_type": "code",
   "execution_count": 13,
   "metadata": {},
   "outputs": [
    {
     "name": "stderr",
     "output_type": "stream",
     "text": [
      "/opt/anaconda3/lib/python3.7/site-packages/pandas/core/frame.py:4263: SettingWithCopyWarning:\n",
      "\n",
      "\n",
      "A value is trying to be set on a copy of a slice from a DataFrame\n",
      "\n",
      "See the caveats in the documentation: http://pandas.pydata.org/pandas-docs/stable/user_guide/indexing.html#returning-a-view-versus-a-copy\n",
      "\n"
     ]
    }
   ],
   "source": [
    "df_tw.replace(0.0, np.nan, inplace=True)"
   ]
  },
  {
   "cell_type": "code",
   "execution_count": 14,
   "metadata": {},
   "outputs": [],
   "source": [
    "df_seat = df_tw.groupby('day').Seat_Polarity.mean().reset_index(name='seat')\n",
    "df_staff = df_tw.groupby('day').Staff_Service_Polarity.mean().reset_index(name='staff_service')\n",
    "df_fb = df_tw.groupby('day').FoodBeverages_Polarity.mean().reset_index(name='foodbeverage')\n",
    "df_ent = df_tw.groupby('day').InflightEntertainment_Polarity.mean().reset_index(name='inflightent')\n",
    "df_gserv = df_tw.groupby('day').GroundService_Polarity.mean().reset_index(name='gserv')"
   ]
  },
  {
   "cell_type": "code",
   "execution_count": 21,
   "metadata": {},
   "outputs": [
    {
     "data": {
      "text/html": [
       "<div>\n",
       "<style scoped>\n",
       "    .dataframe tbody tr th:only-of-type {\n",
       "        vertical-align: middle;\n",
       "    }\n",
       "\n",
       "    .dataframe tbody tr th {\n",
       "        vertical-align: top;\n",
       "    }\n",
       "\n",
       "    .dataframe thead th {\n",
       "        text-align: right;\n",
       "    }\n",
       "</style>\n",
       "<table border=\"1\" class=\"dataframe\">\n",
       "  <thead>\n",
       "    <tr style=\"text-align: right;\">\n",
       "      <th></th>\n",
       "      <th>day</th>\n",
       "      <th>seat</th>\n",
       "      <th>staff_service</th>\n",
       "      <th>foodbeverage</th>\n",
       "      <th>inflightent</th>\n",
       "      <th>gserv</th>\n",
       "    </tr>\n",
       "  </thead>\n",
       "  <tbody>\n",
       "    <tr>\n",
       "      <td>0</td>\n",
       "      <td>2020-01-16</td>\n",
       "      <td>-0.02</td>\n",
       "      <td>0.05</td>\n",
       "      <td>-0.25</td>\n",
       "      <td>0.20</td>\n",
       "      <td>0.07</td>\n",
       "    </tr>\n",
       "    <tr>\n",
       "      <td>1</td>\n",
       "      <td>2020-01-17</td>\n",
       "      <td>-0.02</td>\n",
       "      <td>-0.01</td>\n",
       "      <td>0.12</td>\n",
       "      <td>0.15</td>\n",
       "      <td>-0.01</td>\n",
       "    </tr>\n",
       "    <tr>\n",
       "      <td>2</td>\n",
       "      <td>2020-01-18</td>\n",
       "      <td>0.15</td>\n",
       "      <td>0.18</td>\n",
       "      <td>0.53</td>\n",
       "      <td>0.14</td>\n",
       "      <td>-0.13</td>\n",
       "    </tr>\n",
       "    <tr>\n",
       "      <td>3</td>\n",
       "      <td>2020-01-19</td>\n",
       "      <td>0.18</td>\n",
       "      <td>-0.06</td>\n",
       "      <td>-0.02</td>\n",
       "      <td>0.40</td>\n",
       "      <td>0.07</td>\n",
       "    </tr>\n",
       "    <tr>\n",
       "      <td>4</td>\n",
       "      <td>2020-01-20</td>\n",
       "      <td>0.13</td>\n",
       "      <td>-0.09</td>\n",
       "      <td>0.27</td>\n",
       "      <td>0.24</td>\n",
       "      <td>-0.07</td>\n",
       "    </tr>\n",
       "    <tr>\n",
       "      <td>5</td>\n",
       "      <td>2020-01-21</td>\n",
       "      <td>0.11</td>\n",
       "      <td>0.07</td>\n",
       "      <td>0.35</td>\n",
       "      <td>0.41</td>\n",
       "      <td>0.10</td>\n",
       "    </tr>\n",
       "    <tr>\n",
       "      <td>6</td>\n",
       "      <td>2020-01-22</td>\n",
       "      <td>0.09</td>\n",
       "      <td>0.08</td>\n",
       "      <td>-0.14</td>\n",
       "      <td>0.33</td>\n",
       "      <td>0.16</td>\n",
       "    </tr>\n",
       "    <tr>\n",
       "      <td>7</td>\n",
       "      <td>2020-01-23</td>\n",
       "      <td>0.06</td>\n",
       "      <td>0.12</td>\n",
       "      <td>0.15</td>\n",
       "      <td>0.25</td>\n",
       "      <td>0.19</td>\n",
       "    </tr>\n",
       "    <tr>\n",
       "      <td>8</td>\n",
       "      <td>2020-01-24</td>\n",
       "      <td>0.08</td>\n",
       "      <td>-0.20</td>\n",
       "      <td>0.18</td>\n",
       "      <td>0.20</td>\n",
       "      <td>0.10</td>\n",
       "    </tr>\n",
       "    <tr>\n",
       "      <td>9</td>\n",
       "      <td>2020-01-25</td>\n",
       "      <td>0.19</td>\n",
       "      <td>-0.11</td>\n",
       "      <td>-0.02</td>\n",
       "      <td>0.13</td>\n",
       "      <td>0.18</td>\n",
       "    </tr>\n",
       "    <tr>\n",
       "      <td>10</td>\n",
       "      <td>2020-01-26</td>\n",
       "      <td>0.22</td>\n",
       "      <td>0.03</td>\n",
       "      <td>-0.04</td>\n",
       "      <td>0.23</td>\n",
       "      <td>0.25</td>\n",
       "    </tr>\n",
       "  </tbody>\n",
       "</table>\n",
       "</div>"
      ],
      "text/plain": [
       "           day  seat  staff_service  foodbeverage  inflightent  gserv\n",
       "0   2020-01-16 -0.02           0.05         -0.25         0.20   0.07\n",
       "1   2020-01-17 -0.02          -0.01          0.12         0.15  -0.01\n",
       "2   2020-01-18  0.15           0.18          0.53         0.14  -0.13\n",
       "3   2020-01-19  0.18          -0.06         -0.02         0.40   0.07\n",
       "4   2020-01-20  0.13          -0.09          0.27         0.24  -0.07\n",
       "5   2020-01-21  0.11           0.07          0.35         0.41   0.10\n",
       "6   2020-01-22  0.09           0.08         -0.14         0.33   0.16\n",
       "7   2020-01-23  0.06           0.12          0.15         0.25   0.19\n",
       "8   2020-01-24  0.08          -0.20          0.18         0.20   0.10\n",
       "9   2020-01-25  0.19          -0.11         -0.02         0.13   0.18\n",
       "10  2020-01-26  0.22           0.03         -0.04         0.23   0.25"
      ]
     },
     "execution_count": 21,
     "metadata": {},
     "output_type": "execute_result"
    }
   ],
   "source": [
    "df_new = df_seat.merge(df_staff, left_on = 'day', right_on = 'day')\n",
    "df_new = df_new.merge(df_fb, left_on = 'day', right_on = 'day')\n",
    "df_new = df_new.merge(df_ent, left_on = 'day', right_on = 'day')\n",
    "df_new = df_new.merge(df_gserv, left_on = 'day', right_on = 'day')\n",
    "df_new\n",
    "df_new = df_new.round(2)\n",
    "df_new"
   ]
  },
  {
   "cell_type": "code",
   "execution_count": 22,
   "metadata": {},
   "outputs": [],
   "source": [
    "x_data = np.array([df_new['day']]*5)\n",
    "\n",
    "y_data = np.array([df_new['seat'],\n",
    "                   df_new['staff_service'],\n",
    "                   df_new['foodbeverage'],\n",
    "                   df_new['inflightent'],\n",
    "                   df_new['gserv']])"
   ]
  },
  {
   "cell_type": "code",
   "execution_count": 23,
   "metadata": {},
   "outputs": [
    {
     "data": {
      "text/plain": [
       "array([['2020-01-16', '2020-01-17', '2020-01-18', '2020-01-19',\n",
       "        '2020-01-20', '2020-01-21', '2020-01-22', '2020-01-23',\n",
       "        '2020-01-24', '2020-01-25', '2020-01-26'],\n",
       "       ['2020-01-16', '2020-01-17', '2020-01-18', '2020-01-19',\n",
       "        '2020-01-20', '2020-01-21', '2020-01-22', '2020-01-23',\n",
       "        '2020-01-24', '2020-01-25', '2020-01-26'],\n",
       "       ['2020-01-16', '2020-01-17', '2020-01-18', '2020-01-19',\n",
       "        '2020-01-20', '2020-01-21', '2020-01-22', '2020-01-23',\n",
       "        '2020-01-24', '2020-01-25', '2020-01-26'],\n",
       "       ['2020-01-16', '2020-01-17', '2020-01-18', '2020-01-19',\n",
       "        '2020-01-20', '2020-01-21', '2020-01-22', '2020-01-23',\n",
       "        '2020-01-24', '2020-01-25', '2020-01-26'],\n",
       "       ['2020-01-16', '2020-01-17', '2020-01-18', '2020-01-19',\n",
       "        '2020-01-20', '2020-01-21', '2020-01-22', '2020-01-23',\n",
       "        '2020-01-24', '2020-01-25', '2020-01-26']], dtype=object)"
      ]
     },
     "execution_count": 23,
     "metadata": {},
     "output_type": "execute_result"
    }
   ],
   "source": [
    "x_data"
   ]
  },
  {
   "cell_type": "code",
   "execution_count": 24,
   "metadata": {},
   "outputs": [
    {
     "data": {
      "text/plain": [
       "array([[-0.02, -0.02,  0.15,  0.18,  0.13,  0.11,  0.09,  0.06,  0.08,\n",
       "         0.19,  0.22],\n",
       "       [ 0.05, -0.01,  0.18, -0.06, -0.09,  0.07,  0.08,  0.12, -0.2 ,\n",
       "        -0.11,  0.03],\n",
       "       [-0.25,  0.12,  0.53, -0.02,  0.27,  0.35, -0.14,  0.15,  0.18,\n",
       "        -0.02, -0.04],\n",
       "       [ 0.2 ,  0.15,  0.14,  0.4 ,  0.24,  0.41,  0.33,  0.25,  0.2 ,\n",
       "         0.13,  0.23],\n",
       "       [ 0.07, -0.01, -0.13,  0.07, -0.07,  0.1 ,  0.16,  0.19,  0.1 ,\n",
       "         0.18,  0.25]])"
      ]
     },
     "execution_count": 24,
     "metadata": {},
     "output_type": "execute_result"
    }
   ],
   "source": [
    "y_data"
   ]
  },
  {
   "cell_type": "code",
   "execution_count": 30,
   "metadata": {},
   "outputs": [
    {
     "data": {
      "application/vnd.plotly.v1+json": {
       "config": {
        "plotlyServerURL": "https://plot.ly"
       },
       "data": [
        {
         "connectgaps": true,
         "line": {
          "color": "rgb(67,67,67)",
          "width": 3
         },
         "mode": "lines",
         "name": "Seat",
         "type": "scatter",
         "x": [
          "2020-01-16",
          "2020-01-17",
          "2020-01-18",
          "2020-01-19",
          "2020-01-20",
          "2020-01-21",
          "2020-01-22",
          "2020-01-23",
          "2020-01-24",
          "2020-01-25",
          "2020-01-26"
         ],
         "y": [
          -0.02,
          -0.02,
          0.15,
          0.18,
          0.13,
          0.11,
          0.09,
          0.06,
          0.08,
          0.19,
          0.22
         ]
        },
        {
         "marker": {
          "color": "rgb(67,67,67)",
          "size": 10
         },
         "mode": "markers",
         "type": "scatter",
         "x": [
          "2020-01-16",
          "2020-01-26"
         ],
         "y": [
          -0.02,
          0.22
         ]
        },
        {
         "connectgaps": true,
         "line": {
          "color": "rgb(115,115,115)",
          "width": 3
         },
         "mode": "lines",
         "name": "Staff Service",
         "type": "scatter",
         "x": [
          "2020-01-16",
          "2020-01-17",
          "2020-01-18",
          "2020-01-19",
          "2020-01-20",
          "2020-01-21",
          "2020-01-22",
          "2020-01-23",
          "2020-01-24",
          "2020-01-25",
          "2020-01-26"
         ],
         "y": [
          0.05,
          -0.01,
          0.18,
          -0.06,
          -0.09,
          0.07,
          0.08,
          0.12,
          -0.2,
          -0.11,
          0.03
         ]
        },
        {
         "marker": {
          "color": "rgb(115,115,115)",
          "size": 10
         },
         "mode": "markers",
         "type": "scatter",
         "x": [
          "2020-01-16",
          "2020-01-26"
         ],
         "y": [
          0.05,
          0.03
         ]
        },
        {
         "connectgaps": true,
         "line": {
          "color": "rgb(49,130,189)",
          "width": 3
         },
         "mode": "lines",
         "name": "Food & Beverage",
         "type": "scatter",
         "x": [
          "2020-01-16",
          "2020-01-17",
          "2020-01-18",
          "2020-01-19",
          "2020-01-20",
          "2020-01-21",
          "2020-01-22",
          "2020-01-23",
          "2020-01-24",
          "2020-01-25",
          "2020-01-26"
         ],
         "y": [
          -0.25,
          0.12,
          0.53,
          -0.02,
          0.27,
          0.35,
          -0.14,
          0.15,
          0.18,
          -0.02,
          -0.04
         ]
        },
        {
         "marker": {
          "color": "rgb(49,130,189)",
          "size": 10
         },
         "mode": "markers",
         "type": "scatter",
         "x": [
          "2020-01-16",
          "2020-01-26"
         ],
         "y": [
          -0.25,
          -0.04
         ]
        },
        {
         "connectgaps": true,
         "line": {
          "color": "rgb(189,189,189)",
          "width": 3
         },
         "mode": "lines",
         "name": "Inflight Entertainment",
         "type": "scatter",
         "x": [
          "2020-01-16",
          "2020-01-17",
          "2020-01-18",
          "2020-01-19",
          "2020-01-20",
          "2020-01-21",
          "2020-01-22",
          "2020-01-23",
          "2020-01-24",
          "2020-01-25",
          "2020-01-26"
         ],
         "y": [
          0.2,
          0.15,
          0.14,
          0.4,
          0.24,
          0.41,
          0.33,
          0.25,
          0.2,
          0.13,
          0.23
         ]
        },
        {
         "marker": {
          "color": "rgb(189,189,189)",
          "size": 10
         },
         "mode": "markers",
         "type": "scatter",
         "x": [
          "2020-01-16",
          "2020-01-26"
         ],
         "y": [
          0.2,
          0.23
         ]
        },
        {
         "connectgaps": true,
         "line": {
          "color": "rgb(40,140,140)",
          "width": 3
         },
         "mode": "lines",
         "name": "Ground Service",
         "type": "scatter",
         "x": [
          "2020-01-16",
          "2020-01-17",
          "2020-01-18",
          "2020-01-19",
          "2020-01-20",
          "2020-01-21",
          "2020-01-22",
          "2020-01-23",
          "2020-01-24",
          "2020-01-25",
          "2020-01-26"
         ],
         "y": [
          0.07,
          -0.01,
          -0.13,
          0.07,
          -0.07,
          0.1,
          0.16,
          0.19,
          0.1,
          0.18,
          0.25
         ]
        },
        {
         "marker": {
          "color": "rgb(40,140,140)",
          "size": 10
         },
         "mode": "markers",
         "type": "scatter",
         "x": [
          "2020-01-16",
          "2020-01-26"
         ],
         "y": [
          0.07,
          0.25
         ]
        }
       ],
       "layout": {
        "annotations": [
         {
          "font": {
           "family": "Arial",
           "size": 10
          },
          "showarrow": false,
          "text": "Seat -0.02%",
          "x": 0.05,
          "xanchor": "right",
          "xref": "paper",
          "y": -0.02,
          "yanchor": "middle"
         },
         {
          "font": {
           "family": "Arial",
           "size": 10
          },
          "showarrow": false,
          "text": "0.22%",
          "x": 0.95,
          "xanchor": "left",
          "xref": "paper",
          "y": 0.22,
          "yanchor": "middle"
         },
         {
          "font": {
           "family": "Arial",
           "size": 10
          },
          "showarrow": false,
          "text": "Staff Service 0.05%",
          "x": 0.05,
          "xanchor": "right",
          "xref": "paper",
          "y": 0.05,
          "yanchor": "middle"
         },
         {
          "font": {
           "family": "Arial",
           "size": 10
          },
          "showarrow": false,
          "text": "0.03%",
          "x": 0.95,
          "xanchor": "left",
          "xref": "paper",
          "y": 0.03,
          "yanchor": "middle"
         },
         {
          "font": {
           "family": "Arial",
           "size": 10
          },
          "showarrow": false,
          "text": "Food & Beverage -0.25%",
          "x": 0.05,
          "xanchor": "right",
          "xref": "paper",
          "y": -0.25,
          "yanchor": "middle"
         },
         {
          "font": {
           "family": "Arial",
           "size": 10
          },
          "showarrow": false,
          "text": "-0.04%",
          "x": 0.95,
          "xanchor": "left",
          "xref": "paper",
          "y": -0.04,
          "yanchor": "middle"
         },
         {
          "font": {
           "family": "Arial",
           "size": 10
          },
          "showarrow": false,
          "text": "Inflight Entertainment 0.2%",
          "x": 0.05,
          "xanchor": "right",
          "xref": "paper",
          "y": 0.2,
          "yanchor": "middle"
         },
         {
          "font": {
           "family": "Arial",
           "size": 10
          },
          "showarrow": false,
          "text": "0.23%",
          "x": 0.95,
          "xanchor": "left",
          "xref": "paper",
          "y": 0.23,
          "yanchor": "middle"
         },
         {
          "font": {
           "family": "Arial",
           "size": 10
          },
          "showarrow": false,
          "text": "Ground Service 0.07%",
          "x": 0.05,
          "xanchor": "right",
          "xref": "paper",
          "y": 0.07,
          "yanchor": "middle"
         },
         {
          "font": {
           "family": "Arial",
           "size": 10
          },
          "showarrow": false,
          "text": "0.25%",
          "x": 0.95,
          "xanchor": "left",
          "xref": "paper",
          "y": 0.25,
          "yanchor": "middle"
         },
         {
          "font": {
           "color": "rgb(37,37,37)",
           "family": "Arial",
           "size": 30
          },
          "showarrow": false,
          "text": "Social Media Sentiment over the last 7 days",
          "x": 0,
          "xanchor": "left",
          "xref": "paper",
          "y": 1.05,
          "yanchor": "bottom",
          "yref": "paper"
         },
         {
          "font": {
           "color": "rgb(150,150,150)",
           "family": "Arial",
           "size": 10
          },
          "showarrow": false,
          "text": "Source: Twitter",
          "x": 0.5,
          "xanchor": "center",
          "xref": "paper",
          "y": -0.1,
          "yanchor": "top",
          "yref": "paper"
         }
        ],
        "autosize": false,
        "height": 450,
        "margin": {
         "autoexpand": false,
         "l": 100,
         "r": 20,
         "t": 110
        },
        "plot_bgcolor": "white",
        "showlegend": false,
        "template": {
         "data": {
          "bar": [
           {
            "error_x": {
             "color": "#2a3f5f"
            },
            "error_y": {
             "color": "#2a3f5f"
            },
            "marker": {
             "line": {
              "color": "#E5ECF6",
              "width": 0.5
             }
            },
            "type": "bar"
           }
          ],
          "barpolar": [
           {
            "marker": {
             "line": {
              "color": "#E5ECF6",
              "width": 0.5
             }
            },
            "type": "barpolar"
           }
          ],
          "carpet": [
           {
            "aaxis": {
             "endlinecolor": "#2a3f5f",
             "gridcolor": "white",
             "linecolor": "white",
             "minorgridcolor": "white",
             "startlinecolor": "#2a3f5f"
            },
            "baxis": {
             "endlinecolor": "#2a3f5f",
             "gridcolor": "white",
             "linecolor": "white",
             "minorgridcolor": "white",
             "startlinecolor": "#2a3f5f"
            },
            "type": "carpet"
           }
          ],
          "choropleth": [
           {
            "colorbar": {
             "outlinewidth": 0,
             "ticks": ""
            },
            "type": "choropleth"
           }
          ],
          "contour": [
           {
            "colorbar": {
             "outlinewidth": 0,
             "ticks": ""
            },
            "colorscale": [
             [
              0,
              "#0d0887"
             ],
             [
              0.1111111111111111,
              "#46039f"
             ],
             [
              0.2222222222222222,
              "#7201a8"
             ],
             [
              0.3333333333333333,
              "#9c179e"
             ],
             [
              0.4444444444444444,
              "#bd3786"
             ],
             [
              0.5555555555555556,
              "#d8576b"
             ],
             [
              0.6666666666666666,
              "#ed7953"
             ],
             [
              0.7777777777777778,
              "#fb9f3a"
             ],
             [
              0.8888888888888888,
              "#fdca26"
             ],
             [
              1,
              "#f0f921"
             ]
            ],
            "type": "contour"
           }
          ],
          "contourcarpet": [
           {
            "colorbar": {
             "outlinewidth": 0,
             "ticks": ""
            },
            "type": "contourcarpet"
           }
          ],
          "heatmap": [
           {
            "colorbar": {
             "outlinewidth": 0,
             "ticks": ""
            },
            "colorscale": [
             [
              0,
              "#0d0887"
             ],
             [
              0.1111111111111111,
              "#46039f"
             ],
             [
              0.2222222222222222,
              "#7201a8"
             ],
             [
              0.3333333333333333,
              "#9c179e"
             ],
             [
              0.4444444444444444,
              "#bd3786"
             ],
             [
              0.5555555555555556,
              "#d8576b"
             ],
             [
              0.6666666666666666,
              "#ed7953"
             ],
             [
              0.7777777777777778,
              "#fb9f3a"
             ],
             [
              0.8888888888888888,
              "#fdca26"
             ],
             [
              1,
              "#f0f921"
             ]
            ],
            "type": "heatmap"
           }
          ],
          "heatmapgl": [
           {
            "colorbar": {
             "outlinewidth": 0,
             "ticks": ""
            },
            "colorscale": [
             [
              0,
              "#0d0887"
             ],
             [
              0.1111111111111111,
              "#46039f"
             ],
             [
              0.2222222222222222,
              "#7201a8"
             ],
             [
              0.3333333333333333,
              "#9c179e"
             ],
             [
              0.4444444444444444,
              "#bd3786"
             ],
             [
              0.5555555555555556,
              "#d8576b"
             ],
             [
              0.6666666666666666,
              "#ed7953"
             ],
             [
              0.7777777777777778,
              "#fb9f3a"
             ],
             [
              0.8888888888888888,
              "#fdca26"
             ],
             [
              1,
              "#f0f921"
             ]
            ],
            "type": "heatmapgl"
           }
          ],
          "histogram": [
           {
            "marker": {
             "colorbar": {
              "outlinewidth": 0,
              "ticks": ""
             }
            },
            "type": "histogram"
           }
          ],
          "histogram2d": [
           {
            "colorbar": {
             "outlinewidth": 0,
             "ticks": ""
            },
            "colorscale": [
             [
              0,
              "#0d0887"
             ],
             [
              0.1111111111111111,
              "#46039f"
             ],
             [
              0.2222222222222222,
              "#7201a8"
             ],
             [
              0.3333333333333333,
              "#9c179e"
             ],
             [
              0.4444444444444444,
              "#bd3786"
             ],
             [
              0.5555555555555556,
              "#d8576b"
             ],
             [
              0.6666666666666666,
              "#ed7953"
             ],
             [
              0.7777777777777778,
              "#fb9f3a"
             ],
             [
              0.8888888888888888,
              "#fdca26"
             ],
             [
              1,
              "#f0f921"
             ]
            ],
            "type": "histogram2d"
           }
          ],
          "histogram2dcontour": [
           {
            "colorbar": {
             "outlinewidth": 0,
             "ticks": ""
            },
            "colorscale": [
             [
              0,
              "#0d0887"
             ],
             [
              0.1111111111111111,
              "#46039f"
             ],
             [
              0.2222222222222222,
              "#7201a8"
             ],
             [
              0.3333333333333333,
              "#9c179e"
             ],
             [
              0.4444444444444444,
              "#bd3786"
             ],
             [
              0.5555555555555556,
              "#d8576b"
             ],
             [
              0.6666666666666666,
              "#ed7953"
             ],
             [
              0.7777777777777778,
              "#fb9f3a"
             ],
             [
              0.8888888888888888,
              "#fdca26"
             ],
             [
              1,
              "#f0f921"
             ]
            ],
            "type": "histogram2dcontour"
           }
          ],
          "mesh3d": [
           {
            "colorbar": {
             "outlinewidth": 0,
             "ticks": ""
            },
            "type": "mesh3d"
           }
          ],
          "parcoords": [
           {
            "line": {
             "colorbar": {
              "outlinewidth": 0,
              "ticks": ""
             }
            },
            "type": "parcoords"
           }
          ],
          "pie": [
           {
            "automargin": true,
            "type": "pie"
           }
          ],
          "scatter": [
           {
            "marker": {
             "colorbar": {
              "outlinewidth": 0,
              "ticks": ""
             }
            },
            "type": "scatter"
           }
          ],
          "scatter3d": [
           {
            "line": {
             "colorbar": {
              "outlinewidth": 0,
              "ticks": ""
             }
            },
            "marker": {
             "colorbar": {
              "outlinewidth": 0,
              "ticks": ""
             }
            },
            "type": "scatter3d"
           }
          ],
          "scattercarpet": [
           {
            "marker": {
             "colorbar": {
              "outlinewidth": 0,
              "ticks": ""
             }
            },
            "type": "scattercarpet"
           }
          ],
          "scattergeo": [
           {
            "marker": {
             "colorbar": {
              "outlinewidth": 0,
              "ticks": ""
             }
            },
            "type": "scattergeo"
           }
          ],
          "scattergl": [
           {
            "marker": {
             "colorbar": {
              "outlinewidth": 0,
              "ticks": ""
             }
            },
            "type": "scattergl"
           }
          ],
          "scattermapbox": [
           {
            "marker": {
             "colorbar": {
              "outlinewidth": 0,
              "ticks": ""
             }
            },
            "type": "scattermapbox"
           }
          ],
          "scatterpolar": [
           {
            "marker": {
             "colorbar": {
              "outlinewidth": 0,
              "ticks": ""
             }
            },
            "type": "scatterpolar"
           }
          ],
          "scatterpolargl": [
           {
            "marker": {
             "colorbar": {
              "outlinewidth": 0,
              "ticks": ""
             }
            },
            "type": "scatterpolargl"
           }
          ],
          "scatterternary": [
           {
            "marker": {
             "colorbar": {
              "outlinewidth": 0,
              "ticks": ""
             }
            },
            "type": "scatterternary"
           }
          ],
          "surface": [
           {
            "colorbar": {
             "outlinewidth": 0,
             "ticks": ""
            },
            "colorscale": [
             [
              0,
              "#0d0887"
             ],
             [
              0.1111111111111111,
              "#46039f"
             ],
             [
              0.2222222222222222,
              "#7201a8"
             ],
             [
              0.3333333333333333,
              "#9c179e"
             ],
             [
              0.4444444444444444,
              "#bd3786"
             ],
             [
              0.5555555555555556,
              "#d8576b"
             ],
             [
              0.6666666666666666,
              "#ed7953"
             ],
             [
              0.7777777777777778,
              "#fb9f3a"
             ],
             [
              0.8888888888888888,
              "#fdca26"
             ],
             [
              1,
              "#f0f921"
             ]
            ],
            "type": "surface"
           }
          ],
          "table": [
           {
            "cells": {
             "fill": {
              "color": "#EBF0F8"
             },
             "line": {
              "color": "white"
             }
            },
            "header": {
             "fill": {
              "color": "#C8D4E3"
             },
             "line": {
              "color": "white"
             }
            },
            "type": "table"
           }
          ]
         },
         "layout": {
          "annotationdefaults": {
           "arrowcolor": "#2a3f5f",
           "arrowhead": 0,
           "arrowwidth": 1
          },
          "coloraxis": {
           "colorbar": {
            "outlinewidth": 0,
            "ticks": ""
           }
          },
          "colorscale": {
           "diverging": [
            [
             0,
             "#8e0152"
            ],
            [
             0.1,
             "#c51b7d"
            ],
            [
             0.2,
             "#de77ae"
            ],
            [
             0.3,
             "#f1b6da"
            ],
            [
             0.4,
             "#fde0ef"
            ],
            [
             0.5,
             "#f7f7f7"
            ],
            [
             0.6,
             "#e6f5d0"
            ],
            [
             0.7,
             "#b8e186"
            ],
            [
             0.8,
             "#7fbc41"
            ],
            [
             0.9,
             "#4d9221"
            ],
            [
             1,
             "#276419"
            ]
           ],
           "sequential": [
            [
             0,
             "#0d0887"
            ],
            [
             0.1111111111111111,
             "#46039f"
            ],
            [
             0.2222222222222222,
             "#7201a8"
            ],
            [
             0.3333333333333333,
             "#9c179e"
            ],
            [
             0.4444444444444444,
             "#bd3786"
            ],
            [
             0.5555555555555556,
             "#d8576b"
            ],
            [
             0.6666666666666666,
             "#ed7953"
            ],
            [
             0.7777777777777778,
             "#fb9f3a"
            ],
            [
             0.8888888888888888,
             "#fdca26"
            ],
            [
             1,
             "#f0f921"
            ]
           ],
           "sequentialminus": [
            [
             0,
             "#0d0887"
            ],
            [
             0.1111111111111111,
             "#46039f"
            ],
            [
             0.2222222222222222,
             "#7201a8"
            ],
            [
             0.3333333333333333,
             "#9c179e"
            ],
            [
             0.4444444444444444,
             "#bd3786"
            ],
            [
             0.5555555555555556,
             "#d8576b"
            ],
            [
             0.6666666666666666,
             "#ed7953"
            ],
            [
             0.7777777777777778,
             "#fb9f3a"
            ],
            [
             0.8888888888888888,
             "#fdca26"
            ],
            [
             1,
             "#f0f921"
            ]
           ]
          },
          "colorway": [
           "#636efa",
           "#EF553B",
           "#00cc96",
           "#ab63fa",
           "#FFA15A",
           "#19d3f3",
           "#FF6692",
           "#B6E880",
           "#FF97FF",
           "#FECB52"
          ],
          "font": {
           "color": "#2a3f5f"
          },
          "geo": {
           "bgcolor": "white",
           "lakecolor": "white",
           "landcolor": "#E5ECF6",
           "showlakes": true,
           "showland": true,
           "subunitcolor": "white"
          },
          "hoverlabel": {
           "align": "left"
          },
          "hovermode": "closest",
          "mapbox": {
           "style": "light"
          },
          "paper_bgcolor": "white",
          "plot_bgcolor": "#E5ECF6",
          "polar": {
           "angularaxis": {
            "gridcolor": "white",
            "linecolor": "white",
            "ticks": ""
           },
           "bgcolor": "#E5ECF6",
           "radialaxis": {
            "gridcolor": "white",
            "linecolor": "white",
            "ticks": ""
           }
          },
          "scene": {
           "xaxis": {
            "backgroundcolor": "#E5ECF6",
            "gridcolor": "white",
            "gridwidth": 2,
            "linecolor": "white",
            "showbackground": true,
            "ticks": "",
            "zerolinecolor": "white"
           },
           "yaxis": {
            "backgroundcolor": "#E5ECF6",
            "gridcolor": "white",
            "gridwidth": 2,
            "linecolor": "white",
            "showbackground": true,
            "ticks": "",
            "zerolinecolor": "white"
           },
           "zaxis": {
            "backgroundcolor": "#E5ECF6",
            "gridcolor": "white",
            "gridwidth": 2,
            "linecolor": "white",
            "showbackground": true,
            "ticks": "",
            "zerolinecolor": "white"
           }
          },
          "shapedefaults": {
           "line": {
            "color": "#2a3f5f"
           }
          },
          "ternary": {
           "aaxis": {
            "gridcolor": "white",
            "linecolor": "white",
            "ticks": ""
           },
           "baxis": {
            "gridcolor": "white",
            "linecolor": "white",
            "ticks": ""
           },
           "bgcolor": "#E5ECF6",
           "caxis": {
            "gridcolor": "white",
            "linecolor": "white",
            "ticks": ""
           }
          },
          "title": {
           "x": 0.05
          },
          "xaxis": {
           "automargin": true,
           "gridcolor": "white",
           "linecolor": "white",
           "ticks": "",
           "title": {
            "standoff": 15
           },
           "zerolinecolor": "white",
           "zerolinewidth": 2
          },
          "yaxis": {
           "automargin": true,
           "gridcolor": "white",
           "linecolor": "white",
           "ticks": "",
           "title": {
            "standoff": 15
           },
           "zerolinecolor": "white",
           "zerolinewidth": 2
          }
         }
        },
        "width": 700,
        "xaxis": {
         "autorange": true,
         "linecolor": "rgb(204, 204, 204)",
         "linewidth": 2,
         "range": [
          "2020-01-15 07:23:43.7488",
          "2020-01-26 16:36:16.2512"
         ],
         "showgrid": false,
         "showline": true,
         "showticklabels": true,
         "tickfont": {
          "color": "rgb(82, 82, 82)",
          "family": "Arial",
          "size": 12
         },
         "ticks": "outside",
         "type": "date"
        },
        "yaxis": {
         "autorange": true,
         "range": [
          -0.31592755214050494,
          0.5745225027442371
         ],
         "showgrid": false,
         "showline": false,
         "showticklabels": false,
         "type": "linear",
         "zeroline": false
        }
       }
      },
      "image/png": "[encoded data removed]",
      "text/html": [
       "<div>\n",
       "        \n",
       "        \n",
       "            <div id=\"c946f215-2ae5-4d38-9556-69e934b9d529\" class=\"plotly-graph-div\" style=\"height:525px; width:100%;\"></div>\n",
       "            <script type=\"text/javascript\">\n",
       "                require([\"plotly\"], function(Plotly) {\n",
       "                    window.PLOTLYENV=window.PLOTLYENV || {};\n",
       "                    \n",
       "                if (document.getElementById(\"c946f215-2ae5-4d38-9556-69e934b9d529\")) {\n",
       "                    Plotly.newPlot(\n",
       "                        'c946f215-2ae5-4d38-9556-69e934b9d529',\n",
       "                        [{\"connectgaps\": true, \"line\": {\"color\": \"rgb(67,67,67)\", \"width\": 3}, \"mode\": \"lines\", \"name\": \"Seat\", \"type\": \"scatter\", \"x\": [\"2020-01-16\", \"2020-01-17\", \"2020-01-18\", \"2020-01-19\", \"2020-01-20\", \"2020-01-21\", \"2020-01-22\", \"2020-01-23\", \"2020-01-24\", \"2020-01-25\", \"2020-01-26\"], \"y\": [-0.02, -0.02, 0.15, 0.18, 0.13, 0.11, 0.09, 0.06, 0.08, 0.19, 0.22]}, {\"marker\": {\"color\": \"rgb(67,67,67)\", \"size\": 10}, \"mode\": \"markers\", \"type\": \"scatter\", \"x\": [\"2020-01-16\", \"2020-01-26\"], \"y\": [-0.02, 0.22]}, {\"connectgaps\": true, \"line\": {\"color\": \"rgb(115,115,115)\", \"width\": 3}, \"mode\": \"lines\", \"name\": \"Staff Service\", \"type\": \"scatter\", \"x\": [\"2020-01-16\", \"2020-01-17\", \"2020-01-18\", \"2020-01-19\", \"2020-01-20\", \"2020-01-21\", \"2020-01-22\", \"2020-01-23\", \"2020-01-24\", \"2020-01-25\", \"2020-01-26\"], \"y\": [0.05, -0.01, 0.18, -0.06, -0.09, 0.07, 0.08, 0.12, -0.2, -0.11, 0.03]}, {\"marker\": {\"color\": \"rgb(115,115,115)\", \"size\": 10}, \"mode\": \"markers\", \"type\": \"scatter\", \"x\": [\"2020-01-16\", \"2020-01-26\"], \"y\": [0.05, 0.03]}, {\"connectgaps\": true, \"line\": {\"color\": \"rgb(49,130,189)\", \"width\": 3}, \"mode\": \"lines\", \"name\": \"Food & Beverage\", \"type\": \"scatter\", \"x\": [\"2020-01-16\", \"2020-01-17\", \"2020-01-18\", \"2020-01-19\", \"2020-01-20\", \"2020-01-21\", \"2020-01-22\", \"2020-01-23\", \"2020-01-24\", \"2020-01-25\", \"2020-01-26\"], \"y\": [-0.25, 0.12, 0.53, -0.02, 0.27, 0.35, -0.14, 0.15, 0.18, -0.02, -0.04]}, {\"marker\": {\"color\": \"rgb(49,130,189)\", \"size\": 10}, \"mode\": \"markers\", \"type\": \"scatter\", \"x\": [\"2020-01-16\", \"2020-01-26\"], \"y\": [-0.25, -0.04]}, {\"connectgaps\": true, \"line\": {\"color\": \"rgb(189,189,189)\", \"width\": 3}, \"mode\": \"lines\", \"name\": \"Inflight Entertainment\", \"type\": \"scatter\", \"x\": [\"2020-01-16\", \"2020-01-17\", \"2020-01-18\", \"2020-01-19\", \"2020-01-20\", \"2020-01-21\", \"2020-01-22\", \"2020-01-23\", \"2020-01-24\", \"2020-01-25\", \"2020-01-26\"], \"y\": [0.2, 0.15, 0.14, 0.4, 0.24, 0.41, 0.33, 0.25, 0.2, 0.13, 0.23]}, {\"marker\": {\"color\": \"rgb(189,189,189)\", \"size\": 10}, \"mode\": \"markers\", \"type\": \"scatter\", \"x\": [\"2020-01-16\", \"2020-01-26\"], \"y\": [0.2, 0.23]}, {\"connectgaps\": true, \"line\": {\"color\": \"rgb(40,140,140)\", \"width\": 3}, \"mode\": \"lines\", \"name\": \"Ground Service\", \"type\": \"scatter\", \"x\": [\"2020-01-16\", \"2020-01-17\", \"2020-01-18\", \"2020-01-19\", \"2020-01-20\", \"2020-01-21\", \"2020-01-22\", \"2020-01-23\", \"2020-01-24\", \"2020-01-25\", \"2020-01-26\"], \"y\": [0.07, -0.01, -0.13, 0.07, -0.07, 0.1, 0.16, 0.19, 0.1, 0.18, 0.25]}, {\"marker\": {\"color\": \"rgb(40,140,140)\", \"size\": 10}, \"mode\": \"markers\", \"type\": \"scatter\", \"x\": [\"2020-01-16\", \"2020-01-26\"], \"y\": [0.07, 0.25]}],\n",
       "                        {\"annotations\": [{\"font\": {\"family\": \"Arial\", \"size\": 10}, \"showarrow\": false, \"text\": \"Seat -0.02%\", \"x\": 0.05, \"xanchor\": \"right\", \"xref\": \"paper\", \"y\": -0.02, \"yanchor\": \"middle\"}, {\"font\": {\"family\": \"Arial\", \"size\": 10}, \"showarrow\": false, \"text\": \"0.22%\", \"x\": 0.95, \"xanchor\": \"left\", \"xref\": \"paper\", \"y\": 0.22, \"yanchor\": \"middle\"}, {\"font\": {\"family\": \"Arial\", \"size\": 10}, \"showarrow\": false, \"text\": \"Staff Service 0.05%\", \"x\": 0.05, \"xanchor\": \"right\", \"xref\": \"paper\", \"y\": 0.05, \"yanchor\": \"middle\"}, {\"font\": {\"family\": \"Arial\", \"size\": 10}, \"showarrow\": false, \"text\": \"0.03%\", \"x\": 0.95, \"xanchor\": \"left\", \"xref\": \"paper\", \"y\": 0.03, \"yanchor\": \"middle\"}, {\"font\": {\"family\": \"Arial\", \"size\": 10}, \"showarrow\": false, \"text\": \"Food & Beverage -0.25%\", \"x\": 0.05, \"xanchor\": \"right\", \"xref\": \"paper\", \"y\": -0.25, \"yanchor\": \"middle\"}, {\"font\": {\"family\": \"Arial\", \"size\": 10}, \"showarrow\": false, \"text\": \"-0.04%\", \"x\": 0.95, \"xanchor\": \"left\", \"xref\": \"paper\", \"y\": -0.04, \"yanchor\": \"middle\"}, {\"font\": {\"family\": \"Arial\", \"size\": 10}, \"showarrow\": false, \"text\": \"Inflight Entertainment 0.2%\", \"x\": 0.05, \"xanchor\": \"right\", \"xref\": \"paper\", \"y\": 0.2, \"yanchor\": \"middle\"}, {\"font\": {\"family\": \"Arial\", \"size\": 10}, \"showarrow\": false, \"text\": \"0.23%\", \"x\": 0.95, \"xanchor\": \"left\", \"xref\": \"paper\", \"y\": 0.23, \"yanchor\": \"middle\"}, {\"font\": {\"family\": \"Arial\", \"size\": 10}, \"showarrow\": false, \"text\": \"Ground Service 0.07%\", \"x\": 0.05, \"xanchor\": \"right\", \"xref\": \"paper\", \"y\": 0.07, \"yanchor\": \"middle\"}, {\"font\": {\"family\": \"Arial\", \"size\": 10}, \"showarrow\": false, \"text\": \"0.25%\", \"x\": 0.95, \"xanchor\": \"left\", \"xref\": \"paper\", \"y\": 0.25, \"yanchor\": \"middle\"}, {\"font\": {\"color\": \"rgb(37,37,37)\", \"family\": \"Arial\", \"size\": 30}, \"showarrow\": false, \"text\": \"Social Media Sentiment over the last 7 days\", \"x\": 0.0, \"xanchor\": \"left\", \"xref\": \"paper\", \"y\": 1.05, \"yanchor\": \"bottom\", \"yref\": \"paper\"}, {\"font\": {\"color\": \"rgb(150,150,150)\", \"family\": \"Arial\", \"size\": 10}, \"showarrow\": false, \"text\": \"Source: Twitter\", \"x\": 0.5, \"xanchor\": \"center\", \"xref\": \"paper\", \"y\": -0.1, \"yanchor\": \"top\", \"yref\": \"paper\"}], \"autosize\": false, \"margin\": {\"autoexpand\": false, \"l\": 100, \"r\": 20, \"t\": 110}, \"plot_bgcolor\": \"white\", \"showlegend\": false, \"template\": {\"data\": {\"bar\": [{\"error_x\": {\"color\": \"#2a3f5f\"}, \"error_y\": {\"color\": \"#2a3f5f\"}, \"marker\": {\"line\": {\"color\": \"#E5ECF6\", \"width\": 0.5}}, \"type\": \"bar\"}], \"barpolar\": [{\"marker\": {\"line\": {\"color\": \"#E5ECF6\", \"width\": 0.5}}, \"type\": \"barpolar\"}], \"carpet\": [{\"aaxis\": {\"endlinecolor\": \"#2a3f5f\", \"gridcolor\": \"white\", \"linecolor\": \"white\", \"minorgridcolor\": \"white\", \"startlinecolor\": \"#2a3f5f\"}, \"baxis\": {\"endlinecolor\": \"#2a3f5f\", \"gridcolor\": \"white\", \"linecolor\": \"white\", \"minorgridcolor\": \"white\", \"startlinecolor\": \"#2a3f5f\"}, \"type\": \"carpet\"}], \"choropleth\": [{\"colorbar\": {\"outlinewidth\": 0, \"ticks\": \"\"}, \"type\": \"choropleth\"}], \"contour\": [{\"colorbar\": {\"outlinewidth\": 0, \"ticks\": \"\"}, \"colorscale\": [[0.0, \"#0d0887\"], [0.1111111111111111, \"#46039f\"], [0.2222222222222222, \"#7201a8\"], [0.3333333333333333, \"#9c179e\"], [0.4444444444444444, \"#bd3786\"], [0.5555555555555556, \"#d8576b\"], [0.6666666666666666, \"#ed7953\"], [0.7777777777777778, \"#fb9f3a\"], [0.8888888888888888, \"#fdca26\"], [1.0, \"#f0f921\"]], \"type\": \"contour\"}], \"contourcarpet\": [{\"colorbar\": {\"outlinewidth\": 0, \"ticks\": \"\"}, \"type\": \"contourcarpet\"}], \"heatmap\": [{\"colorbar\": {\"outlinewidth\": 0, \"ticks\": \"\"}, \"colorscale\": [[0.0, \"#0d0887\"], [0.1111111111111111, \"#46039f\"], [0.2222222222222222, \"#7201a8\"], [0.3333333333333333, \"#9c179e\"], [0.4444444444444444, \"#bd3786\"], [0.5555555555555556, \"#d8576b\"], [0.6666666666666666, \"#ed7953\"], [0.7777777777777778, \"#fb9f3a\"], [0.8888888888888888, \"#fdca26\"], [1.0, \"#f0f921\"]], \"type\": \"heatmap\"}], \"heatmapgl\": [{\"colorbar\": {\"outlinewidth\": 0, \"ticks\": \"\"}, \"colorscale\": [[0.0, \"#0d0887\"], [0.1111111111111111, \"#46039f\"], [0.2222222222222222, \"#7201a8\"], [0.3333333333333333, \"#9c179e\"], [0.4444444444444444, \"#bd3786\"], [0.5555555555555556, \"#d8576b\"], [0.6666666666666666, \"#ed7953\"], [0.7777777777777778, \"#fb9f3a\"], [0.8888888888888888, \"#fdca26\"], [1.0, \"#f0f921\"]], \"type\": \"heatmapgl\"}], \"histogram\": [{\"marker\": {\"colorbar\": {\"outlinewidth\": 0, \"ticks\": \"\"}}, \"type\": \"histogram\"}], \"histogram2d\": [{\"colorbar\": {\"outlinewidth\": 0, \"ticks\": \"\"}, \"colorscale\": [[0.0, \"#0d0887\"], [0.1111111111111111, \"#46039f\"], [0.2222222222222222, \"#7201a8\"], [0.3333333333333333, \"#9c179e\"], [0.4444444444444444, \"#bd3786\"], [0.5555555555555556, \"#d8576b\"], [0.6666666666666666, \"#ed7953\"], [0.7777777777777778, \"#fb9f3a\"], [0.8888888888888888, \"#fdca26\"], [1.0, \"#f0f921\"]], \"type\": \"histogram2d\"}], \"histogram2dcontour\": [{\"colorbar\": {\"outlinewidth\": 0, \"ticks\": \"\"}, \"colorscale\": [[0.0, \"#0d0887\"], [0.1111111111111111, \"#46039f\"], [0.2222222222222222, \"#7201a8\"], [0.3333333333333333, \"#9c179e\"], [0.4444444444444444, \"#bd3786\"], [0.5555555555555556, \"#d8576b\"], [0.6666666666666666, \"#ed7953\"], [0.7777777777777778, \"#fb9f3a\"], [0.8888888888888888, \"#fdca26\"], [1.0, \"#f0f921\"]], \"type\": \"histogram2dcontour\"}], \"mesh3d\": [{\"colorbar\": {\"outlinewidth\": 0, \"ticks\": \"\"}, \"type\": \"mesh3d\"}], \"parcoords\": [{\"line\": {\"colorbar\": {\"outlinewidth\": 0, \"ticks\": \"\"}}, \"type\": \"parcoords\"}], \"pie\": [{\"automargin\": true, \"type\": \"pie\"}], \"scatter\": [{\"marker\": {\"colorbar\": {\"outlinewidth\": 0, \"ticks\": \"\"}}, \"type\": \"scatter\"}], \"scatter3d\": [{\"line\": {\"colorbar\": {\"outlinewidth\": 0, \"ticks\": \"\"}}, \"marker\": {\"colorbar\": {\"outlinewidth\": 0, \"ticks\": \"\"}}, \"type\": \"scatter3d\"}], \"scattercarpet\": [{\"marker\": {\"colorbar\": {\"outlinewidth\": 0, \"ticks\": \"\"}}, \"type\": \"scattercarpet\"}], \"scattergeo\": [{\"marker\": {\"colorbar\": {\"outlinewidth\": 0, \"ticks\": \"\"}}, \"type\": \"scattergeo\"}], \"scattergl\": [{\"marker\": {\"colorbar\": {\"outlinewidth\": 0, \"ticks\": \"\"}}, \"type\": \"scattergl\"}], \"scattermapbox\": [{\"marker\": {\"colorbar\": {\"outlinewidth\": 0, \"ticks\": \"\"}}, \"type\": \"scattermapbox\"}], \"scatterpolar\": [{\"marker\": {\"colorbar\": {\"outlinewidth\": 0, \"ticks\": \"\"}}, \"type\": \"scatterpolar\"}], \"scatterpolargl\": [{\"marker\": {\"colorbar\": {\"outlinewidth\": 0, \"ticks\": \"\"}}, \"type\": \"scatterpolargl\"}], \"scatterternary\": [{\"marker\": {\"colorbar\": {\"outlinewidth\": 0, \"ticks\": \"\"}}, \"type\": \"scatterternary\"}], \"surface\": [{\"colorbar\": {\"outlinewidth\": 0, \"ticks\": \"\"}, \"colorscale\": [[0.0, \"#0d0887\"], [0.1111111111111111, \"#46039f\"], [0.2222222222222222, \"#7201a8\"], [0.3333333333333333, \"#9c179e\"], [0.4444444444444444, \"#bd3786\"], [0.5555555555555556, \"#d8576b\"], [0.6666666666666666, \"#ed7953\"], [0.7777777777777778, \"#fb9f3a\"], [0.8888888888888888, \"#fdca26\"], [1.0, \"#f0f921\"]], \"type\": \"surface\"}], \"table\": [{\"cells\": {\"fill\": {\"color\": \"#EBF0F8\"}, \"line\": {\"color\": \"white\"}}, \"header\": {\"fill\": {\"color\": \"#C8D4E3\"}, \"line\": {\"color\": \"white\"}}, \"type\": \"table\"}]}, \"layout\": {\"annotationdefaults\": {\"arrowcolor\": \"#2a3f5f\", \"arrowhead\": 0, \"arrowwidth\": 1}, \"coloraxis\": {\"colorbar\": {\"outlinewidth\": 0, \"ticks\": \"\"}}, \"colorscale\": {\"diverging\": [[0, \"#8e0152\"], [0.1, \"#c51b7d\"], [0.2, \"#de77ae\"], [0.3, \"#f1b6da\"], [0.4, \"#fde0ef\"], [0.5, \"#f7f7f7\"], [0.6, \"#e6f5d0\"], [0.7, \"#b8e186\"], [0.8, \"#7fbc41\"], [0.9, \"#4d9221\"], [1, \"#276419\"]], \"sequential\": [[0.0, \"#0d0887\"], [0.1111111111111111, \"#46039f\"], [0.2222222222222222, \"#7201a8\"], [0.3333333333333333, \"#9c179e\"], [0.4444444444444444, \"#bd3786\"], [0.5555555555555556, \"#d8576b\"], [0.6666666666666666, \"#ed7953\"], [0.7777777777777778, \"#fb9f3a\"], [0.8888888888888888, \"#fdca26\"], [1.0, \"#f0f921\"]], \"sequentialminus\": [[0.0, \"#0d0887\"], [0.1111111111111111, \"#46039f\"], [0.2222222222222222, \"#7201a8\"], [0.3333333333333333, \"#9c179e\"], [0.4444444444444444, \"#bd3786\"], [0.5555555555555556, \"#d8576b\"], [0.6666666666666666, \"#ed7953\"], [0.7777777777777778, \"#fb9f3a\"], [0.8888888888888888, \"#fdca26\"], [1.0, \"#f0f921\"]]}, \"colorway\": [\"#636efa\", \"#EF553B\", \"#00cc96\", \"#ab63fa\", \"#FFA15A\", \"#19d3f3\", \"#FF6692\", \"#B6E880\", \"#FF97FF\", \"#FECB52\"], \"font\": {\"color\": \"#2a3f5f\"}, \"geo\": {\"bgcolor\": \"white\", \"lakecolor\": \"white\", \"landcolor\": \"#E5ECF6\", \"showlakes\": true, \"showland\": true, \"subunitcolor\": \"white\"}, \"hoverlabel\": {\"align\": \"left\"}, \"hovermode\": \"closest\", \"mapbox\": {\"style\": \"light\"}, \"paper_bgcolor\": \"white\", \"plot_bgcolor\": \"#E5ECF6\", \"polar\": {\"angularaxis\": {\"gridcolor\": \"white\", \"linecolor\": \"white\", \"ticks\": \"\"}, \"bgcolor\": \"#E5ECF6\", \"radialaxis\": {\"gridcolor\": \"white\", \"linecolor\": \"white\", \"ticks\": \"\"}}, \"scene\": {\"xaxis\": {\"backgroundcolor\": \"#E5ECF6\", \"gridcolor\": \"white\", \"gridwidth\": 2, \"linecolor\": \"white\", \"showbackground\": true, \"ticks\": \"\", \"zerolinecolor\": \"white\"}, \"yaxis\": {\"backgroundcolor\": \"#E5ECF6\", \"gridcolor\": \"white\", \"gridwidth\": 2, \"linecolor\": \"white\", \"showbackground\": true, \"ticks\": \"\", \"zerolinecolor\": \"white\"}, \"zaxis\": {\"backgroundcolor\": \"#E5ECF6\", \"gridcolor\": \"white\", \"gridwidth\": 2, \"linecolor\": \"white\", \"showbackground\": true, \"ticks\": \"\", \"zerolinecolor\": \"white\"}}, \"shapedefaults\": {\"line\": {\"color\": \"#2a3f5f\"}}, \"ternary\": {\"aaxis\": {\"gridcolor\": \"white\", \"linecolor\": \"white\", \"ticks\": \"\"}, \"baxis\": {\"gridcolor\": \"white\", \"linecolor\": \"white\", \"ticks\": \"\"}, \"bgcolor\": \"#E5ECF6\", \"caxis\": {\"gridcolor\": \"white\", \"linecolor\": \"white\", \"ticks\": \"\"}}, \"title\": {\"x\": 0.05}, \"xaxis\": {\"automargin\": true, \"gridcolor\": \"white\", \"linecolor\": \"white\", \"ticks\": \"\", \"title\": {\"standoff\": 15}, \"zerolinecolor\": \"white\", \"zerolinewidth\": 2}, \"yaxis\": {\"automargin\": true, \"gridcolor\": \"white\", \"linecolor\": \"white\", \"ticks\": \"\", \"title\": {\"standoff\": 15}, \"zerolinecolor\": \"white\", \"zerolinewidth\": 2}}}, \"xaxis\": {\"linecolor\": \"rgb(204, 204, 204)\", \"linewidth\": 2, \"showgrid\": false, \"showline\": true, \"showticklabels\": true, \"tickfont\": {\"color\": \"rgb(82, 82, 82)\", \"family\": \"Arial\", \"size\": 12}, \"ticks\": \"outside\"}, \"yaxis\": {\"showgrid\": false, \"showline\": false, \"showticklabels\": false, \"zeroline\": false}},\n",
       "                        {\"responsive\": true}\n",
       "                    ).then(function(){\n",
       "                            \n",
       "var gd = document.getElementById('c946f215-2ae5-4d38-9556-69e934b9d529');\n",
       "var x = new MutationObserver(function (mutations, observer) {{\n",
       "        var display = window.getComputedStyle(gd).display;\n",
       "        if (!display || display === 'none') {{\n",
       "            console.log([gd, 'removed!']);\n",
       "            Plotly.purge(gd);\n",
       "            observer.disconnect();\n",
       "        }}\n",
       "}});\n",
       "\n",
       "// Listen for the removal of the full notebook cells\n",
       "var notebookContainer = gd.closest('#notebook-container');\n",
       "if (notebookContainer) {{\n",
       "    x.observe(notebookContainer, {childList: true});\n",
       "}}\n",
       "\n",
       "// Listen for the clearing of the current output cell\n",
       "var outputEl = gd.closest('.output');\n",
       "if (outputEl) {{\n",
       "    x.observe(outputEl, {childList: true});\n",
       "}}\n",
       "\n",
       "                        })\n",
       "                };\n",
       "                });\n",
       "            </script>\n",
       "        </div>"
      ]
     },
     "metadata": {},
     "output_type": "display_data"
    }
   ],
   "source": [
    "import plotly.offline as pyo\n",
    "import plotly.graph_objects as go\n",
    "\n",
    "title = 'Main Source for News'\n",
    "labels = ['Seat', 'Staff Service', 'Food & Beverage', 'Inflight Entertainment','Ground Service']\n",
    "colors = ['rgb(67,67,67)', 'rgb(115,115,115)', 'rgb(49,130,189)', 'rgb(189,189,189)','rgb(40,140,140)']\n",
    "\n",
    "mode_size = [10, 10, 10, 10, 10]\n",
    "line_size = [3, 3, 3, 3, 3]\n",
    "\n",
    "x_data = np.array([df_new['day']]*5)\n",
    "\n",
    "y_data = np.array([df_new['seat'],\n",
    "                   df_new['staff_service'],\n",
    "                   df_new['foodbeverage'],\n",
    "                   df_new['inflightent'],\n",
    "                   df_new['gserv']])\n",
    "\n",
    "fig = go.Figure()\n",
    "\n",
    "for i in range(0,5):\n",
    "    fig.add_trace(go.Scatter(x=x_data[i], y=y_data[i], mode='lines',\n",
    "        name=labels[i],\n",
    "        line=dict(color=colors[i], width=line_size[i]),\n",
    "        connectgaps=True,\n",
    "    ))\n",
    "\n",
    "    # endpoints\n",
    "    fig.add_trace(go.Scatter(\n",
    "        x=[x_data[i][0], x_data[i][-1]],\n",
    "        y=[y_data[i][0], y_data[i][-1]],\n",
    "        mode='markers',\n",
    "        marker=dict(color=colors[i], size=mode_size[i])\n",
    "    ))\n",
    "\n",
    "fig.update_layout(\n",
    "    xaxis=dict(\n",
    "        showline=True,\n",
    "        showgrid=False,\n",
    "        showticklabels=True,\n",
    "        linecolor='rgb(204, 204, 204)',\n",
    "        linewidth=2,\n",
    "        ticks='outside',\n",
    "        tickfont=dict(\n",
    "            family='Arial',\n",
    "            size=12,\n",
    "            color='rgb(82, 82, 82)',\n",
    "        ),\n",
    "    ),\n",
    "    yaxis=dict(\n",
    "        showgrid=False,\n",
    "        zeroline=False,\n",
    "        showline=False,\n",
    "        showticklabels=False,\n",
    "    ),\n",
    "    autosize=False,\n",
    "    margin=dict(\n",
    "        autoexpand=False,\n",
    "        l=100,\n",
    "        r=20,\n",
    "        t=110,\n",
    "    ),\n",
    "    showlegend=False,\n",
    "    plot_bgcolor='white'\n",
    ")\n",
    "\n",
    "annotations = []\n",
    "\n",
    "# Adding labels\n",
    "for y_trace, label, color in zip(y_data, labels, colors):\n",
    "    # labeling the left_side of the plot\n",
    "    annotations.append(dict(xref='paper', x=0.05, y=y_trace[0],\n",
    "                                  xanchor='right', yanchor='middle',\n",
    "                                  text=label + ' {}%'.format(y_trace[0]),\n",
    "                                  font=dict(family='Arial',\n",
    "                                            size=10),\n",
    "                                  showarrow=False))\n",
    "    # labeling the right_side of the plot\n",
    "    annotations.append(dict(xref='paper', x=0.95, y=y_trace[10],\n",
    "                                  xanchor='left', yanchor='middle',\n",
    "                                  text='{}%'.format(y_trace[10]),\n",
    "                                  font=dict(family='Arial',\n",
    "                                            size=10),\n",
    "                                  showarrow=False))\n",
    "# Title\n",
    "annotations.append(dict(xref='paper', yref='paper', x=0.0, y=1.05,\n",
    "                              xanchor='left', yanchor='bottom',\n",
    "                              text='Social Media Sentiment over the last 7 days',\n",
    "                              font=dict(family='Arial',\n",
    "                                        size=30,\n",
    "                                        color='rgb(37,37,37)'),\n",
    "                              showarrow=False))\n",
    "# Source\n",
    "annotations.append(dict(xref='paper', yref='paper', x=0.5, y=-0.1,\n",
    "                              xanchor='center', yanchor='top',\n",
    "                              text='Source: Twitter',\n",
    "                              font=dict(family='Arial',\n",
    "                                        size=10,\n",
    "                                        color='rgb(150,150,150)'),\n",
    "                              showarrow=False))\n",
    "\n",
    "fig.update_layout(annotations=annotations)\n",
    "\n",
    "fig.show()\n",
    "#pyo.iplot(fig)"
   ]
  },
  {
   "cell_type": "code",
   "execution_count": null,
   "metadata": {},
   "outputs": [],
   "source": []
  }
 ],
 "metadata": {
  "kernelspec": {
   "display_name": "Python 3",
   "language": "python",
   "name": "python3"
  },
  "language_info": {
   "codemirror_mode": {
    "name": "ipython",
    "version": 3
   },
   "file_extension": ".py",
   "mimetype": "text/x-python",
   "name": "python",
   "nbconvert_exporter": "python",
   "pygments_lexer": "ipython3",
   "version": "3.7.2"
  }
 },
 "nbformat": 4,
 "nbformat_minor": 4
}
