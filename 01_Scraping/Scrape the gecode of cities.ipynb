{
 "cells": [
  {
   "cell_type": "markdown",
   "metadata": {},
   "source": [
    "# Create a dataframe mapping cities to their geocode"
   ]
  },
  {
   "cell_type": "code",
   "execution_count": 30,
   "metadata": {},
   "outputs": [],
   "source": [
    "import pandas as pd\n",
    "import numpy as np\n",
    "from geopy.geocoders import Nominatim"
   ]
  },
  {
   "cell_type": "code",
   "execution_count": null,
   "metadata": {},
   "outputs": [],
   "source": []
  },
  {
   "cell_type": "code",
   "execution_count": 116,
   "metadata": {},
   "outputs": [],
   "source": [
    "# Initialize the dataframe\n",
    "df = pd.read_csv('cities.csv')\n",
    "df = df.replace({pd.np.nan: None})"
   ]
  },
  {
   "cell_type": "code",
   "execution_count": 117,
   "metadata": {},
   "outputs": [],
   "source": [
    "# Initialize APIs\n",
    "g = Nominatim(user_agent=\"Distance\", timeout=100)"
   ]
  },
  {
   "cell_type": "code",
   "execution_count": 68,
   "metadata": {},
   "outputs": [],
   "source": []
  },
  {
   "cell_type": "code",
   "execution_count": 112,
   "metadata": {},
   "outputs": [],
   "source": [
    "# Collecting stuff\n",
    "for i in range(df.shape[0]):\n",
    "    if df.iloc[i,1] is None:\n",
    "        try:\n",
    "            geocode = g.geocode(df.iloc[i,0])\n",
    "            df.iloc[i,1] = geocode[1]\n",
    "            df.iloc[i,2] = geocode[1][0]\n",
    "            df.iloc[i,3] = geocode[1][1]\n",
    "        except:\n",
    "            pass"
   ]
  },
  {
   "cell_type": "code",
   "execution_count": 106,
   "metadata": {},
   "outputs": [],
   "source": [
    "# df.iloc[6847]"
   ]
  },
  {
   "cell_type": "code",
   "execution_count": 103,
   "metadata": {},
   "outputs": [
    {
     "data": {
      "text/plain": [
       "(6838, 4)"
      ]
     },
     "execution_count": 103,
     "metadata": {},
     "output_type": "execute_result"
    }
   ],
   "source": [
    "df.shape"
   ]
  },
  {
   "cell_type": "code",
   "execution_count": 114,
   "metadata": {},
   "outputs": [
    {
     "data": {
      "text/html": [
       "<div>\n",
       "<style scoped>\n",
       "    .dataframe tbody tr th:only-of-type {\n",
       "        vertical-align: middle;\n",
       "    }\n",
       "\n",
       "    .dataframe tbody tr th {\n",
       "        vertical-align: top;\n",
       "    }\n",
       "\n",
       "    .dataframe thead th {\n",
       "        text-align: right;\n",
       "    }\n",
       "</style>\n",
       "<table border=\"1\" class=\"dataframe\">\n",
       "  <thead>\n",
       "    <tr style=\"text-align: right;\">\n",
       "      <th></th>\n",
       "      <th>cities</th>\n",
       "      <th>geocode</th>\n",
       "      <th>lat</th>\n",
       "      <th>lon</th>\n",
       "    </tr>\n",
       "  </thead>\n",
       "  <tbody>\n",
       "    <tr>\n",
       "      <td>0</td>\n",
       "      <td>Des Moines, IA</td>\n",
       "      <td>(41.5910641, -93.60371490000001)</td>\n",
       "      <td>41.5911</td>\n",
       "      <td>-93.6037</td>\n",
       "    </tr>\n",
       "    <tr>\n",
       "      <td>1</td>\n",
       "      <td>Thessaloniki</td>\n",
       "      <td>(40.6403167, 22.9352716)</td>\n",
       "      <td>40.6403</td>\n",
       "      <td>22.9353</td>\n",
       "    </tr>\n",
       "    <tr>\n",
       "      <td>2</td>\n",
       "      <td>Washington</td>\n",
       "      <td>(38.894893200000006, -77.0365529)</td>\n",
       "      <td>38.8949</td>\n",
       "      <td>-77.0366</td>\n",
       "    </tr>\n",
       "    <tr>\n",
       "      <td>3</td>\n",
       "      <td>Samana</td>\n",
       "      <td>(19.2648113, -69.4930017)</td>\n",
       "      <td>19.2648</td>\n",
       "      <td>-69.493</td>\n",
       "    </tr>\n",
       "    <tr>\n",
       "      <td>4</td>\n",
       "      <td>North Eleuthera</td>\n",
       "      <td>(25.3776694, -76.78426554397748)</td>\n",
       "      <td>25.3777</td>\n",
       "      <td>-76.7843</td>\n",
       "    </tr>\n",
       "    <tr>\n",
       "      <td>...</td>\n",
       "      <td>...</td>\n",
       "      <td>...</td>\n",
       "      <td>...</td>\n",
       "      <td>...</td>\n",
       "    </tr>\n",
       "    <tr>\n",
       "      <td>6833</td>\n",
       "      <td>HBE</td>\n",
       "      <td>(30.9174766, 29.6956462)</td>\n",
       "      <td>30.9175</td>\n",
       "      <td>29.6956</td>\n",
       "    </tr>\n",
       "    <tr>\n",
       "      <td>6834</td>\n",
       "      <td>Malina</td>\n",
       "      <td>(50.7716358, 29.245701)</td>\n",
       "      <td>50.7716</td>\n",
       "      <td>29.2457</td>\n",
       "    </tr>\n",
       "    <tr>\n",
       "      <td>6835</td>\n",
       "      <td>Katowice</td>\n",
       "      <td>(50.2137321, 19.00588775660632)</td>\n",
       "      <td>50.2137</td>\n",
       "      <td>19.0059</td>\n",
       "    </tr>\n",
       "    <tr>\n",
       "      <td>6836</td>\n",
       "      <td>Helsinki</td>\n",
       "      <td>(60.1674098, 24.9425769)</td>\n",
       "      <td>60.1674</td>\n",
       "      <td>24.9426</td>\n",
       "    </tr>\n",
       "    <tr>\n",
       "      <td>6837</td>\n",
       "      <td>Lga</td>\n",
       "      <td>(37.13258125, -8.45505094811731)</td>\n",
       "      <td>37.1326</td>\n",
       "      <td>-8.45505</td>\n",
       "    </tr>\n",
       "  </tbody>\n",
       "</table>\n",
       "<p>6838 rows × 4 columns</p>\n",
       "</div>"
      ],
      "text/plain": [
       "               cities                            geocode      lat      lon\n",
       "0      Des Moines, IA   (41.5910641, -93.60371490000001)  41.5911 -93.6037\n",
       "1        Thessaloniki           (40.6403167, 22.9352716)  40.6403  22.9353\n",
       "2          Washington  (38.894893200000006, -77.0365529)  38.8949 -77.0366\n",
       "3              Samana          (19.2648113, -69.4930017)  19.2648  -69.493\n",
       "4     North Eleuthera   (25.3776694, -76.78426554397748)  25.3777 -76.7843\n",
       "...               ...                                ...      ...      ...\n",
       "6833             HBE            (30.9174766, 29.6956462)  30.9175  29.6956\n",
       "6834           Malina            (50.7716358, 29.245701)  50.7716  29.2457\n",
       "6835        Katowice     (50.2137321, 19.00588775660632)  50.2137  19.0059\n",
       "6836        Helsinki            (60.1674098, 24.9425769)  60.1674  24.9426\n",
       "6837              Lga   (37.13258125, -8.45505094811731)  37.1326 -8.45505\n",
       "\n",
       "[6838 rows x 4 columns]"
      ]
     },
     "execution_count": 114,
     "metadata": {},
     "output_type": "execute_result"
    }
   ],
   "source": [
    "df"
   ]
  },
  {
   "cell_type": "code",
   "execution_count": 118,
   "metadata": {},
   "outputs": [],
   "source": [
    "df.to_csv('cities.csv',index=None)"
   ]
  }
 ],
 "metadata": {
  "kernelspec": {
   "display_name": "Python 3",
   "language": "python",
   "name": "python3"
  },
  "language_info": {
   "codemirror_mode": {
    "name": "ipython",
    "version": 3
   },
   "file_extension": ".py",
   "mimetype": "text/x-python",
   "name": "python",
   "nbconvert_exporter": "python",
   "pygments_lexer": "ipython3",
   "version": "3.7.4"
  }
 },
 "nbformat": 4,
 "nbformat_minor": 2
}
